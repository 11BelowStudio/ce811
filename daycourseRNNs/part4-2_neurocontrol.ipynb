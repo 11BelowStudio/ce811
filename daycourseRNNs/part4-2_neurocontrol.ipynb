{
 "cells": [
  {
   "cell_type": "markdown",
   "metadata": {
    "slideshow": {
     "slide_type": "slide"
    }
   },
   "source": [
    "# Neurocontrol with RNNs\n",
    "\n",
    "## IADS Summer School, 3rd August 2021\n",
    "\n",
    "### Dr Michael Fairbank, University of Essex, UK\n",
    "\n",
    "- Email: m.fairbank@essex.ac.uk\n",
    "- This is Jupyter Notebook 4.2 of the course"
   ]
  },
  {
   "cell_type": "markdown",
   "metadata": {
    "slideshow": {
     "slide_type": "slide"
    }
   },
   "source": [
    "### Power system controllers\n",
    "\n",
    "- I have created power system controllers using the same method by which we created the ant-brain today.\n",
    "\n",
    "    - Fairbank, Michael, et al. \"An adaptive recurrent neural-network controller using a stabilization matrix and predictive inputs to solve a tracking problem under disturbances.\" Neural Networks 49 (2014): 74-86.\n",
    "\n",
    "    - Li, Shuhui, et al. \"Neural-network vector controller for permanent-magnet synchronous motor drives: Simulated and hardware-validated results.\" IEEE transactions on cybernetics (2019)."
   ]
  },
  {
   "cell_type": "markdown",
   "metadata": {
    "slideshow": {
     "slide_type": "slide"
    }
   },
   "source": [
    "- A GCC circuit is used to connect an electricity generator (e.g. a wind turbine) to the mains electricity grid:\n",
    "<img src=\"images/gcc-schematic.png\"  width=\"400\">\n",
    "- For optimal energy efficiency, the currents $i_d$ and $i_q$ must be kept stable and close to their target values.  "
   ]
  },
  {
   "cell_type": "markdown",
   "metadata": {
    "slideshow": {
     "slide_type": "slide"
    }
   },
   "source": [
    "- The currents obey this equation, where $v_d$ and $v_q$ are values we can choose (these are the control variables).  \n",
    "<img src=\"images/gcc-equation.png\"  width=\"400\">\n",
    "    - $L$, $R$, $\\omega_s$, $v_{d1}$ and $v_{q1}$ were fixed constants."
   ]
  },
  {
   "cell_type": "markdown",
   "metadata": {
    "slideshow": {
     "slide_type": "slide"
    }
   },
   "source": [
    "- If we introduce a neural-network controller to choose $v_d$ and $v_q$ as a function of $i_d$ and $i_q$ then the whole system generates a recurrence similar to the ant controller:\n",
    "<img src=\"images/gcc-recurrence.png\"  width=\"600\">"
   ]
  },
  {
   "cell_type": "markdown",
   "metadata": {
    "slideshow": {
     "slide_type": "slide"
    }
   },
   "source": [
    "- We optimised a loss function penalising the difference squared between the currents ($i_d$ and $i_q$) and their (moving) targets ($i_d^*$ and $i_q^*$):\n",
    "<img src=\"images/gcc-result.png\"  width=\"600\">"
   ]
  },
  {
   "cell_type": "markdown",
   "metadata": {
    "slideshow": {
     "slide_type": "slide"
    }
   },
   "source": [
    "### Neuropilot\n",
    "\n",
    "I previously created this demo using a similar method to which we created the ant-brain today:\n",
    "\n",
    "<img src=\"images/neuropilot3_small.gif\" alt=\"neuropilot\" width=\"400\">"
   ]
  },
  {
   "cell_type": "markdown",
   "metadata": {
    "slideshow": {
     "slide_type": "slide"
    }
   },
   "source": [
    "The spaceship learns to fly using a pair of range-finding scanners.  These are directed by the neural network.\n",
    "\n",
    "It was trained to minimise a cost $J$ where\n",
    "$$J=k_1 * (distance\\ to\\ landing\\ pad) + k_2 * (crash\\ speed)^2 +k_3*(fuel\\ used)$$\n",
    "\n",
    "The neural network architecture used is much the same as the ant-brain, but includes some extra outputs to direct the scanners.  Plus the physics environment was more complicated, having walls and gravity."
   ]
  },
  {
   "cell_type": "markdown",
   "metadata": {
    "slideshow": {
     "slide_type": "slide"
    }
   },
   "source": [
    "\n",
    "<img src=\"images/neuropilot_schematics.png\" width=600>\n",
    "This demo was completed in 2008.  It includes rudimentary versions of:\n",
    " - physical control,\n",
    " - vision, \n",
    " - mental mapping of an environment, \n",
    " - algorithmic discovery of the scan-sweep strategy, \n",
    " - meta-learning."
   ]
  }
 ],
 "metadata": {
  "kernelspec": {
   "display_name": "Python 3",
   "language": "python",
   "name": "python3"
  },
  "language_info": {
   "codemirror_mode": {
    "name": "ipython",
    "version": 3
   },
   "file_extension": ".py",
   "mimetype": "text/x-python",
   "name": "python",
   "nbconvert_exporter": "python",
   "pygments_lexer": "ipython3",
   "version": "3.8.10"
  }
 },
 "nbformat": 4,
 "nbformat_minor": 4
}
