{
 "cells": [
  {
   "cell_type": "markdown",
   "metadata": {},
   "source": [
    "# CE811 Multi-Armed Bandit Simulator Notebook\n",
    "# (Working with UCB1 and Seaborn)\n",
    "November 2021.  Dr Michael Fairbank. \n",
    "University of Essex.\n",
    "\n",
    "## Running a Multi-Armed Bandit simulation\n",
    "\n",
    "- Objectives: Learn more about expectation, UCB1, and Epsilon-Greedy Policy.\n",
    "- Co-objective: Learn about plotting graphs for experimental results in Pandas + Seaborn.  This might help you in Assignment 2.\n",
    "\n",
    "Instructions: Go through each code block, study and make sure you understand each of them, and fill in **the three** missing \"TODO\" parts.\n",
    "\n",
    "## Before you start\n",
    "- Check you have the python packages numpy, seaborn and pandas installed.\n",
    "- e.g. install them with \"pip3 install numpy, matplotlib, seaborn, pandas\""
   ]
  },
  {
   "cell_type": "markdown",
   "metadata": {},
   "source": [
    "## Program each bandit\n",
    "\n",
    "- We're not meant to know what goes on inside each bandit, but we have to program them somehow.\n",
    "\n",
    "- Every bandit has 3 internal variables - [bandit_prob_success, bandit_mean, bandit_sd]\n",
    "\n",
    "- Study this code block, but do not alter it\n",
    "\n",
    "edited it to raise ValueError because IllegalArgumentException isn't a thing in Python\n"
   ]
  },
  {
   "cell_type": "code",
   "execution_count": 41,
   "metadata": {},
   "outputs": [],
   "source": [
    "import math\n",
    "import random\n",
    "\n",
    "import numpy as np\n",
    "\n",
    "bandit_behaviours=[[0.5,1,.4],[0.7,.2,0.05],[0.2,4,.4]] # Secret settings for each machine.\n",
    "num_bandits=len(bandit_behaviours) # 3 machines in this example\n",
    "\n",
    "def run_bandit(bandit_number):\n",
    "    if bandit_number<0 or bandit_number>=len(bandit_behaviours):\n",
    "        raise ValueError('Invalid Bandit Number')\n",
    "    [bandit_prob_payout, bandit_mean, bandit_sd]=bandit_behaviours[bandit_number]\n",
    "    if np.random.rand()<bandit_prob_payout:\n",
    "        # This bandit will pay out something on this attempt.\n",
    "        # Generate a random number, from the normal distribution,\n",
    "        # with required mean and standard-deviation for this bandit.\n",
    "        payout=np.random.normal(loc=bandit_mean, scale=bandit_sd)\n",
    "    else:\n",
    "        # this bandit did not give out anything on this attempt\n",
    "        payout=0.0\n",
    "    return payout\n",
    "    "
   ]
  },
  {
   "cell_type": "markdown",
   "metadata": {},
   "source": [
    "## Calculate expectations of payouts\n",
    "\n",
    "- Edit the code below to calculate the expectation of the payout for each machine.  \n",
    "\n",
    "- Should get an answer 0.5,0.14,0.8, meaning that the 3rd machine is the best one to play long term, and also meaning that the best long-term average payoff we can ever hope for is 0.8.\n",
    "\n",
    "- Again, this is not something we are meant to know about the bandit machines."
   ]
  },
  {
   "cell_type": "code",
   "execution_count": 42,
   "metadata": {},
   "outputs": [
    {
     "name": "stdout",
     "output_type": "stream",
     "text": [
      "Bandit 0 Expected Payout 0.5\n",
      "Bandit 1 Expected Payout 0.13999999999999999\n",
      "Bandit 2 Expected Payout 0.8\n"
     ]
    }
   ],
   "source": [
    "def calc_expected_payout(bandit_prob_payout, bandit_mean, bandit_sd):\n",
    "\n",
    "    #upper_bound = bandit_mean + bandit_sd\n",
    "    #lower_bound = bandit_mean - bandit_sd\n",
    "\n",
    "    #overall = bandit_prob_payout * ((upper_bound + lower_bound)/2)\n",
    "\n",
    "    overall = bandit_prob_payout * bandit_mean\n",
    "\n",
    "    return overall # TODO fix this\n",
    "\n",
    "for bandit_number in range(num_bandits):\n",
    "    [bandit_prob_payout, bandit_mean, bandit_sd]=bandit_behaviours[bandit_number]\n",
    "    expected_payout=calc_expected_payout(bandit_prob_payout, bandit_mean, bandit_sd)\n",
    "    print(\"Bandit\",bandit_number,\"Expected Payout\",expected_payout)"
   ]
  },
  {
   "cell_type": "markdown",
   "metadata": {},
   "source": [
    "## Program the UCB1 and Epsilon-Greedy strategies\n",
    "\n",
    "- Update the code below to include the UCB1 strategy with argument c, and epsilon-greedy policy with argument epsilon.\n",
    "- Note that the passed in arguments num_plays_per_bandit, total_payout_per_bandit are both numpy arrays (of length=num_bandits), so it is possible to do fast computation on them using np.sqrt, np.log, np.argmax.  You will need to explicitly compute the mean_payout of each machine so far, e.g. by using a fast numpy vector-vector divide.\n",
    "- Reminder: the UCB1 formula is $UCB1=V_i+c \\sqrt{\\frac{log_e(N)}{N_i}}$, where $V_i$ is the average payout so far of machine $i$, $N_i$ is the number of times machine number $i$ has been played so far, $N$ is the total number of times all machines have been played so far (So $N=\\sum_i N_i$), and $c$ is an exploration constant."
   ]
  },
  {
   "cell_type": "code",
   "execution_count": 43,
   "metadata": {},
   "outputs": [],
   "source": [
    "\n",
    "\n",
    "def run_strategy_ucb1(num_plays_per_bandit, total_payout_per_bandit,c):\n",
    "    num_bandits=len(num_plays_per_bandit)\n",
    "    assert len(total_payout_per_bandit)==len(num_plays_per_bandit)\n",
    "    # on entry, num_plays_per_bandit and total_payout_per_bandit are numpy arrays of shape [num_bandits].\n",
    "    # TODO insert code here.  It needs to run the UCB1 algorithm, with constant c, and return the integer\n",
    "    # number of the bandit to play next.   It does NOT need to update the arrays num_plays_per_bandit etc.\n",
    "\n",
    "    #mean_per_bandit: np.ndarray = np.divide(total_payout_per_bandit, num_plays_per_bandit)\n",
    "\n",
    "    #logn_per_bandit: np.ndarray = np.multiply(np.sqrt(np.divide(np.log(np.sum(num_plays_per_bandit)), num_plays_per_bandit)), c)\n",
    "\n",
    "    #return np.add(mean_per_bandit, logn_per_bandit).argmax(axis=0)\n",
    "    return np.add(\n",
    "        np.divide(total_payout_per_bandit, num_plays_per_bandit),\n",
    "        np.multiply(np.sqrt(np.divide(np.log(np.sum(num_plays_per_bandit)), num_plays_per_bandit)), c)\n",
    "    ).argmax(axis=0)\n",
    "\n",
    "def run_strategy_random(num_plays_per_bandit, total_payout_per_bandit):\n",
    "    num_bandits=len(num_plays_per_bandit)\n",
    "    assert len(total_payout_per_bandit)==len(num_plays_per_bandit)\n",
    "    # on entry, num_plays_per_bandit and total_payout_per_bandit are numpy arrays of shape [num_bandits].\n",
    "    return np.random.randint(num_bandits)\n",
    "\n",
    "def run_strategy_epsilon_greedy(num_plays_per_bandit, total_payout_per_bandit, epsilon):\n",
    "    num_bandits=len(num_plays_per_bandit)\n",
    "    assert len(total_payout_per_bandit)==len(num_plays_per_bandit)\n",
    "    # on entry, num_plays_per_bandit and total_payout_per_bandit are numpy arrays of shape [num_bandits].\n",
    "    # TODO insert code here.  It needs to run the epsilon-greedy algorithm, with constant epsilon, \n",
    "    # and return an integer number of the bandit to play next.   \n",
    "    # It does NOT need to update the arrays num_plays_per_bandit etc.\n",
    "    if np.random.rand() < epsilon:\n",
    "        return np.random.randint(num_bandits)\n",
    "    else:\n",
    "        return total_payout_per_bandit.argmax(axis=0)"
   ]
  },
  {
   "cell_type": "markdown",
   "metadata": {},
   "source": [
    "## Run main experiment loop"
   ]
  },
  {
   "cell_type": "code",
   "execution_count": 44,
   "metadata": {},
   "outputs": [
    {
     "name": "stdout",
     "output_type": "stream",
     "text": [
      "Trial   1/100 done\n",
      "Trial   2/100 done\n",
      "Trial   3/100 done\n",
      "Trial   4/100 done\n",
      "Trial   5/100 done\n",
      "Trial   6/100 done\n",
      "Trial   7/100 done\n",
      "Trial   8/100 done\n",
      "Trial   9/100 done\n",
      "Trial  10/100 done\n",
      "Trial  11/100 done\n",
      "Trial  12/100 done\n",
      "Trial  13/100 done\n",
      "Trial  14/100 done\n",
      "Trial  15/100 done\n",
      "Trial  16/100 done\n",
      "Trial  17/100 done\n",
      "Trial  18/100 done\n",
      "Trial  19/100 done\n",
      "Trial  20/100 done\n",
      "Trial  21/100 done\n",
      "Trial  22/100 done\n",
      "Trial  23/100 done\n",
      "Trial  24/100 done\n",
      "Trial  25/100 done\n",
      "Trial  26/100 done\n",
      "Trial  27/100 done\n",
      "Trial  28/100 done\n",
      "Trial  29/100 done\n",
      "Trial  30/100 done\n",
      "Trial  31/100 done\n",
      "Trial  32/100 done\n",
      "Trial  33/100 done\n",
      "Trial  34/100 done\n",
      "Trial  35/100 done\n",
      "Trial  36/100 done\n",
      "Trial  37/100 done\n",
      "Trial  38/100 done\n",
      "Trial  39/100 done\n",
      "Trial  40/100 done\n",
      "Trial  41/100 done\n",
      "Trial  42/100 done\n",
      "Trial  43/100 done\n",
      "Trial  44/100 done\n",
      "Trial  45/100 done\n",
      "Trial  46/100 done\n",
      "Trial  47/100 done\n",
      "Trial  48/100 done\n",
      "Trial  49/100 done\n",
      "Trial  50/100 done\n",
      "Trial  51/100 done\n",
      "Trial  52/100 done\n",
      "Trial  53/100 done\n",
      "Trial  54/100 done\n",
      "Trial  55/100 done\n",
      "Trial  56/100 done\n",
      "Trial  57/100 done\n",
      "Trial  58/100 done\n",
      "Trial  59/100 done\n",
      "Trial  60/100 done\n",
      "Trial  61/100 done\n",
      "Trial  62/100 done\n",
      "Trial  63/100 done\n",
      "Trial  64/100 done\n",
      "Trial  65/100 done\n",
      "Trial  66/100 done\n",
      "Trial  67/100 done\n",
      "Trial  68/100 done\n",
      "Trial  69/100 done\n",
      "Trial  70/100 done\n",
      "Trial  71/100 done\n",
      "Trial  72/100 done\n",
      "Trial  73/100 done\n",
      "Trial  74/100 done\n",
      "Trial  75/100 done\n",
      "Trial  76/100 done\n",
      "Trial  77/100 done\n",
      "Trial  78/100 done\n",
      "Trial  79/100 done\n",
      "Trial  80/100 done\n",
      "Trial  81/100 done\n",
      "Trial  82/100 done\n",
      "Trial  83/100 done\n",
      "Trial  84/100 done\n",
      "Trial  85/100 done\n",
      "Trial  86/100 done\n",
      "Trial  87/100 done\n",
      "Trial  88/100 done\n",
      "Trial  89/100 done\n",
      "Trial  90/100 done\n",
      "Trial  91/100 done\n",
      "Trial  92/100 done\n",
      "Trial  93/100 done\n",
      "Trial  94/100 done\n",
      "Trial  95/100 done\n",
      "Trial  96/100 done\n",
      "Trial  97/100 done\n",
      "Trial  98/100 done\n",
      "Trial  99/100 done\n",
      "Trial 100/100 done\n"
     ]
    }
   ],
   "source": [
    "result_data=[]\n",
    "trial_count: int = 100\n",
    "for trial in range(trial_count): # we are running each set of parameters a large number of times to get statistically signficant results.\n",
    "    for [alg,alg_argument] in [[\"UCB1\",0],[\"UCB1\",1],[\"UCB1\",2],[\"RANDOM\",0],[\"EGREEDY\",0.1],[\"EGREEDY\",0.3], [\"UCB1\",math.sqrt(2)]]:\n",
    "        algorithm_name=alg+\"(\"+str(alg_argument)+\")\"\n",
    "        \n",
    "        # Run every bandit once before we start properly:\n",
    "        total_payout_per_bandit=np.array([run_bandit(i) for i in range(num_bandits)])\n",
    "        num_plays_per_bandit=np.array([1.0]*3)\n",
    "        \n",
    "        # Now run chosen algorithm 10000 times:\n",
    "        for iteration in range(10000):\n",
    "            if alg==\"UCB1\":\n",
    "                bandit_choice=run_strategy_ucb1(num_plays_per_bandit, total_payout_per_bandit,alg_argument)\n",
    "            elif alg==\"EGREEDY\":\n",
    "                bandit_choice=run_strategy_epsilon_greedy(num_plays_per_bandit, total_payout_per_bandit,alg_argument)\n",
    "            elif alg==\"RANDOM\":\n",
    "                bandit_choice=run_strategy_random(num_plays_per_bandit, total_payout_per_bandit)\n",
    "            payout=run_bandit(bandit_choice)\n",
    "            # Update the 2 statistics arrays:\n",
    "            total_payout_per_bandit[bandit_choice]+=payout\n",
    "            num_plays_per_bandit[bandit_choice]+=1\n",
    "            \n",
    "            # Record the data into a results list, for plotting purposes.\n",
    "            # Only record every 100th row for now, to save space + improve speed.\n",
    "            if iteration%100==0: \n",
    "                result_data.append([algorithm_name, trial, iteration, total_payout_per_bandit.sum()/num_plays_per_bandit.sum(),bandit_choice])\n",
    "    print(\"Trial {:3d}/{:3d} done\".format(trial+1, trial_count))"
   ]
  },
  {
   "cell_type": "markdown",
   "metadata": {},
   "source": [
    "## Convert code to pandas dataframe\n",
    "\n",
    "- Pandas is a python library that helps you manipulate large blocks of data in a convenient way, https://pandas.pydata.org/\n",
    "- Pandas is a major tool in the machine-learning python libraries, e.g. see https://www.youtube.com/watch?v=dPwLlJkSHLo&t=652s to learn more\n",
    "- The code block below puts our experiment data into a pandas \"dataframe\"\n",
    "- It also saves the data into a csv file. So we can do post-processing and graphing in a different program if necessary.\n",
    "- Make sure you open the CSV file to have a look at the contents."
   ]
  },
  {
   "cell_type": "code",
   "execution_count": 45,
   "metadata": {},
   "outputs": [
    {
     "name": "stdout",
     "output_type": "stream",
     "text": [
      "  Algorithm_Name  trial  iter  av_payout  Choice\n",
      "0        UCB1(0)      0     0   0.538575       0\n",
      "1        UCB1(0)      0   100   0.424141       0\n",
      "2        UCB1(0)      0   200   0.442362       0\n",
      "3        UCB1(0)      0   300   0.477148       0\n",
      "4        UCB1(0)      0   400   0.492328       0\n"
     ]
    }
   ],
   "source": [
    "import pandas as pd\n",
    "df = pd.DataFrame(columns=['Algorithm_Name','trial','iter','av_payout','Choice'],data=result_data)\n",
    "print(df.head()) # print the first 5 rows to check it looks okay\n",
    "df.to_csv(\"experimental_raw_data.csv\") # save data to a csv file "
   ]
  },
  {
   "cell_type": "markdown",
   "metadata": {},
   "source": [
    "### Once data is in pandas, you can manipulate it with sql-like queries"
   ]
  },
  {
   "cell_type": "code",
   "execution_count": 46,
   "metadata": {},
   "outputs": [
    {
     "data": {
      "text/plain": "     Algorithm_Name  trial  iter  av_payout  Choice\n2200        UCB1(1)      3     0   1.706888       2\n2201        UCB1(1)      3   100   0.821319       2\n2202        UCB1(1)      3   200   0.783429       2\n2203        UCB1(1)      3   300   0.690889       2\n2204        UCB1(1)      3   400   0.624381       2",
      "text/html": "<div>\n<style scoped>\n    .dataframe tbody tr th:only-of-type {\n        vertical-align: middle;\n    }\n\n    .dataframe tbody tr th {\n        vertical-align: top;\n    }\n\n    .dataframe thead th {\n        text-align: right;\n    }\n</style>\n<table border=\"1\" class=\"dataframe\">\n  <thead>\n    <tr style=\"text-align: right;\">\n      <th></th>\n      <th>Algorithm_Name</th>\n      <th>trial</th>\n      <th>iter</th>\n      <th>av_payout</th>\n      <th>Choice</th>\n    </tr>\n  </thead>\n  <tbody>\n    <tr>\n      <th>2200</th>\n      <td>UCB1(1)</td>\n      <td>3</td>\n      <td>0</td>\n      <td>1.706888</td>\n      <td>2</td>\n    </tr>\n    <tr>\n      <th>2201</th>\n      <td>UCB1(1)</td>\n      <td>3</td>\n      <td>100</td>\n      <td>0.821319</td>\n      <td>2</td>\n    </tr>\n    <tr>\n      <th>2202</th>\n      <td>UCB1(1)</td>\n      <td>3</td>\n      <td>200</td>\n      <td>0.783429</td>\n      <td>2</td>\n    </tr>\n    <tr>\n      <th>2203</th>\n      <td>UCB1(1)</td>\n      <td>3</td>\n      <td>300</td>\n      <td>0.690889</td>\n      <td>2</td>\n    </tr>\n    <tr>\n      <th>2204</th>\n      <td>UCB1(1)</td>\n      <td>3</td>\n      <td>400</td>\n      <td>0.624381</td>\n      <td>2</td>\n    </tr>\n  </tbody>\n</table>\n</div>"
     },
     "execution_count": 46,
     "metadata": {},
     "output_type": "execute_result"
    }
   ],
   "source": [
    "# create a new dataframe, df2, which is a subset of the rows in the original dataframe\n",
    "df2=df.query(\"trial==3 and Algorithm_Name=='UCB1(1)'\")\n",
    "# print out the first 5 rows of the new dataframe...\n",
    "df2.head()"
   ]
  },
  {
   "cell_type": "markdown",
   "metadata": {},
   "source": [
    "### We could use matplotlib + pandas to plot individual curves...\n",
    "\n",
    "- Reminder: We previously saw how matplotlib can be used to plot graphs in labs 2+3.\n",
    "- Really this next block should be a different program in the pipeline, hence we'd want to load our experimental data from the csv file - uncomment out the first line to achieve this\n",
    "- Here we use matplotlib to plot results from several trials, as follows:"
   ]
  },
  {
   "cell_type": "code",
   "execution_count": 47,
   "metadata": {},
   "outputs": [
    {
     "data": {
      "text/plain": "<Figure size 432x288 with 1 Axes>",
      "image/png": "[encoded data removed]"
     },
     "metadata": {},
     "output_type": "display_data"
    }
   ],
   "source": [
    "# df=pd.read_csv(\"experimental_raw_data.csv\") \n",
    "import matplotlib.pyplot as plt\n",
    "num_trials=df.trial.max() # This tells us what the maximum value of the \"trial\" column is in the dataframe.\n",
    "for t in range(5):\n",
    "    df2=df.query(\"trial==\"+str(t)+\" and Algorithm_Name=='UCB1(1)'\")\n",
    "    plt.plot(df2[\"iter\"],df2[\"av_payout\"], label=\"trial\"+str(t))\n",
    "plt.legend()\n",
    "plt.grid()\n"
   ]
  },
  {
   "cell_type": "markdown",
   "metadata": {},
   "source": [
    "## Plot summary graphs with seaborn\n",
    "\n",
    "In the above graphs, we don't care so much about the individual curves from each trial, but more so about their aggregate properties.  We want to see the mean of the trials for each experimental setup, and how much spread there is.  \n",
    "\n",
    "- For this, we will use another python library, Seaborn, https://seaborn.pydata.org/\n",
    "- Seaborn is very good for plotting the contents of a pandas dataframe, showing one variable against another, and splitting the data into several different curves based on a 3rd variable - each curve having a different \"hue\".  This is fantastic for seeing the effect that changing the 3rd variable has on the y-variable.\n",
    "- Seaborn also aggregates all of the trials we did for any combination of parameters, and shows the resulting average of all of those trials - so it is very good for only showing statistically significant results.  Better than plotting the curves individually like was done in the above block.\n",
    "- Also if you remove the ci=None, then it will plot \"confidence intervals\" too onto your graph, which is the standard error showing uncertainty in the average curves plotted.  However the confidence-intervals calculation is very slow - I suggest, for speed, that you only include every 100th row of data if you want confidence intervals plotting.\n"
   ]
  },
  {
   "cell_type": "code",
   "execution_count": 48,
   "metadata": {},
   "outputs": [
    {
     "data": {
      "text/plain": "<Figure size 432x288 with 1 Axes>",
      "image/png": "[encoded data removed]"
     },
     "metadata": {},
     "output_type": "display_data"
    }
   ],
   "source": [
    "# df=pd.read_csv(\"experimental_raw_data.csv\") \n",
    "import seaborn as sns\n",
    "import matplotlib as mpl\n",
    "palette=sns.color_palette()\n",
    "sns.set_style(\"whitegrid\")\n",
    "snsplt = sns.lineplot(data=df, x=\"iter\",  y=\"av_payout\", hue=\"Algorithm_Name\", ci=None)\n",
    "snsplt.set(xlabel='Iteration', ylabel='Average Payout')\n",
    "fig = snsplt.get_figure()\n",
    "fig.suptitle(\"Results on 3-armed Bandit Problem (optimal payout 0.8)\", fontsize=12,y=0.93)\n",
    "fig.savefig(\"result_graph.pdf\")"
   ]
  },
  {
   "cell_type": "markdown",
   "metadata": {},
   "source": [
    "Look at the graph above and work out which algorithm gets closest to optimal payout (0.8) the fastest."
   ]
  },
  {
   "cell_type": "markdown",
   "metadata": {},
   "source": [
    "### Final Tidy up of Graphs and Boost the Sample sizes\n",
    "\n",
    "- Increase the number of trials in the main experimental loop from 20 to 100, to achieve something that has greater statistical signficance.\n",
    "\n",
    "- Note that while developing, for speed, we want the number of trials to be low.  But at the end of development, always increase it, to make your results more trust-worthy."
   ]
  }
 ],
 "metadata": {
  "kernelspec": {
   "display_name": "Python 3",
   "language": "python",
   "name": "python3"
  },
  "language_info": {
   "codemirror_mode": {
    "name": "ipython",
    "version": 3
   },
   "file_extension": ".py",
   "mimetype": "text/x-python",
   "name": "python",
   "nbconvert_exporter": "python",
   "pygments_lexer": "ipython3",
   "version": "3.8.10"
  }
 },
 "nbformat": 4,
 "nbformat_minor": 4
}