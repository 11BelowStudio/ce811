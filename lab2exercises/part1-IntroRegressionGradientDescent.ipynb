{
 "cells": [
  {
   "cell_type": "markdown",
   "metadata": {
    "slideshow": {
     "slide_type": "slide"
    }
   },
   "source": [
    "# A very quick introduction to Automatic Differention and Gradient Descent\n",
    "\n",
    "## Example: using Gradient Descent to solve a Linear Regression Problem\n",
    "\n",
    "## Part of CE811, University of Essex, 2020\n",
    "\n",
    "### Dr Michael Fairbank, University of Essex, UK\n",
    "\n",
    "- Email: m.fairbank@essex.ac.uk\n"
   ]
  },
  {
   "cell_type": "markdown",
   "metadata": {
    "slideshow": {
     "slide_type": "slide"
    }
   },
   "source": [
    "## Build a scatter diagram\n",
    "\n",
    "- First build some datapoints for a simple linear regression example..."
   ]
  },
  {
   "cell_type": "code",
   "execution_count": 1,
   "metadata": {
    "slideshow": {
     "slide_type": "fragment"
    }
   },
   "outputs": [],
   "source": [
    "import numpy as np\n",
    "import math\n",
    "import matplotlib.pyplot as plt\n",
    "\n",
    "# dataset for a simple regression problem (1 input 1 output):\n",
    "import tensorflow.python.ops.resource_variable_ops\n",
    "\n",
    "dataset_size: int =10\n",
    "noise_level: int = 1\n",
    "np.random.seed(1) # Seed the random number generator so the whole class have consistent results\n",
    "x_train: np.float32 =(np.random.rand(dataset_size,1)*5+2).astype(np.float32)\n",
    "y_train: np.float32 = (3*x_train+1+np.random.normal(scale=noise_level, size=(dataset_size,1))).astype(np.float32)"
   ]
  },
  {
   "cell_type": "code",
   "execution_count": 2,
   "metadata": {
    "slideshow": {
     "slide_type": "slide"
    }
   },
   "outputs": [
    {
     "name": "stdout",
     "output_type": "stream",
     "text": [
      "x_train (10, 1) [[4.08511  ]\n",
      " [5.6016226]\n",
      " [2.000572 ]\n",
      " [3.511663 ]\n",
      " [2.7337794]\n",
      " [2.461693 ]\n",
      " [2.931301 ]\n",
      " [3.7278037]\n",
      " [3.9838374]\n",
      " [4.6940837]]\n",
      "y_train (10, 1) [[15.000143 ]\n",
      " [17.04366  ]\n",
      " [ 7.3207545]\n",
      " [11.285618 ]\n",
      " [10.663445 ]\n",
      " [ 6.324939 ]\n",
      " [ 9.471486 ]\n",
      " [11.799356 ]\n",
      " [14.085281 ]\n",
      " [13.982359 ]]\n"
     ]
    }
   ],
   "source": [
    "print(\"x_train\",x_train.shape, x_train)\n",
    "print(\"y_train\",y_train.shape, y_train)"
   ]
  },
  {
   "cell_type": "code",
   "execution_count": 3,
   "metadata": {
    "slideshow": {
     "slide_type": "slide"
    }
   },
   "outputs": [
    {
     "data": {
      "text/plain": "<matplotlib.collections.PathCollection at 0x21411216bb0>"
     },
     "execution_count": 3,
     "metadata": {},
     "output_type": "execute_result"
    },
    {
     "data": {
      "text/plain": "<Figure size 432x288 with 1 Axes>",
      "image/png": "[encoded data removed]"
     },
     "metadata": {
      "needs_background": "light"
     },
     "output_type": "display_data"
    }
   ],
   "source": [
    "# show training set\n",
    "plt.scatter(x_train, y_train)"
   ]
  },
  {
   "cell_type": "markdown",
   "metadata": {
    "slideshow": {
     "slide_type": "slide"
    }
   },
   "source": [
    "## Build a linear regression model\n",
    "- We will build a linear regression model $y=wx+b$ to try to fit the data.  \n",
    "- We don't know what $w$ and $b$ are yet though."
   ]
  },
  {
   "cell_type": "code",
   "execution_count": 4,
   "metadata": {
    "slideshow": {
     "slide_type": "fragment"
    }
   },
   "outputs": [
    {
     "name": "stdout",
     "output_type": "stream",
     "text": [
      "tf.Tensor(\n",
      "[[0.]\n",
      " [0.]\n",
      " [0.]\n",
      " [0.]\n",
      " [0.]\n",
      " [0.]\n",
      " [0.]\n",
      " [0.]\n",
      " [0.]\n",
      " [0.]], shape=(10, 1), dtype=float32)\n",
      "[[0.]\n",
      " [0.]\n",
      " [0.]\n",
      " [0.]\n",
      " [0.]\n",
      " [0.]\n",
      " [0.]\n",
      " [0.]\n",
      " [0.]\n",
      " [0.]]\n"
     ]
    }
   ],
   "source": [
    "import tensorflow as tf\n",
    "\n",
    "w = tf.Variable(0.0, tf.float32)\n",
    "b = tf.Variable(0.0, tf.float32)\n",
    "\n",
    "def model(x):\n",
    "    \"\"\"\n",
    "    What the model thinks the Y coordinate should be after being given x\n",
    "\n",
    "    result is (x * w) + b\n",
    "\n",
    "    *   w is gradient (to be trained)\n",
    "    *   b is y-intercept (also to be trained)\n",
    "    :param x: the input\n",
    "    :return: (x * w) + b\n",
    "    \"\"\"\n",
    "    return x*w+b\n",
    "\n",
    "print(model(x_train))\n",
    "# Just doing this prints it in tensorflow.tensor format (ugly, lots of extra data)\n",
    "\n",
    "print(model(x_train).numpy())\n",
    "# doing it like this prints it as a numpy object (less ugly)"
   ]
  },
  {
   "cell_type": "markdown",
   "metadata": {
    "slideshow": {
     "slide_type": "slide"
    }
   },
   "source": [
    "Let's show how our model depends upon $w$:"
   ]
  },
  {
   "cell_type": "code",
   "execution_count": 5,
   "metadata": {
    "slideshow": {
     "slide_type": "fragment"
    }
   },
   "outputs": [
    {
     "name": "stdout",
     "output_type": "stream",
     "text": [
      "tf.Tensor(\n",
      "[[0.408511  ]\n",
      " [0.56016225]\n",
      " [0.2000572 ]\n",
      " [0.3511663 ]\n",
      " [0.27337795]\n",
      " [0.24616931]\n",
      " [0.29313013]\n",
      " [0.37278038]\n",
      " [0.39838374]\n",
      " [0.46940836]], shape=(10, 1), dtype=float32)\n",
      "[[0.408511  ]\n",
      " [0.56016225]\n",
      " [0.2000572 ]\n",
      " [0.3511663 ]\n",
      " [0.27337795]\n",
      " [0.24616931]\n",
      " [0.29313013]\n",
      " [0.37278038]\n",
      " [0.39838374]\n",
      " [0.46940836]]\n"
     ]
    }
   ],
   "source": [
    "w.assign(0.1)\n",
    "print(model(x_train))\n",
    "\n",
    "print(model(x_train).numpy())"
   ]
  },
  {
   "cell_type": "markdown",
   "metadata": {
    "slideshow": {
     "slide_type": "slide"
    }
   },
   "source": [
    "- In the cell below, try to print what the model outputs given input x=0.65.\n",
    "    - **Try This** (Check: we should get 0.065)\n",
    "    \n",
    "- Remember in Jupyter Notebooks you can use \"menu:cell:run cells\" to run the currently highlighted cells.\n",
    "        - the same can be achieved with ctrl+Enter\n",
    "    - Also in Jupyter, in some notebooks you might need to \"Menu:Cell:run all\" to refresh all variables in the correct order\n",
    "        - or even use \"Kernel: Restart and run all\""
   ]
  },
  {
   "cell_type": "code",
   "execution_count": 6,
   "metadata": {
    "slideshow": {
     "slide_type": "fragment"
    }
   },
   "outputs": [
    {
     "name": "stdout",
     "output_type": "stream",
     "text": [
      "0.065\n"
     ]
    }
   ],
   "source": [
    "# done putting some code here\n",
    "\n",
    "print(model(0.65).numpy())\n"
   ]
  },
  {
   "cell_type": "markdown",
   "metadata": {
    "slideshow": {
     "slide_type": "fragment"
    }
   },
   "source": [
    "- **Try This**: Change b to 0.2 and evaluate the model given input x=0.65"
   ]
  },
  {
   "cell_type": "code",
   "execution_count": 7,
   "metadata": {
    "slideshow": {
     "slide_type": "fragment"
    }
   },
   "outputs": [
    {
     "name": "stdout",
     "output_type": "stream",
     "text": [
      "0.265\n"
     ]
    }
   ],
   "source": [
    "# done putting some code here\n",
    "\n",
    "b = tf.Variable(0.2, tf.float32)\n",
    "\n",
    "print(model(0.65).numpy())"
   ]
  },
  {
   "cell_type": "markdown",
   "metadata": {
    "slideshow": {
     "slide_type": "slide"
    }
   },
   "source": [
    "### Define a \"loss function\" \n",
    "- To apply gradient descent, we need to define a loss function.\n",
    "- This loss function calculates how well the model is doing\n",
    "- We will manually encode the mean-squared error\n",
    "\n",
    "aiming to minimize 'residual error' (sum of square error)"
   ]
  },
  {
   "cell_type": "code",
   "execution_count": 8,
   "metadata": {
    "slideshow": {
     "slide_type": "fragment"
    }
   },
   "outputs": [
    {
     "name": "stdout",
     "output_type": "stream",
     "text": [
      "tf.Tensor(133.95712, shape=(), dtype=float32)\n"
     ]
    }
   ],
   "source": [
    "def loss_function(x ,y):\n",
    "    \"\"\"\n",
    "    :param x: input to give the model\n",
    "    :param y: expected output from the model.\n",
    "    :return: mean squared error of model(x)-y\n",
    "    \"\"\"\n",
    "    return tf.reduce_mean(tf.square(model(x)-y))\n",
    "\n",
    "print(loss_function(x_train, y_train))"
   ]
  },
  {
   "cell_type": "markdown",
   "metadata": {
    "slideshow": {
     "slide_type": "fragment"
    }
   },
   "source": [
    "- **Try this:**\n",
    "    - In the cell below, evaluate the loss function when x=1 and the output is supposedly 4.\n",
    "    - Compare this to the actual model output when x=1"
   ]
  },
  {
   "cell_type": "code",
   "execution_count": 9,
   "metadata": {
    "slideshow": {
     "slide_type": "fragment"
    }
   },
   "outputs": [
    {
     "name": "stdout",
     "output_type": "stream",
     "text": [
      "loss when x=1 and output is supposed to be 4\n",
      "tf.Tensor(13.690001, shape=(), dtype=float32)\n",
      "\n",
      "actual output when x=1\n",
      "tf.Tensor(0.3, shape=(), dtype=float32)\n",
      "\n",
      "difference:\n",
      "tf.Tensor(13.39, shape=(), dtype=float32)\n"
     ]
    }
   ],
   "source": [
    "# done putting some code here\n",
    "\n",
    "print(\"loss when x=1 and output is supposed to be 4\")\n",
    "\n",
    "print(loss_function(1, 4))\n",
    "print(\"\")\n",
    "print(\"actual output when x=1\")\n",
    "print(model(1))\n",
    "\n",
    "print(\"\")\n",
    "print(\"difference:\")\n",
    "print(loss_function(1,4) - model(1))\n",
    "\n"
   ]
  },
  {
   "cell_type": "markdown",
   "metadata": {
    "slideshow": {
     "slide_type": "slide"
    }
   },
   "source": [
    "### Use Automatic Differentiation\n",
    "\n",
    "- Automatic differentiation is one of the amazing things about tensorflow, which allows Keras to build and train neural networks very easily.\n",
    "- It uses \"back-propagation\" to compute the necessary gradients.\n",
    "- Here we'll use it to compute the gradient of the loss function with respect to $w$ and $b$\n",
    "\n",
    "Keras sits on top of TensorFlow.\n",
    "TensorFlow provides automatic differentiation.\n",
    "\n",
    "How does the loss change as we change the variables w and b?"
   ]
  },
  {
   "cell_type": "code",
   "execution_count": 10,
   "metadata": {
    "slideshow": {
     "slide_type": "fragment"
    }
   },
   "outputs": [
    {
     "name": "stdout",
     "output_type": "stream",
     "text": [
      "L 133.95712\n",
      "w,b 0.1 0.2\n",
      "dL/dw -85.65322\n",
      "dL/db -22.28078\n"
     ]
    }
   ],
   "source": [
    "with tf.GradientTape() as tape:\n",
    "    # Tells TensorFlow that we want to do some automatic differentiation.\n",
    "\n",
    "    # We define a gradient tape.\n",
    "    # The stuff in this block is the stuff we might want to differentiate\n",
    "    # In this instance, we're differentiating the variable L.\n",
    "\n",
    "    # Run the forward pass of the layer.\n",
    "    # The operations that the layer applies\n",
    "    # to its inputs are going to be recorded\n",
    "    # on the GradientTape.\n",
    "    L=loss_function(x_train, y_train)\n",
    "\n",
    "\n",
    "print(\"L\",L.numpy())\n",
    "grads = tape.gradient(L, [w,b])\n",
    "# Asking for the gradient of L, in respect to w and b.\n",
    "\n",
    "print(\"w,b\",w.numpy(),b.numpy())\n",
    "print(\"dL/dw\",grads[0].numpy()) # first element of grads list (w) will be printed\n",
    "print(\"dL/db\",grads[1].numpy()) # second element of grads list (b) will be printed"
   ]
  },
  {
   "cell_type": "markdown",
   "source": [
    "Running the above gives us:\n",
    "\n",
    "```\n",
    "L 133.95712\n",
    "w,b 0.1 0.2\n",
    "dL/dw -85.65322\n",
    "dL/db -22.28078\n",
    "```\n",
    "Tells us that\n",
    "\n",
    "* Increasing W decreases L, because gradient is negative.\n",
    "* Increasing B also decreases L, because gradient is negative\n",
    "\n",
    "We want to minimize L, so increasing both (from here) is good."
   ],
   "metadata": {
    "collapsed": false,
    "pycharm": {
     "name": "#%% md\n"
    }
   }
  },
  {
   "cell_type": "markdown",
   "metadata": {
    "slideshow": {
     "slide_type": "slide"
    }
   },
   "source": [
    "### Apply an iteration of \"gradient descent\"\n",
    "If we aim to improve $L$ a tiny bit then we can use the following two updates:\n",
    "- $w \\leftarrow w-\\eta \\frac{\\partial L}{\\partial w}$\n",
    "- $b \\leftarrow b-\\eta \\frac{\\partial L}{\\partial b}$\n",
    "\n",
    "where $\\eta>0$ is any small number we choose.\n",
    "\n",
    "This is what is meant by \"gradient descent\".\n",
    "\n",
    "\n",
    "-\n",
    "We're trying to tweak W and B to make L as small as possible.\n",
    "\n",
    "\n",
    "We tweak w and b by the first and second entries in the grads list respectively.\n",
    "\n",
    "(Reducing them by eta*grads[0], which, as the grads stuff is negative, increases them)"
   ]
  },
  {
   "cell_type": "code",
   "execution_count": 11,
   "metadata": {
    "slideshow": {
     "slide_type": "fragment"
    }
   },
   "outputs": [
    {
     "name": "stdout",
     "output_type": "stream",
     "text": [
      "w,b 0.18565322 0.22228079\n",
      "L 126.23983\n"
     ]
    }
   ],
   "source": [
    "with tf.GradientTape() as tape:\n",
    "    L=loss_function(x_train, y_train)\n",
    "grads = tape.gradient(L, [w,b])\n",
    "eta=0.001\n",
    "w.assign(w-eta*grads[0])\n",
    "b.assign(b-eta*grads[1])\n",
    "print(\"w,b\",w.numpy(),b.numpy())\n",
    "L=loss_function(x_train, y_train)\n",
    "print(\"L\",L.numpy())"
   ]
  },
  {
   "cell_type": "markdown",
   "source": [
    "w and b have been moved a little bit, L has decreased a little bit.\n",
    "\n",
    "Change it by a little bit enough times -> we get it changed by a lot."
   ],
   "metadata": {
    "collapsed": false,
    "pycharm": {
     "name": "#%% md\n"
    }
   }
  },
  {
   "cell_type": "markdown",
   "metadata": {
    "slideshow": {
     "slide_type": "slide"
    }
   },
   "source": [
    "### Iteratively apply gradient descent\n",
    "\n",
    "- Run the code block below several times and see what $w$ and $b$ converge to.\n",
    "    - In Jupyter, Click ctrl+enter to run a block.\n",
    "- **Extra Challenge:** Try to wrap the code block below into a python \"for loop\" to run 10000 times."
   ]
  },
  {
   "cell_type": "code",
   "execution_count": 12,
   "metadata": {
    "slideshow": {
     "slide_type": "fragment"
    }
   },
   "outputs": [
    {
     "name": "stdout",
     "output_type": "stream",
     "text": [
      "RUNNING IT 10000 TIMES!\n",
      "Original w,b 0.18565322 0.22228079\n",
      "Original L 126.23983\n",
      "newest w,b 2.9506273 1.1502846\n",
      "newest L 1.286923\n"
     ]
    }
   ],
   "source": [
    "run_this_10000_times: bool = True\n",
    "\n",
    "print_details_10000: bool = False\n",
    "\n",
    "if run_this_10000_times:\n",
    "\n",
    "    print(\"RUNNING IT 10000 TIMES!\")\n",
    "\n",
    "    with tf.GradientTape() as tape:\n",
    "        L=loss_function(x_train, y_train)\n",
    "\n",
    "    eta = 0.001\n",
    "    print(\"Original w,b\",w.numpy(),b.numpy())\n",
    "    print(\"Original L\",L.numpy())\n",
    "\n",
    "    for i in range(10000):\n",
    "        with tf.GradientTape() as tape:\n",
    "            L=loss_function(x_train, y_train)\n",
    "\n",
    "        grads = tape.gradient(L, [w,b])\n",
    "        w.assign(w-eta*grads[0])\n",
    "        b.assign(b-eta*grads[1])\n",
    "        if print_details_10000:\n",
    "            print(\"w,b\",w.numpy(),b.numpy())\n",
    "            new_L=tf.reduce_mean(tf.square(model(x_train)-y_train))\n",
    "            print(\"new_L\",new_L.numpy(),\". Old L\",L.numpy())\n",
    "            L = new_L\n",
    "        else:\n",
    "            L=tf.reduce_mean(tf.square(model(x_train)-y_train))\n",
    "\n",
    "    print(\"newest w,b\",w.numpy(),b.numpy())\n",
    "    print(\"newest L\",L.numpy())\n",
    "\n",
    "else:\n",
    "    print(\"RUNNING IT ONCE!\")\n",
    "\n",
    "    with tf.GradientTape() as tape:\n",
    "        L=loss_function(x_train, y_train)\n",
    "    grads = tape.gradient(L, [w,b])\n",
    "\n",
    "    eta=0.001\n",
    "    w.assign(w-eta*grads[0])\n",
    "    b.assign(b-eta*grads[1])\n",
    "    print(\"w,b\",w.numpy(),b.numpy())\n",
    "    new_L=tf.reduce_mean(tf.square(model(x_train)-y_train))\n",
    "    print(\"new_L\",new_L.numpy(),\". Old L\",L.numpy())\n",
    "\n",
    "\n",
    "\n"
   ]
  },
  {
   "cell_type": "markdown",
   "metadata": {
    "slideshow": {
     "slide_type": "slide"
    }
   },
   "source": [
    "###  Use a built-in optimizer\n",
    "\n",
    "- Instead of hand coding the updates for $w$ and $b$, we can use a built-in optimiser.\n",
    "- For ordinary gradient descent we use \"SGD\" optimizer.\n"
   ]
  },
  {
   "cell_type": "code",
   "execution_count": 13,
   "metadata": {
    "slideshow": {
     "slide_type": "fragment"
    }
   },
   "outputs": [
    {
     "data": {
      "text/plain": "<tf.Variable 'UnreadVariable' shape=() dtype=float32, numpy=0.0>"
     },
     "execution_count": 13,
     "metadata": {},
     "output_type": "execute_result"
    }
   ],
   "source": [
    "import tensorflow.keras as keras\n",
    "w_history=[] # keep a history for plotting purposes\n",
    "b_history=[]\n",
    "L_history=[]\n",
    "w.assign(0) # We'll restart from scratch in this script\n",
    "b.assign(0)"
   ]
  },
  {
   "cell_type": "code",
   "execution_count": 14,
   "metadata": {
    "slideshow": {
     "slide_type": "slide"
    }
   },
   "outputs": [
    {
     "name": "stdout",
     "output_type": "stream",
     "text": [
      "w,b 3.0293849 0.84698844\n",
      "new_L 1.2968557 . Old L 1.2968585\n"
     ]
    }
   ],
   "source": [
    "eta=0.001\n",
    "optimizer=keras.optimizers.SGD(eta)\n",
    "for i in range(1000):\n",
    "    with tf.GradientTape() as tape:\n",
    "        L=loss_function(x_train, y_train)\n",
    "        \n",
    "    grads = tape.gradient(L, [w,b])\n",
    "    optimizer.apply_gradients(zip(grads, [w,b])) # This line updates w and b with 1 step of gradient descent\n",
    "\n",
    "    w_history.append(w.numpy()) # append to history for plotting purposes\n",
    "    b_history.append(b.numpy())\n",
    "    L_history.append(L.numpy())\n",
    "print(\"w,b\",w.numpy(),b.numpy())\n",
    "new_L=tf.reduce_mean(tf.square(model(x_train)-y_train))\n",
    "print(\"new_L\",new_L.numpy(),\". Old L\",L.numpy())"
   ]
  },
  {
   "cell_type": "markdown",
   "metadata": {
    "slideshow": {
     "slide_type": "slide"
    }
   },
   "source": [
    "### Compare to optimal values for linear regression"
   ]
  },
  {
   "cell_type": "code",
   "execution_count": 15,
   "metadata": {
    "slideshow": {
     "slide_type": "fragment"
    }
   },
   "outputs": [
    {
     "name": "stdout",
     "output_type": "stream",
     "text": [
      "slope 2.9348235590433442\n",
      "intercept 1.2111488477281167\n"
     ]
    }
   ],
   "source": [
    "import scipy.stats as stats\n",
    "slope, intercept, r_value, p_value, std_err = stats.linregress(x_train.reshape(-1),y_train.reshape(-1))\n",
    "print(\"slope\",slope)\n",
    "print(\"intercept\",intercept)\n"
   ]
  },
  {
   "cell_type": "markdown",
   "metadata": {
    "slideshow": {
     "slide_type": "slide"
    }
   },
   "source": [
    "The above code just finds the\n",
    "\n",
    "Plot the history graphs to see how well the variables converged."
   ]
  },
  {
   "cell_type": "code",
   "execution_count": 16,
   "metadata": {
    "slideshow": {
     "slide_type": "fragment"
    }
   },
   "outputs": [
    {
     "data": {
      "text/plain": "Text(0.5, 1.0, 'b history')"
     },
     "execution_count": 16,
     "metadata": {},
     "output_type": "execute_result"
    },
    {
     "data": {
      "text/plain": "<Figure size 1080x216 with 3 Axes>",
      "image/png": "[encoded data removed]"
     },
     "metadata": {
      "needs_background": "light"
     },
     "output_type": "display_data"
    }
   ],
   "source": [
    "fig=plt.figure(figsize=[15, 3])\n",
    "ax1=fig.add_subplot(1,3, 1)\n",
    "ax1.plot(L_history)\n",
    "ax1.set_title(\"L history\")              \n",
    "ax2=fig.add_subplot(1,3, 2)\n",
    "ax2.plot(w_history)\n",
    "ax2.set_title(\"w history\")              \n",
    "ax3=fig.add_subplot(1,3, 3)\n",
    "ax3.plot(b_history)\n",
    "ax3.set_title(\"b history\")              "
   ]
  },
  {
   "cell_type": "markdown",
   "source": [
    "L goes down pretty darn quickly, W and B start going up quickly,\n",
    "but, after about a hundred or so iterations, they start to stagnate."
   ],
   "metadata": {
    "collapsed": false,
    "pycharm": {
     "name": "#%% md\n"
    }
   }
  },
  {
   "cell_type": "markdown",
   "metadata": {
    "slideshow": {
     "slide_type": "slide"
    }
   },
   "source": [
    "**Exercise:**\n",
    "\n",
    "1. Rerun the gradient descent iterations until the model's $w$ and $b$ parameters match the actual slope and intercept values calculated by stats.linregress\n",
    "2. Increase / decrease the learning rate as you see fit.  \n",
    "\n",
    "**Questions:**\n",
    "1. What happens if eta is too large?  **TODO:** Write answer here\n",
    "    * the numbers get way too large, starts fluctuating wildly, doesn't reach an appropriate result\n",
    "2. What happens if eta is too small?  **TODO:** Write answer here\n",
    "    * the numbers change really slowly, takes a long time for a good enough result to be reached.\n"
   ]
  },
  {
   "cell_type": "code",
   "execution_count": 17,
   "outputs": [],
   "source": [
    "\n",
    "# TODO: probably all junk, might need to yeet this cell.\n",
    "# TODO: watch the video about this on moodle\n",
    "\n",
    "from typing import Callable, Any, List, Tuple\n",
    "\n",
    "def iterate_descent_gradient_stuff(\n",
    "        new_eta: float,\n",
    "        x_train2: np.ndarray,\n",
    "        y_train2: np.ndarray,\n",
    "        loss: Callable[[Any, Any], Any],\n",
    ") -> Tuple[List[np.float32],List[np.float32],List[np.float32], Any]:\n",
    "    \"\"\"\n",
    "    A function that can (in theory) be used for the interating descent gradient stuff\n",
    "    :param new_eta: eta value to use\n",
    "    :param x_train2: x_train value to use\n",
    "    :param y_train2: y_train value to use\n",
    "    :param loss: loss function\n",
    "    :return: tuple containing the w history, b history, and L history\n",
    "    \"\"\"\n",
    "\n",
    "    goal_slope, goal_intercept,\\\n",
    "    goal_r_value, goal_p_value,\\\n",
    "    goal_std_err = stats.linregress(x_train2.reshape(-1),y_train2.reshape(-1))\n",
    "\n",
    "\n",
    "    w_history: List[np.float32] = [] # keep a history for plotting purposes\n",
    "    b_history: List[np.float32]=[]\n",
    "    L2_history: List[np.float32]=[]\n",
    "\n",
    "    grads = []\n",
    "\n",
    "    w.assign(0) # We'll restart from scratch in this script\n",
    "    b.assign(0)\n",
    "\n",
    "    optimizer2=keras.optimizers.SGD(new_eta)\n",
    "\n",
    "    while not(np.equal(w, goal_intercept)) or not(np.equal(b, goal_slope)):\n",
    "\n",
    "        with tf.GradientTape() as tape:\n",
    "            L2=loss(x_train2, y_train2)\n",
    "        grads = tape.gradient(L2, [w,b])\n",
    "        optimizer2.apply_gradients(zip(grads, [w,b])) # This line updates w and b with 1 step of gradient descent\n",
    "\n",
    "        w_history.append(w.numpy()) # append to history for plotting purposes\n",
    "        b_history.append(b.numpy())\n",
    "        L2_history.append(L2.numpy())\n",
    "\n",
    "        if len(w_history) == 20000:\n",
    "            break\n",
    "\n",
    "    fig=plt.figure(figsize=[15, 3])\n",
    "    ax1=fig.add_subplot(1,3, 1)\n",
    "    ax1.plot(L_history)\n",
    "    ax1.set_title(\"L history\")\n",
    "    ax2=fig.add_subplot(1,3, 2)\n",
    "    ax2.plot(w_history)\n",
    "    ax2.set_title(\"w history\")\n",
    "    ax3=fig.add_subplot(1,3, 3)\n",
    "    ax3.plot(b_history)\n",
    "    ax3.set_title(\"b history\")\n",
    "\n",
    "    fig.show()\n",
    "\n",
    "    return w_history, b_history, L2_history, grads"
   ],
   "metadata": {
    "collapsed": false,
    "pycharm": {
     "name": "#%%\n"
    }
   }
  },
  {
   "cell_type": "code",
   "execution_count": 18,
   "outputs": [
    {
     "name": "stdout",
     "output_type": "stream",
     "text": [
      "<class 'numpy.float32'>\n",
      "<class 'numpy.float32'>\n",
      "<class 'numpy.float32'>\n",
      "RESULTS WITH AN ETA OF 0.0001\n",
      "\n",
      "ITERATIONS TAKEN: 10000\n",
      "LOWEST L: 1.2968567609786987\n",
      "OPTIMAL W: 3.029370069503784\n",
      "OPTIMAL B: 0.8469632863998413\n",
      "\n",
      "w,b 3.02937 0.8469633\n",
      "dL/dw 0.013114631\n",
      "dL/db -0.052714944\n"
     ]
    },
    {
     "name": "stderr",
     "output_type": "stream",
     "text": [
      "C:\\Users\\rl18730\\AppData\\Local\\Temp/ipykernel_12436/1535847902.py:66: UserWarning: Matplotlib is currently using module://matplotlib_inline.backend_inline, which is a non-GUI backend, so cannot show the figure.\n",
      "  fig.show()\n"
     ]
    },
    {
     "data": {
      "text/plain": "<Figure size 1080x216 with 3 Axes>",
      "image/png": "[encoded data removed]"
     },
     "metadata": {
      "needs_background": "light"
     },
     "output_type": "display_data"
    }
   ],
   "source": [
    "\n",
    "eta0001_iterations:\\\n",
    "    Tuple[List[np.float32], List[np.float32], List[np.float32], Any]\\\n",
    "    = iterate_descent_gradient_stuff(0.0001, x_train, y_train, loss_function)\n",
    "\n",
    "print(\"RESULTS WITH AN ETA OF 0.0001\")\n",
    "\n",
    "print(\"\\nITERATIONS TAKEN: {}\".format(len(eta0001_iterations[0])))\n",
    "\n",
    "lowest_l_0001: np.float32 = min(eta0001_iterations[2])\n",
    "\n",
    "lowest_l_index_0001: int = eta0001_iterations[2].index(lowest_l_0001)\n",
    "\n",
    "optimal_w_0001: np.float32 = eta0001_iterations[0][lowest_l_index_0001]\n",
    "\n",
    "optimal_b_0001: np.float32 = eta0001_iterations[1][lowest_l_index_0001]\n",
    "\n",
    "print(\"LOWEST L: {}\".format(lowest_l_0001))\n",
    "print(\"OPTIMAL W: {}\".format(optimal_w_0001))\n",
    "print(\"OPTIMAL B: {}\".format(optimal_b_0001))\n",
    "\n",
    "\n",
    "print(\"\\nw,b\",optimal_w_0001,optimal_b_0001)\n",
    "print(\"dL/dw\",eta0001_iterations[3][0].numpy()) # first element of grads list (w) will be printed\n",
    "print(\"dL/db\",eta0001_iterations[3][1].numpy())\n"
   ],
   "metadata": {
    "collapsed": false,
    "pycharm": {
     "name": "#%%\n"
    }
   }
  },
  {
   "cell_type": "code",
   "execution_count": 19,
   "outputs": [
    {
     "name": "stdout",
     "output_type": "stream",
     "text": [
      "<class 'numpy.float32'>\n",
      "<class 'numpy.float32'>\n",
      "<class 'numpy.float32'>\n",
      "RESULTS WITH AN ETA OF 0.00001\n",
      "\n",
      "ITERATIONS TAKEN: 10000\n",
      "LOWEST L: 1.6980364322662354\n",
      "OPTIMAL W: 2.8835837841033936\n",
      "OPTIMAL B: 0.7552011013031006\n",
      "\n",
      "w,b 2.8835838 0.7552011\n",
      "dL/dw -4.6773067\n",
      "dL/db -1.2784307\n"
     ]
    },
    {
     "name": "stderr",
     "output_type": "stream",
     "text": [
      "C:\\Users\\rl18730\\AppData\\Local\\Temp/ipykernel_12436/1535847902.py:66: UserWarning: Matplotlib is currently using module://matplotlib_inline.backend_inline, which is a non-GUI backend, so cannot show the figure.\n",
      "  fig.show()\n"
     ]
    },
    {
     "data": {
      "text/plain": "<Figure size 1080x216 with 3 Axes>",
      "image/png": "[encoded data removed]"
     },
     "metadata": {
      "needs_background": "light"
     },
     "output_type": "display_data"
    }
   ],
   "source": [
    "eta00001_iterations:\\\n",
    "    Tuple[List[np.float32], List[np.float32], List[np.float32], Any]\\\n",
    "    = iterate_descent_gradient_stuff(0.00001, x_train, y_train, loss_function)\n",
    "\n",
    "print(\"RESULTS WITH AN ETA OF 0.00001\")\n",
    "\n",
    "print(\"\\nITERATIONS TAKEN: {}\".format(len(eta00001_iterations[0])))\n",
    "\n",
    "lowest_l_00001: np.float32 = min(eta00001_iterations[2])\n",
    "\n",
    "lowest_l_index_00001: int = eta00001_iterations[2].index(lowest_l_00001)\n",
    "\n",
    "optimal_w_00001: np.float32 = eta00001_iterations[0][lowest_l_index_00001]\n",
    "\n",
    "optimal_b_00001: np.float32 = eta00001_iterations[1][lowest_l_index_00001]\n",
    "\n",
    "print(\"LOWEST L: {}\".format(lowest_l_00001))\n",
    "print(\"OPTIMAL W: {}\".format(optimal_w_00001))\n",
    "print(\"OPTIMAL B: {}\".format(optimal_b_00001))\n",
    "\n",
    "\n",
    "print(\"\\nw,b\",optimal_w_00001,optimal_b_00001)\n",
    "print(\"dL/dw\",eta00001_iterations[3][0].numpy()) # first element of grads list (w) will be printed\n",
    "print(\"dL/db\",eta00001_iterations[3][1].numpy())"
   ],
   "metadata": {
    "collapsed": false,
    "pycharm": {
     "name": "#%%\n"
    }
   }
  },
  {
   "cell_type": "code",
   "execution_count": 20,
   "outputs": [
    {
     "name": "stdout",
     "output_type": "stream",
     "text": [
      "<class 'numpy.float32'>\n",
      "<class 'numpy.float32'>\n",
      "<class 'numpy.float32'>\n",
      "RESULTS WITH AN ETA OF 0.0001\n",
      "\n",
      "ITERATIONS TAKEN: 10000\n",
      "LOWEST L: 1.2873989343643188\n",
      "OPTIMAL W: 2.960623264312744\n",
      "OPTIMAL B: 1.111786961555481\n",
      "\n",
      "w,b 2.9606233 1.111787\n",
      "dL/dw 0.0036970377\n",
      "dL/db -0.014353767\n"
     ]
    },
    {
     "name": "stderr",
     "output_type": "stream",
     "text": [
      "C:\\Users\\rl18730\\AppData\\Local\\Temp/ipykernel_12436/1535847902.py:66: UserWarning: Matplotlib is currently using module://matplotlib_inline.backend_inline, which is a non-GUI backend, so cannot show the figure.\n",
      "  fig.show()\n"
     ]
    },
    {
     "data": {
      "text/plain": "<Figure size 1080x216 with 3 Axes>",
      "image/png": "[encoded data removed]"
     },
     "metadata": {
      "needs_background": "light"
     },
     "output_type": "display_data"
    }
   ],
   "source": [
    "eta001_iterations:\\\n",
    "    Tuple[List[np.float32], List[np.float32], List[np.float32], Any]\\\n",
    "    = iterate_descent_gradient_stuff(0.001, x_train, y_train, loss_function)\n",
    "\n",
    "print(\"RESULTS WITH AN ETA OF 0.0001\")\n",
    "\n",
    "print(\"\\nITERATIONS TAKEN: {}\".format(len(eta001_iterations[0])))\n",
    "\n",
    "lowest_l_001: np.float32 = min(eta001_iterations[2])\n",
    "\n",
    "lowest_l_index_001: int = eta001_iterations[2].index(lowest_l_001)\n",
    "\n",
    "optimal_w_001: np.float32 = eta001_iterations[0][lowest_l_index_001]\n",
    "\n",
    "optimal_b_001: np.float32 = eta001_iterations[1][lowest_l_index_001]\n",
    "\n",
    "print(\"LOWEST L: {}\".format(lowest_l_001))\n",
    "print(\"OPTIMAL W: {}\".format(optimal_w_001))\n",
    "print(\"OPTIMAL B: {}\".format(optimal_b_001))\n",
    "\n",
    "\n",
    "print(\"\\nw,b\",optimal_w_001,optimal_b_001)\n",
    "print(\"dL/dw\",eta001_iterations[3][0].numpy()) # first element of grads list (w) will be printed\n",
    "print(\"dL/db\",eta001_iterations[3][1].numpy())"
   ],
   "metadata": {
    "collapsed": false,
    "pycharm": {
     "name": "#%%\n"
    }
   }
  },
  {
   "cell_type": "markdown",
   "source": [
    "# Using Keras Models instead\n"
   ],
   "metadata": {
    "collapsed": false,
    "pycharm": {
     "name": "#%% md\n"
    }
   }
  },
  {
   "cell_type": "markdown",
   "metadata": {
    "slideshow": {
     "slide_type": "slide"
    }
   },
   "source": [
    "## Using a Keras \"model\" to hold $w$ and $b$\n",
    "Instead of building our own linear model $y=wx+b$ as above, we can use the in-built keras \"Dense\" layer\n",
    "\n",
    "- We will use a keras \"Dense\" layer with 1 input and 1 output.\n",
    "- This keras dense layer represents a model $y=wx+b$, where $w$ and $b$ are learnable variables.  \n",
    "    - $w$ is called the \"kernel\", and $b$ is called the \"bias\"\n",
    "    - Note that $w$ is a 1*1 matrix, and $b$ is a length-1 vector."
   ]
  },
  {
   "cell_type": "code",
   "execution_count": 1,
   "metadata": {
    "slideshow": {
     "slide_type": "fragment"
    }
   },
   "outputs": [
    {
     "ename": "NameError",
     "evalue": "name 'keras' is not defined",
     "output_type": "error",
     "traceback": [
      "\u001B[1;31m---------------------------------------------------------------------------\u001B[0m",
      "\u001B[1;31mNameError\u001B[0m                                 Traceback (most recent call last)",
      "\u001B[1;32m~\\AppData\\Local\\Temp/ipykernel_5420/2233927566.py\u001B[0m in \u001B[0;36m<module>\u001B[1;34m\u001B[0m\n\u001B[0;32m      1\u001B[0m \u001B[1;32mfrom\u001B[0m \u001B[0mtensorflow\u001B[0m\u001B[1;33m.\u001B[0m\u001B[0mkeras\u001B[0m \u001B[1;32mimport\u001B[0m \u001B[0mlayers\u001B[0m\u001B[1;33m\u001B[0m\u001B[1;33m\u001B[0m\u001B[0m\n\u001B[0;32m      2\u001B[0m \u001B[1;33m\u001B[0m\u001B[0m\n\u001B[1;32m----> 3\u001B[1;33m \u001B[1;32mclass\u001B[0m \u001B[0mLinearModel\u001B[0m\u001B[1;33m(\u001B[0m\u001B[0mkeras\u001B[0m\u001B[1;33m.\u001B[0m\u001B[0mModel\u001B[0m\u001B[1;33m)\u001B[0m\u001B[1;33m:\u001B[0m\u001B[1;33m\u001B[0m\u001B[1;33m\u001B[0m\u001B[0m\n\u001B[0m\u001B[0;32m      4\u001B[0m     \"\"\"\n\u001B[0;32m      5\u001B[0m     \u001B[0mDefining\u001B[0m \u001B[0ma\u001B[0m \u001B[0mKeras\u001B[0m \u001B[0mmodel\u001B[0m \u001B[1;32min\u001B[0m \u001B[0ma\u001B[0m \u001B[0mcomplicated\u001B[0m \u001B[0mway\u001B[0m\u001B[1;33m.\u001B[0m\u001B[1;33m\u001B[0m\u001B[1;33m\u001B[0m\u001B[0m\n",
      "\u001B[1;31mNameError\u001B[0m: name 'keras' is not defined"
     ]
    }
   ],
   "source": [
    "from tensorflow.keras import layers\n",
    "\n",
    "class LinearModel(keras.Model):\n",
    "    \"\"\"\n",
    "    Defining a Keras model in a complicated way.\n",
    "\n",
    "    Same thing as the model function above, but this time it's in Keras instead.\n",
    "    \"\"\"\n",
    "    def __init__(self):\n",
    "        \"\"\"\n",
    "        We just want to add a single layer to the model.\n",
    "        Specifically, we added a 'Dense' layer, with 1 output.\n",
    "            Scalar input, Scalar output.\n",
    "        \"\"\"\n",
    "        super(LinearModel, self).__init__()\n",
    "        self.layer1: layers.Dense =layers.Dense(1)\n",
    "    def call(self, x):\n",
    "        \"\"\"\n",
    "        Calling this model just runs the layer in question\n",
    "            In this instance, we run layer 1.\n",
    "        \"\"\"\n",
    "        return self.layer1(x)\n",
    "    \n",
    "keras_linear_model: LinearModel =LinearModel()\n",
    "print(keras_linear_model(x_train)) # 10 points in, 10 points out.\n",
    "# has a w and b inside it.\n",
    "#   Kernel (w) initialized randomly, bias (b) initialized to 0.\n",
    "print(\"This is the w (kernel) value\",keras_linear_model.layer1.kernel.numpy())\n",
    "    # kernel: w\n",
    "print(\"This is the b (bias) value\",keras_linear_model.layer1.bias.numpy())\n",
    "    # bias: b\n",
    "\n",
    "# kernel and bias can be matrices instead of scalars."
   ]
  },
  {
   "cell_type": "markdown",
   "metadata": {
    "slideshow": {
     "slide_type": "slide"
    }
   },
   "source": [
    "## Use Keras \"fit\" for the training loop\n",
    "- Keras allows us to quickly define the optimizer to use (SGD), and the loss function to use\n",
    "- It also provides a \"fit\" function which executes the training loop.\n",
    "\n",
    "Run and study the following code."
   ]
  },
  {
   "cell_type": "code",
   "execution_count": 22,
   "metadata": {
    "slideshow": {
     "slide_type": "fragment"
    }
   },
   "outputs": [],
   "source": [
    "from keras.callbacks import History\n",
    "\n",
    "keras_linear_model.compile(\n",
    "    optimizer=keras.optimizers.SGD(0.01),  # Optimizer\n",
    "    loss=keras.losses.MeanSquaredError()\n",
    ")\n",
    "# ^ tells Keras to compile the model (works out derivatives it needs once, so it doesn't need to do that again)\n",
    "#   telling it to use the SGD optimizer with a rate of 0.01\n",
    "#   also telling to use mean squared error.\n",
    "\n",
    "\n",
    "history: History = keras_linear_model.fit(\n",
    "    x_train, # inputs\n",
    "    y_train, # expected outputs\n",
    "    batch_size=len(x_train),\n",
    "    epochs=10000,\n",
    "    verbose=0\n",
    ")\n",
    "# This is the 'fit' loop (the training loop)\n",
    "# batch_size: how many inputs we're giving it.\n",
    "# epochs: how many iterations to use\n",
    "# verbose: 0 otherwise it'll print a lot of info.\n",
    "\n",
    "# Does this a lot faster than doing it by hand.\n",
    "    # still works out the derivatives at every step of the loop,\n",
    "    # but doesn't need to work out how to differentiate them again."
   ]
  },
  {
   "cell_type": "code",
   "execution_count": 23,
   "metadata": {
    "slideshow": {
     "slide_type": "fragment"
    }
   },
   "outputs": [
    {
     "name": "stdout",
     "output_type": "stream",
     "text": [
      "w [[2.9348383]] Optimal w: 2.9348235590433442\n",
      "b [1.2110937] Optimal b: 1.2111488477281167\n"
     ]
    }
   ],
   "source": [
    "print(\"w\",keras_linear_model.layer1.kernel.numpy(),\"Optimal w:\",slope)\n",
    "print(\"b\",keras_linear_model.layer1.bias.numpy(),\"Optimal b:\",intercept)\n",
    "\n",
    "# These our our results."
   ]
  },
  {
   "cell_type": "markdown",
   "source": [
    "Final results from keras stuff:\n",
    "```\n",
    "w [[2.9348383]] Optimal w: 2.9348235590433442\n",
    "b [1.2110937] Optimal b: 1.2111488477281167\n",
    "```"
   ],
   "metadata": {
    "collapsed": false,
    "pycharm": {
     "name": "#%% md\n"
    }
   }
  },
  {
   "cell_type": "markdown",
   "metadata": {
    "slideshow": {
     "slide_type": "slide"
    }
   },
   "source": [
    "## Summary\n",
    "\n",
    "- We have built this simple model:\n",
    "<img src=\"./images/ffnn_single_layer.svg\" alt=\"1-layer FFNN\" width=\"300\">\n",
    "- We've been introduced to Automatic Differentiation, and gradient descent.\n",
    "- We've also seen the keras Dense layer, the Keras loss functions, optimizer and fit loop\n",
    "\n",
    "- We'll study these more in the next workbook..."
   ]
  }
 ],
 "metadata": {
  "kernelspec": {
   "display_name": "Python 3",
   "language": "python",
   "name": "python3"
  },
  "language_info": {
   "codemirror_mode": {
    "name": "ipython",
    "version": 3
   },
   "file_extension": ".py",
   "mimetype": "text/x-python",
   "name": "python",
   "nbconvert_exporter": "python",
   "pygments_lexer": "ipython3",
   "version": "3.8.5"
  }
 },
 "nbformat": 4,
 "nbformat_minor": 4
}