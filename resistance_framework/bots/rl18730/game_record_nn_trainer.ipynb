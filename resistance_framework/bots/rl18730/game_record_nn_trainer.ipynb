{
 "cells": [
  {
   "cell_type": "code",
   "execution_count": 7,
   "metadata": {
    "collapsed": true
   },
   "outputs": [
    {
     "name": "stdout",
     "output_type": "stream",
     "text": [
      "M:\\MSc\\CE811\\CE811_lowe_rachel_m\\resistance_framework\\bots\\rl18730.py\n",
      "{'__name__': 'bots.rl18730', '__doc__': None, '__package__': 'bots', '__loader__': <_frozen_importlib_external.SourceFileLoader object at 0x00000130C05E4E50>, '__spec__': ModuleSpec(name='bots.rl18730', loader=<_frozen_importlib_external.SourceFileLoader object at 0x00000130C05E4E50>, origin='M:\\\\MSc\\\\CE811\\\\CE811_lowe_rachel_m\\\\resistance_framework\\\\bots\\\\rl18730.py'), '__file__': 'M:\\\\MSc\\\\CE811\\\\CE811_lowe_rachel_m\\\\resistance_framework\\\\bots\\\\rl18730.py', '__cached__': 'M:\\\\MSc\\\\CE811\\\\CE811_lowe_rachel_m\\\\resistance_framework\\\\bots\\\\__pycache__\\\\rl18730.cpython-39.pyc', '__builtins__': {'__name__': 'builtins', '__doc__': \"Built-in functions, exceptions, and other objects.\\n\\nNoteworthy: None is the `nil' object; Ellipsis represents `...' in slices.\", '__package__': '', '__loader__': <class '_frozen_importlib.BuiltinImporter'>, '__spec__': ModuleSpec(name='builtins', loader=<class '_frozen_importlib.BuiltinImporter'>, origin='built-in'), '__build_class__': <built-in function __build_class__>, '__import__': <built-in function __import__>, 'abs': <built-in function abs>, 'all': <built-in function all>, 'any': <built-in function any>, 'ascii': <built-in function ascii>, 'bin': <built-in function bin>, 'breakpoint': <built-in function breakpoint>, 'callable': <built-in function callable>, 'chr': <built-in function chr>, 'compile': <built-in function compile>, 'delattr': <built-in function delattr>, 'dir': <built-in function dir>, 'divmod': <built-in function divmod>, 'eval': <built-in function eval>, 'exec': <built-in function exec>, 'format': <built-in function format>, 'getattr': <built-in function getattr>, 'globals': <built-in function globals>, 'hasattr': <built-in function hasattr>, 'hash': <built-in function hash>, 'hex': <built-in function hex>, 'id': <built-in function id>, 'input': <bound method Kernel.raw_input of <ipykernel.ipkernel.IPythonKernel object at 0x00000130C0510370>>, 'isinstance': <built-in function isinstance>, 'issubclass': <built-in function issubclass>, 'iter': <built-in function iter>, 'len': <built-in function len>, 'locals': <built-in function locals>, 'max': <built-in function max>, 'min': <built-in function min>, 'next': <built-in function next>, 'oct': <built-in function oct>, 'ord': <built-in function ord>, 'pow': <built-in function pow>, 'print': <built-in function print>, 'repr': <built-in function repr>, 'round': <built-in function round>, 'setattr': <built-in function setattr>, 'sorted': <built-in function sorted>, 'sum': <built-in function sum>, 'vars': <built-in function vars>, 'None': None, 'Ellipsis': Ellipsis, 'NotImplemented': NotImplemented, 'False': False, 'True': True, 'bool': <class 'bool'>, 'memoryview': <class 'memoryview'>, 'bytearray': <class 'bytearray'>, 'bytes': <class 'bytes'>, 'classmethod': <class 'classmethod'>, 'complex': <class 'complex'>, 'dict': <class 'dict'>, 'enumerate': <class 'enumerate'>, 'filter': <class 'filter'>, 'float': <class 'float'>, 'frozenset': <class 'frozenset'>, 'property': <class 'property'>, 'int': <class 'int'>, 'list': <class 'list'>, 'map': <class 'map'>, 'object': <class 'object'>, 'range': <class 'range'>, 'reversed': <class 'reversed'>, 'set': <class 'set'>, 'slice': <class 'slice'>, 'staticmethod': <class 'staticmethod'>, 'str': <class 'str'>, 'super': <class 'super'>, 'tuple': <class 'tuple'>, 'type': <class 'type'>, 'zip': <class 'zip'>, '__debug__': True, 'BaseException': <class 'BaseException'>, 'Exception': <class 'Exception'>, 'TypeError': <class 'TypeError'>, 'StopAsyncIteration': <class 'StopAsyncIteration'>, 'StopIteration': <class 'StopIteration'>, 'GeneratorExit': <class 'GeneratorExit'>, 'SystemExit': <class 'SystemExit'>, 'KeyboardInterrupt': <class 'KeyboardInterrupt'>, 'ImportError': <class 'ImportError'>, 'ModuleNotFoundError': <class 'ModuleNotFoundError'>, 'OSError': <class 'OSError'>, 'EnvironmentError': <class 'OSError'>, 'IOError': <class 'OSError'>, 'WindowsError': <class 'OSError'>, 'EOFError': <class 'EOFError'>, 'RuntimeError': <class 'RuntimeError'>, 'RecursionError': <class 'RecursionError'>, 'NotImplementedError': <class 'NotImplementedError'>, 'NameError': <class 'NameError'>, 'UnboundLocalError': <class 'UnboundLocalError'>, 'AttributeError': <class 'AttributeError'>, 'SyntaxError': <class 'SyntaxError'>, 'IndentationError': <class 'IndentationError'>, 'TabError': <class 'TabError'>, 'LookupError': <class 'LookupError'>, 'IndexError': <class 'IndexError'>, 'KeyError': <class 'KeyError'>, 'ValueError': <class 'ValueError'>, 'UnicodeError': <class 'UnicodeError'>, 'UnicodeEncodeError': <class 'UnicodeEncodeError'>, 'UnicodeDecodeError': <class 'UnicodeDecodeError'>, 'UnicodeTranslateError': <class 'UnicodeTranslateError'>, 'AssertionError': <class 'AssertionError'>, 'ArithmeticError': <class 'ArithmeticError'>, 'FloatingPointError': <class 'FloatingPointError'>, 'OverflowError': <class 'OverflowError'>, 'ZeroDivisionError': <class 'ZeroDivisionError'>, 'SystemError': <class 'SystemError'>, 'ReferenceError': <class 'ReferenceError'>, 'MemoryError': <class 'MemoryError'>, 'BufferError': <class 'BufferError'>, 'Warning': <class 'Warning'>, 'UserWarning': <class 'UserWarning'>, 'DeprecationWarning': <class 'DeprecationWarning'>, 'PendingDeprecationWarning': <class 'PendingDeprecationWarning'>, 'SyntaxWarning': <class 'SyntaxWarning'>, 'RuntimeWarning': <class 'RuntimeWarning'>, 'FutureWarning': <class 'FutureWarning'>, 'ImportWarning': <class 'ImportWarning'>, 'UnicodeWarning': <class 'UnicodeWarning'>, 'BytesWarning': <class 'BytesWarning'>, 'ResourceWarning': <class 'ResourceWarning'>, 'ConnectionError': <class 'ConnectionError'>, 'BlockingIOError': <class 'BlockingIOError'>, 'BrokenPipeError': <class 'BrokenPipeError'>, 'ChildProcessError': <class 'ChildProcessError'>, 'ConnectionAbortedError': <class 'ConnectionAbortedError'>, 'ConnectionRefusedError': <class 'ConnectionRefusedError'>, 'ConnectionResetError': <class 'ConnectionResetError'>, 'FileExistsError': <class 'FileExistsError'>, 'FileNotFoundError': <class 'FileNotFoundError'>, 'IsADirectoryError': <class 'IsADirectoryError'>, 'NotADirectoryError': <class 'NotADirectoryError'>, 'InterruptedError': <class 'InterruptedError'>, 'PermissionError': <class 'PermissionError'>, 'ProcessLookupError': <class 'ProcessLookupError'>, 'TimeoutError': <class 'TimeoutError'>, 'open': <built-in function open>, 'copyright': Copyright (c) 2001-2021 Python Software Foundation.\n",
      "All Rights Reserved.\n",
      "\n",
      "Copyright (c) 2000 BeOpen.com.\n",
      "All Rights Reserved.\n",
      "\n",
      "Copyright (c) 1995-2001 Corporation for National Research Initiatives.\n",
      "All Rights Reserved.\n",
      "\n",
      "Copyright (c) 1991-1995 Stichting Mathematisch Centrum, Amsterdam.\n",
      "All Rights Reserved., 'credits':     Thanks to CWI, CNRI, BeOpen.com, Zope Corporation and a cast of thousands\n",
      "    for supporting Python development.  See www.python.org for more information., 'license': Type license() to see the full license text, 'help': Type help() for interactive help, or help(object) for help about object., '__IPYTHON__': True, 'display': <function display at 0x00000130BEFEF4C0>, '__pybind11_internals_v4_msvc__': <capsule object NULL at 0x00000130F8B84240>, 'get_ipython': <bound method InteractiveShell.get_ipython of <ipykernel.zmqshell.ZMQInteractiveShell object at 0x00000130C0510160>>}, '__annotations__': {'resources_file_path': <class 'pathlib.Path'>}, 'os': <module 'os' from 'c:\\\\python3\\\\lib\\\\os.py'>, 'pickle': <module 'pickle' from 'c:\\\\python3\\\\lib\\\\pickle.py'>, 'random': <module 'random' from 'c:\\\\python3\\\\lib\\\\random.py'>, '__warningregistry__': {'version': 7}, 'Collection': <class 'collections.abc.Collection'>, 'INFO': 20, 'keras': <module 'tensorflow.keras' from 'c:\\\\python3\\\\lib\\\\site-packages\\\\tensorflow\\\\keras\\\\__init__.py'>, 'Bot': <class 'player.Bot'>, 'Player': <class 'player.Player'>, 'State': <class 'game.State'>, 'TypeVar': <class 'typing.TypeVar'>, 'List': typing.List, 'Dict': typing.Dict, 'Set': typing.Set, 'Tuple': typing.Tuple, 'Iterable': typing.Iterable, 'FrozenSet': typing.FrozenSet, 'Union': typing.Union, 'NoReturn': typing.NoReturn, 'Any': typing.Any, 'Callable': typing.Callable, 'Enum': <enum 'Enum'>, 'Path': <class 'pathlib.Path'>, 'json': <module 'json' from 'c:\\\\python3\\\\lib\\\\json\\\\__init__.py'>, 'TPlayer': ~TPlayer, 'T': ~T, 'resources_file_path': WindowsPath('M:/MSc/CE811/CE811_lowe_rachel_m/resistance_framework/bots/rl18730/bots/rl18730'), 'RoleAllocationEnum': <enum 'RoleAllocationEnum'>, 'GamestateTree': <class 'bots.rl18730.GamestateTree'>, 'MCTSTree': <class 'bots.rl18730.MCTSTree'>, 'TeamRecord': <class 'bots.rl18730.TeamRecord'>, 'TempTeamRecord': <class 'bots.rl18730.TempTeamRecord'>, 'PlayerRecord': <class 'bots.rl18730.PlayerRecord'>, 'GameRecord': <class 'bots.rl18730.GameRecord'>, 'GameRecordHistory': <class 'bots.rl18730.GameRecordHistory'>, 'PlayerRecordNNEstimator': <class 'bots.rl18730.PlayerRecordNNEstimator'>, 'SpySabotageChanceStats': <class 'bots.rl18730.SpySabotageChanceStats'>, 'WinProbabilitiesTable': <class 'bots.rl18730.WinProbabilitiesTable'>, 'NeuralNetworker': <class 'bots.rl18730.NeuralNetworker'>, 'gamerecord_history_unpickler': <function gamerecord_history_unpickler at 0x00000130C05C2DC0>, 'rl18730': <class 'bots.rl18730.rl18730'>}\n"
     ]
    }
   ],
   "source": [
    "import pickle\n",
    "import os\n",
    "import json\n",
    "\n",
    "import sys\n",
    "from typing import List, Tuple, TypeVar, Dict, NoReturn, Iterable, Union\n",
    "\n",
    "from pathlib import Path\n",
    "\n",
    "import bots.rl18730\n",
    "\n",
    "resources_file_path: Path = Path().cwd()\n",
    "\n",
    "print(str(resources_file_path.parent/\"rl18730.py\"))\n",
    "\n",
    "sys.path.append(str(resources_file_path.parent/\"rl18730.py\"))\n",
    "\n",
    "\n",
    "from bots.rl18730 import PlayerRecord, GameRecordHistory, GameRecord, PlayerRecordNNEstimator,\\\n",
    "    RoleAllocationEnum, GamestateTree, TPlayer, gamerecord_history_unpickler\n",
    "\n",
    "import bots.rl18730 as rl18730\n",
    "\n",
    "print(rl18730.__dict__)\n",
    "\n",
    "#sys.modules[\"GameRecordHistory\"] = GameRecordHistory\n",
    "#sys.modules[\"PlayerRecordNNEstimator\"] = PlayerRecordNNEstimator\n",
    "#sys.modules[\"RoleAllocationEnum\"] = RoleAllocationEnum\n",
    "#sys.modules[\"GamestateTree\"] = GamestateTree\n",
    "#sys.modules[\"TPlayer\"] = TPlayer\n",
    "import tensorflow as tf\n",
    "\n",
    "from tensorflow import keras\n",
    "\n",
    "from tensorflow.keras import models\n",
    "\n",
    "import numpy as np\n",
    "\n",
    "\n",
    "\n",
    "\n",
    "# https://datascience.stackexchange.com/questions/48796/how-to-feed-lstm-with-different-input-array-sizes\n",
    "\n",
    "# https://keras.io/guides/understanding_masking_and_padding/\n",
    "\n",
    "# TODO: load the PlayerRecordHolder pickle, use that data to train a model that can be put in PlayerRecordNNEstimator,\n",
    "#   in order to estimate the likelihoods of each player being a spy.\n",
    "#   validate the outputs of the model using the known spy info in the player records.\n",
    "#   Remember to use the training set, test set, and validation set partitions present in PlayerRecordHolder,\n",
    "#   to ensure that there's a good range of data being used.\n",
    "# TODO: after that's done, save the model. Then, edit rl18730.py to load that model, and then use that model to\n",
    "#   produce more refined player suspicion estimates.\n",
    "# TODO: also compare the accuracy of the final neural network to the basic heuristic estimator already in PlayerRecord.\n",
    "#   If the neural network turns out to be worse than the heuristic estimator, we don't bother with it.\n"
   ]
  },
  {
   "cell_type": "markdown",
   "source": [
    "TODO: load the PlayerRecordHolder pickle, use that data to train a model that can be put in PlayerRecordNNEstimator,\n",
    "in order to estimate the likelihoods of each player being a spy.\n",
    "validate the outputs of the model using the known spy info in the player records.\n",
    "Remember to use the training set, test set, and validation set partitions present in PlayerRecordHolder,\n",
    "to ensure that there's a good range of data being used.\n",
    "\n",
    "TODO: after that's done, save the model. Then, edit rl18730.py to load that model,\n",
    "  and then use that model to produce more refined player suspicion estimates.\n",
    "\n",
    "TODO: also compare the accuracy of the final neural network to the basic heuristic estimator already in PlayerRecord.\n",
    "  If the neural network turns out to be worse than the heuristic estimator, we don't bother with it.\n",
    "\n",
    "\n",
    "NEURAL NETWORK STRUCTURE:\n",
    "\n",
    "    Inputs:\n",
    "        5 * ??? * 20\n",
    "            5 players, ??? rounds, 20 wide per round\n",
    "    Outputs:"
   ],
   "metadata": {
    "collapsed": false
   }
  },
  {
   "cell_type": "code",
   "execution_count": 8,
   "outputs": [
    {
     "name": "stdout",
     "output_type": "stream",
     "text": [
      "1806\n",
      "1806\n",
      "903\n"
     ]
    }
   ],
   "source": [
    "import random\n",
    "\n",
    "\n",
    "class json_gamerecordhistory_decoder(object):\n",
    "    \"\"\"\n",
    "    only here because unpickling doesn't work\n",
    "    \"\"\"\n",
    "\n",
    "    def __init__(self, json_strings: Iterable[str]) -> NoReturn:\n",
    "        self._game_records: List[Dict[str, Union[Tuple[float, ...], Tuple[int, ...], Tuple[int, ...]]]] = []\n",
    "        for j in json_strings:\n",
    "            d = json.loads(j)\n",
    "            self._game_records.append(d)\n",
    "\n",
    "    @property\n",
    "    def get_records(self) -> List[Dict[str, Union[Tuple[float, ...], Tuple[int, ...], Tuple[int, ...]]]]:\n",
    "        \"\"\"\n",
    "        Obtains all of the records held in this PlayerRecordHolder\n",
    "        :return: the list of all the records in this holder (arranged per game)\n",
    "        \"\"\"\n",
    "        return self._game_records.copy()\n",
    "\n",
    "    def get_training_set_and_test_set_and_validation_set(\n",
    "            self, training_size: float = 0.4, test_size: float = 0.4\n",
    "    ) -> Tuple[\n",
    "        List[Dict[str, Union[Tuple[float, ...], Tuple[int, ...], Tuple[int, ...]]]],\n",
    "        List[Dict[str, Union[Tuple[float, ...], Tuple[int, ...], Tuple[int, ...]]]],\n",
    "        List[Dict[str, Union[Tuple[float, ...], Tuple[int, ...], Tuple[int, ...]]]],\n",
    "    ]:\n",
    "        \"\"\"\n",
    "        Attempts to create a training set and a validation set from the data we have.\n",
    "        :param training_size: what proportion of our data are we putting into our training set?\n",
    "        :param test_size: what proportion of our data are we putting into our test set?\n",
    "        :return: a tuple with (training set data, test set data, validation set data)\n",
    "        \"\"\"\n",
    "\n",
    "        rec_len: int = len(self._game_records)\n",
    "\n",
    "        training_len: int = int(rec_len * training_size)\n",
    "        test_len: int = int(rec_len * test_size)\n",
    "\n",
    "        tt_len: int = training_len + test_len\n",
    "\n",
    "        val_len: int = rec_len - tt_len\n",
    "\n",
    "        assert training_len > 0\n",
    "        assert test_len > 0\n",
    "        assert val_len > 0\n",
    "\n",
    "        shuffled_all: List[Dict[str, Tuple[float, ...], Tuple[int, ...], Tuple[int, ...]]] = \\\n",
    "            random.sample(self._game_records, rec_len)\n",
    "\n",
    "        return shuffled_all[0:training_len], shuffled_all[training_len:tt_len], shuffled_all[tt_len:rec_len]\n",
    "\n",
    "log_file = open(\"heuristic bayes training data log.log\",\"r\")\n",
    "\n",
    "grh_dec = json_gamerecordhistory_decoder(log_file)\n",
    "log_file.close()\n",
    "\n",
    "data_sets = grh_dec.get_training_set_and_test_set_and_validation_set()\n",
    "\n",
    "print(len(data_sets[0]))\n",
    "print(len(data_sets[1]))\n",
    "print(len(data_sets[2]))"
   ],
   "metadata": {
    "collapsed": false,
    "pycharm": {
     "name": "#%%\n"
    }
   }
  },
  {
   "cell_type": "code",
   "execution_count": 9,
   "outputs": [],
   "source": [
    "# TODO: make and train a neural network, compare outputs of that\n",
    "# to the heuristic suspicion outputs"
   ],
   "metadata": {
    "collapsed": false,
    "pycharm": {
     "name": "#%%\n"
    }
   }
  }
 ],
 "metadata": {
  "kernelspec": {
   "display_name": "Python 3",
   "language": "python",
   "name": "python3"
  },
  "language_info": {
   "codemirror_mode": {
    "name": "ipython",
    "version": 2
   },
   "file_extension": ".py",
   "mimetype": "text/x-python",
   "name": "python",
   "nbconvert_exporter": "python",
   "pygments_lexer": "ipython2",
   "version": "2.7.6"
  }
 },
 "nbformat": 4,
 "nbformat_minor": 0
}