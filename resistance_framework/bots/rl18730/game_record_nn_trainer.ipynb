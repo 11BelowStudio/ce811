{
 "cells": [
  {
   "cell_type": "code",
   "execution_count": 1,
   "metadata": {
    "collapsed": true
   },
   "outputs": [
    {
     "name": "stdout",
     "output_type": "stream",
     "text": [
      "M:\\MSc\\CE811\\CE811_lowe_rachel_m\\resistance_framework\\bots\\rl18730.py\n",
      "{'__name__': 'bots.rl18730', '__doc__': None, '__package__': 'bots', '__loader__': <_frozen_importlib_external.SourceFileLoader object at 0x00000257C78E4EB0>, '__spec__': ModuleSpec(name='bots.rl18730', loader=<_frozen_importlib_external.SourceFileLoader object at 0x00000257C78E4EB0>, origin='M:\\\\MSc\\\\CE811\\\\CE811_lowe_rachel_m\\\\resistance_framework\\\\bots\\\\rl18730.py'), '__file__': 'M:\\\\MSc\\\\CE811\\\\CE811_lowe_rachel_m\\\\resistance_framework\\\\bots\\\\rl18730.py', '__cached__': 'M:\\\\MSc\\\\CE811\\\\CE811_lowe_rachel_m\\\\resistance_framework\\\\bots\\\\__pycache__\\\\rl18730.cpython-39.pyc', '__builtins__': {'__name__': 'builtins', '__doc__': \"Built-in functions, exceptions, and other objects.\\n\\nNoteworthy: None is the `nil' object; Ellipsis represents `...' in slices.\", '__package__': '', '__loader__': <class '_frozen_importlib.BuiltinImporter'>, '__spec__': ModuleSpec(name='builtins', loader=<class '_frozen_importlib.BuiltinImporter'>, origin='built-in'), '__build_class__': <built-in function __build_class__>, '__import__': <built-in function __import__>, 'abs': <built-in function abs>, 'all': <built-in function all>, 'any': <built-in function any>, 'ascii': <built-in function ascii>, 'bin': <built-in function bin>, 'breakpoint': <built-in function breakpoint>, 'callable': <built-in function callable>, 'chr': <built-in function chr>, 'compile': <built-in function compile>, 'delattr': <built-in function delattr>, 'dir': <built-in function dir>, 'divmod': <built-in function divmod>, 'eval': <built-in function eval>, 'exec': <built-in function exec>, 'format': <built-in function format>, 'getattr': <built-in function getattr>, 'globals': <built-in function globals>, 'hasattr': <built-in function hasattr>, 'hash': <built-in function hash>, 'hex': <built-in function hex>, 'id': <built-in function id>, 'input': <bound method Kernel.raw_input of <ipykernel.ipkernel.IPythonKernel object at 0x00000257C78102E0>>, 'isinstance': <built-in function isinstance>, 'issubclass': <built-in function issubclass>, 'iter': <built-in function iter>, 'len': <built-in function len>, 'locals': <built-in function locals>, 'max': <built-in function max>, 'min': <built-in function min>, 'next': <built-in function next>, 'oct': <built-in function oct>, 'ord': <built-in function ord>, 'pow': <built-in function pow>, 'print': <built-in function print>, 'repr': <built-in function repr>, 'round': <built-in function round>, 'setattr': <built-in function setattr>, 'sorted': <built-in function sorted>, 'sum': <built-in function sum>, 'vars': <built-in function vars>, 'None': None, 'Ellipsis': Ellipsis, 'NotImplemented': NotImplemented, 'False': False, 'True': True, 'bool': <class 'bool'>, 'memoryview': <class 'memoryview'>, 'bytearray': <class 'bytearray'>, 'bytes': <class 'bytes'>, 'classmethod': <class 'classmethod'>, 'complex': <class 'complex'>, 'dict': <class 'dict'>, 'enumerate': <class 'enumerate'>, 'filter': <class 'filter'>, 'float': <class 'float'>, 'frozenset': <class 'frozenset'>, 'property': <class 'property'>, 'int': <class 'int'>, 'list': <class 'list'>, 'map': <class 'map'>, 'object': <class 'object'>, 'range': <class 'range'>, 'reversed': <class 'reversed'>, 'set': <class 'set'>, 'slice': <class 'slice'>, 'staticmethod': <class 'staticmethod'>, 'str': <class 'str'>, 'super': <class 'super'>, 'tuple': <class 'tuple'>, 'type': <class 'type'>, 'zip': <class 'zip'>, '__debug__': True, 'BaseException': <class 'BaseException'>, 'Exception': <class 'Exception'>, 'TypeError': <class 'TypeError'>, 'StopAsyncIteration': <class 'StopAsyncIteration'>, 'StopIteration': <class 'StopIteration'>, 'GeneratorExit': <class 'GeneratorExit'>, 'SystemExit': <class 'SystemExit'>, 'KeyboardInterrupt': <class 'KeyboardInterrupt'>, 'ImportError': <class 'ImportError'>, 'ModuleNotFoundError': <class 'ModuleNotFoundError'>, 'OSError': <class 'OSError'>, 'EnvironmentError': <class 'OSError'>, 'IOError': <class 'OSError'>, 'WindowsError': <class 'OSError'>, 'EOFError': <class 'EOFError'>, 'RuntimeError': <class 'RuntimeError'>, 'RecursionError': <class 'RecursionError'>, 'NotImplementedError': <class 'NotImplementedError'>, 'NameError': <class 'NameError'>, 'UnboundLocalError': <class 'UnboundLocalError'>, 'AttributeError': <class 'AttributeError'>, 'SyntaxError': <class 'SyntaxError'>, 'IndentationError': <class 'IndentationError'>, 'TabError': <class 'TabError'>, 'LookupError': <class 'LookupError'>, 'IndexError': <class 'IndexError'>, 'KeyError': <class 'KeyError'>, 'ValueError': <class 'ValueError'>, 'UnicodeError': <class 'UnicodeError'>, 'UnicodeEncodeError': <class 'UnicodeEncodeError'>, 'UnicodeDecodeError': <class 'UnicodeDecodeError'>, 'UnicodeTranslateError': <class 'UnicodeTranslateError'>, 'AssertionError': <class 'AssertionError'>, 'ArithmeticError': <class 'ArithmeticError'>, 'FloatingPointError': <class 'FloatingPointError'>, 'OverflowError': <class 'OverflowError'>, 'ZeroDivisionError': <class 'ZeroDivisionError'>, 'SystemError': <class 'SystemError'>, 'ReferenceError': <class 'ReferenceError'>, 'MemoryError': <class 'MemoryError'>, 'BufferError': <class 'BufferError'>, 'Warning': <class 'Warning'>, 'UserWarning': <class 'UserWarning'>, 'DeprecationWarning': <class 'DeprecationWarning'>, 'PendingDeprecationWarning': <class 'PendingDeprecationWarning'>, 'SyntaxWarning': <class 'SyntaxWarning'>, 'RuntimeWarning': <class 'RuntimeWarning'>, 'FutureWarning': <class 'FutureWarning'>, 'ImportWarning': <class 'ImportWarning'>, 'UnicodeWarning': <class 'UnicodeWarning'>, 'BytesWarning': <class 'BytesWarning'>, 'ResourceWarning': <class 'ResourceWarning'>, 'ConnectionError': <class 'ConnectionError'>, 'BlockingIOError': <class 'BlockingIOError'>, 'BrokenPipeError': <class 'BrokenPipeError'>, 'ChildProcessError': <class 'ChildProcessError'>, 'ConnectionAbortedError': <class 'ConnectionAbortedError'>, 'ConnectionRefusedError': <class 'ConnectionRefusedError'>, 'ConnectionResetError': <class 'ConnectionResetError'>, 'FileExistsError': <class 'FileExistsError'>, 'FileNotFoundError': <class 'FileNotFoundError'>, 'IsADirectoryError': <class 'IsADirectoryError'>, 'NotADirectoryError': <class 'NotADirectoryError'>, 'InterruptedError': <class 'InterruptedError'>, 'PermissionError': <class 'PermissionError'>, 'ProcessLookupError': <class 'ProcessLookupError'>, 'TimeoutError': <class 'TimeoutError'>, 'open': <built-in function open>, 'copyright': Copyright (c) 2001-2021 Python Software Foundation.\n",
      "All Rights Reserved.\n",
      "\n",
      "Copyright (c) 2000 BeOpen.com.\n",
      "All Rights Reserved.\n",
      "\n",
      "Copyright (c) 1995-2001 Corporation for National Research Initiatives.\n",
      "All Rights Reserved.\n",
      "\n",
      "Copyright (c) 1991-1995 Stichting Mathematisch Centrum, Amsterdam.\n",
      "All Rights Reserved., 'credits':     Thanks to CWI, CNRI, BeOpen.com, Zope Corporation and a cast of thousands\n",
      "    for supporting Python development.  See www.python.org for more information., 'license': Type license() to see the full license text, 'help': Type help() for interactive help, or help(object) for help about object., '__IPYTHON__': True, 'display': <function display at 0x00000257C62EF4C0>, 'get_ipython': <bound method InteractiveShell.get_ipython of <ipykernel.zmqshell.ZMQInteractiveShell object at 0x00000257C78103D0>>, '__pybind11_internals_v4_msvc__': <capsule object NULL at 0x00000257FFE43840>}, '__annotations__': {'resources_file_path': <class 'pathlib.Path'>}, 'logging': <module 'logging' from 'c:\\\\python3\\\\lib\\\\logging\\\\__init__.py'>, 'os': <module 'os' from 'c:\\\\python3\\\\lib\\\\os.py'>, 'pickle': <module 'pickle' from 'c:\\\\python3\\\\lib\\\\pickle.py'>, 'random': <module 'random' from 'c:\\\\python3\\\\lib\\\\random.py'>, '__warningregistry__': {'version': 19}, 'Collection': <class 'collections.abc.Collection'>, 'count': <class 'itertools.count'>, 'INFO': 20, 'keras': <module 'tensorflow.keras' from 'c:\\\\python3\\\\lib\\\\site-packages\\\\tensorflow\\\\keras\\\\__init__.py'>, 'Bot': <class 'player.Bot'>, 'Player': <class 'player.Player'>, 'State': <class 'game.State'>, 'TypeVar': <class 'typing.TypeVar'>, 'List': typing.List, 'Dict': typing.Dict, 'Set': typing.Set, 'Tuple': typing.Tuple, 'Iterable': typing.Iterable, 'FrozenSet': typing.FrozenSet, 'Union': typing.Union, 'NoReturn': typing.NoReturn, 'ClassVar': typing.ClassVar, 'Callable': typing.Callable, 'Enum': <enum 'Enum'>, 'Path': <class 'pathlib.Path'>, 'json': <module 'json' from 'c:\\\\python3\\\\lib\\\\json\\\\__init__.py'>, 'TPlayer': ~TPlayer, 'T': ~T, 'resources_file_path': WindowsPath('M:/MSc/CE811/CE811_lowe_rachel_m/resistance_framework/bots/rl18730/bots/rl18730'), 'NN_INPUTS': typing.Tuple[float, float, float, float, float, float, float, float, float, float, float, float, float, float, float, float, float, float], 'NN_5INPUTS': typing.Tuple[typing.Tuple[float, float, float, float, float, float, float, float, float, float, float, float, float, float, float, float, float, float], typing.Tuple[float, float, float, float, float, float, float, float, float, float, float, float, float, float, float, float, float, float], typing.Tuple[float, float, float, float, float, float, float, float, float, float, float, float, float, float, float, float, float, float], typing.Tuple[float, float, float, float, float, float, float, float, float, float, float, float, float, float, float, float, float, float], typing.Tuple[float, float, float, float, float, float, float, float, float, float, float, float, float, float, float, float, float, float]], 'NN_T_INPUTS': typing.Tuple[typing.Tuple[typing.Tuple[float, float, float, float, float, float, float, float, float, float, float, float, float, float, float, float, float, float], typing.Tuple[float, float, float, float, float, float, float, float, float, float, float, float, float, float, float, float, float, float], typing.Tuple[float, float, float, float, float, float, float, float, float, float, float, float, float, float, float, float, float, float], typing.Tuple[float, float, float, float, float, float, float, float, float, float, float, float, float, float, float, float, float, float], typing.Tuple[float, float, float, float, float, float, float, float, float, float, float, float, float, float, float, float, float, float]], ...], 'RoleAllocationEnum': <enum 'RoleAllocationEnum'>, 'GamestateTree': <class 'bots.rl18730.GamestateTree'>, 'MCTSTree': <class 'bots.rl18730.MCTSTree'>, 'TeamRecord': <class 'bots.rl18730.TeamRecord'>, 'TempTeamRecord': <class 'bots.rl18730.TempTeamRecord'>, 'PlayerRecord': <class 'bots.rl18730.PlayerRecord'>, 'GameRecord': <class 'bots.rl18730.GameRecord'>, 'GameRecordHistory': <class 'bots.rl18730.GameRecordHistory'>, 'PlayerRecordNNEstimator': <class 'bots.rl18730.PlayerRecordNNEstimator'>, 'SpySabotageChanceStats': <class 'bots.rl18730.SpySabotageChanceStats'>, 'WinProbabilitiesTable': <class 'bots.rl18730.WinProbabilitiesTable'>, 'NeuralNetworker': <class 'bots.rl18730.NeuralNetworker'>, 'rl18730': <class 'bots.rl18730.rl18730'>}\n"
     ]
    }
   ],
   "source": [
    "import os\n",
    "import json\n",
    "\n",
    "import random\n",
    "\n",
    "import sys\n",
    "from typing import List, Tuple, TypeVar, Dict, NoReturn, Iterable, Union, Iterator, overload, Generator\n",
    "\n",
    "from pathlib import Path\n",
    "\n",
    "from itertools import chain\n",
    "\n",
    "from keras import Input\n",
    "\n",
    "resources_file_path: Path = Path().cwd()\n",
    "\n",
    "print(str(resources_file_path.parent/\"rl18730.py\"))\n",
    "\n",
    "sys.path.append(str(resources_file_path.parent/\"rl18730.py\"))\n",
    "\n",
    "\n",
    "from bots.rl18730 import PlayerRecord, GameRecordHistory, GameRecord, PlayerRecordNNEstimator,\\\n",
    "    RoleAllocationEnum, GamestateTree, TPlayer\n",
    "\n",
    "import bots.rl18730 as rl18730\n",
    "\n",
    "print(rl18730.__dict__)\n",
    "\n",
    "#sys.modules[\"GameRecordHistory\"] = GameRecordHistory\n",
    "#sys.modules[\"PlayerRecordNNEstimator\"] = PlayerRecordNNEstimator\n",
    "#sys.modules[\"RoleAllocationEnum\"] = RoleAllocationEnum\n",
    "#sys.modules[\"GamestateTree\"] = GamestateTree\n",
    "#sys.modules[\"TPlayer\"] = TPlayer\n",
    "import tensorflow as tf\n",
    "\n",
    "from tensorflow import keras\n",
    "\n",
    "from tensorflow.keras import layers\n",
    "\n",
    "import numpy as np\n",
    "\n",
    "import matplotlib.pyplot as plt\n",
    "\n",
    "\n",
    "\n",
    "\n",
    "# https://datascience.stackexchange.com/questions/48796/how-to-feed-lstm-with-different-input-array-sizes\n",
    "\n",
    "# https://keras.io/guides/understanding_masking_and_padding/\n",
    "\n",
    "# TODO: load the PlayerRecordHolder pickle, use that data to train a model that can be put in PlayerRecordNNEstimator,\n",
    "#   in order to estimate the likelihoods of each player being a spy.\n",
    "#   validate the outputs of the model using the known spy info in the player records.\n",
    "#   Remember to use the training set, test set, and validation set partitions present in PlayerRecordHolder,\n",
    "#   to ensure that there's a good range of data being used.\n",
    "# TODO: after that's done, save the model. Then, edit rl18730.py to load that model, and then use that model to\n",
    "#   produce more refined player suspicion estimates.\n",
    "# TODO: also compare the accuracy of the final neural network to the basic heuristic estimator already in PlayerRecord.\n",
    "#   If the neural network turns out to be worse than the heuristic estimator, we don't bother with it.\n"
   ]
  },
  {
   "cell_type": "markdown",
   "source": [
    "TODO: load the PlayerRecordHolder pickle, use that data to train a model that can be put in PlayerRecordNNEstimator,\n",
    "in order to estimate the likelihoods of each player being a spy.\n",
    "validate the outputs of the model using the known spy info in the player records.\n",
    "Remember to use the training set, test set, and validation set partitions present in PlayerRecordHolder,\n",
    "to ensure that there's a good range of data being used.\n",
    "\n",
    "TODO: after that's done, save the model. Then, edit rl18730.py to load that model,\n",
    "  and then use that model to produce more refined player suspicion estimates.\n",
    "\n",
    "TODO: also compare the accuracy of the final neural network to the basic heuristic estimator already in PlayerRecord.\n",
    "  If the neural network turns out to be worse than the heuristic estimator, we don't bother with it.\n",
    "\n",
    "\n",
    "NEURAL NETWORK STRUCTURE:\n",
    "\n",
    "    Inputs:\n",
    "        20 * 5 * ???\n",
    "            20 items of data per player, 5 players per round, ??? rounds\n",
    "    Outputs:\n",
    "        2 * 5 * ???\n",
    "            2 values (p(spy),p(not spy)) per player, 5 players per round, ???? rounds."
   ],
   "metadata": {
    "collapsed": false
   }
  },
  {
   "cell_type": "code",
   "execution_count": 1,
   "outputs": [],
   "source": [],
   "metadata": {
    "collapsed": false,
    "pycharm": {
     "name": "#%%\n"
    }
   }
  },
  {
   "cell_type": "code",
   "execution_count": 2,
   "outputs": [
    {
     "data": {
      "text/plain": "\"\\n\\nYou might currently think that these type aliases were a waste of time. But you'll thank me later.\\n\""
     },
     "execution_count": 2,
     "metadata": {},
     "output_type": "execute_result"
    }
   ],
   "source": [
    "NN_TUPLE = Tuple[\n",
    "    float, float, float, float, float, float,\n",
    "    float, float, float, float, float, float,\n",
    "    float, float, float, float, float, float,\n",
    "]\n",
    "\"\"\"\n",
    "A type alias for the tuple representing the inputs into the neural network\n",
    "for a single player at the given gamestate\n",
    "\"\"\"\n",
    "\n",
    "NN_5TUPLE = Tuple[NN_TUPLE, NN_TUPLE, NN_TUPLE, NN_TUPLE, NN_TUPLE]\n",
    "\"\"\"\n",
    "A type alias for the tuple representing the vector of 5 inputs into the neural network for the given gamestate.\n",
    "Yes, it's literally just a tuple of 5 NN_TUPLES.\n",
    "\"\"\"\n",
    "\n",
    "HSD_TUPLE = Tuple[float, float, float, float, float]\n",
    "\"\"\"\n",
    "A type alias for the heuristic suspicion dict return values\n",
    "Yes, it's a tuple of 5 floats. But you'll probably be seeing it a lot.\n",
    "\"\"\"\n",
    "\n",
    "LABEL_TUPLE= Tuple[int, int, int, int, int]\n",
    "\"\"\"\n",
    "This is a type alias for the one-hot encoded spy vector, which is effectively being used as the label when testing the\n",
    "neural network.\n",
    "\"\"\"\n",
    "\n",
    "GAMESTATE_DICT_DATA = Union[Tuple[NN_5TUPLE], Tuple[HSD_TUPLE], LABEL_TUPLE]\n",
    "\"\"\"\n",
    "A type alias for the actual data held in the keys of the dictionaries that will be decoded from the JSON\n",
    "in the logs\n",
    "\"\"\"\n",
    "\n",
    "GAMESTATE_DICT = Dict[str, GAMESTATE_DICT_DATA]\n",
    "\"\"\"\n",
    "A type alias for the dictionaries themselves that need to be read from the JSON.\n",
    "\"\"\"\n",
    "\n",
    "IND_GS_DATA = Tuple[NN_5TUPLE, LABEL_TUPLE, HSD_TUPLE]\n",
    "\"\"\"\n",
    "a type alias for the data from a single element of a gamestate.\n",
    "\"\"\"\n",
    "\n",
    "\n",
    "NN_ONESHOT_LABELS = Tuple[\n",
    "    Tuple[int, int],\n",
    "    Tuple[int, int],\n",
    "    Tuple[int, int],\n",
    "    Tuple[int, int],\n",
    "    Tuple[int, int]\n",
    "]\n",
    "\"\"\"\n",
    "\n",
    "You might currently think that these type aliases were a waste of time. But you'll thank me later.\n",
    "\"\"\"\n"
   ],
   "metadata": {
    "collapsed": false,
    "pycharm": {
     "name": "#%%\n"
    }
   }
  },
  {
   "cell_type": "code",
   "execution_count": 3,
   "outputs": [],
   "source": [
    "\n",
    "class JsonGamestateDictDecoder(object):\n",
    "    \"\"\"\n",
    "    only here because unpickling doesn't work\n",
    "    \"\"\"\n",
    "\n",
    "    def __init__(self, json_strings: Iterable[str]) -> None:\n",
    "        \"\"\"\n",
    "        Attempts to load the iterator of JSON stringed GAMESTATE_DICTs into a tuple of GAMESTATE_DICT objects.\n",
    "        :param json_strings: an iterator of JSON string format GAMESTATE_DICT dictionaries\n",
    "        \"\"\"\n",
    "        # noinspection PyTypeChecker\n",
    "        self._game_records: Tuple[GAMESTATE_DICT] = tuple(\n",
    "            d for d in (\n",
    "                json.loads(j) for j in json_strings\n",
    "            )\n",
    "        )\n",
    "\n",
    "    @property\n",
    "    def get_records(self) -> Tuple[GAMESTATE_DICT]:\n",
    "        \"\"\"\n",
    "        Obtains all of the records held in this PlayerRecordHolder\n",
    "        :return: the list of all the records in this holder (arranged per game)\n",
    "        \"\"\"\n",
    "        return self._game_records\n",
    "\n",
    "    def get_training_set_and_test_set_and_validation_set(\n",
    "            self, training_size: float = 0.35, test_size: float = 0.35\n",
    "    ) -> Tuple[\n",
    "        Tuple[GAMESTATE_DICT],\n",
    "        Tuple[GAMESTATE_DICT],\n",
    "        Tuple[GAMESTATE_DICT],\n",
    "    ]:\n",
    "        \"\"\"\n",
    "        Attempts to create a training set and a validation set from the data we have.\n",
    "        :param training_size: what proportion of our data are we putting into our training set?\n",
    "        :param test_size: what proportion of our data are we putting into our test set?\n",
    "        :return: a tuple with (training set data, test set data, validation set data)\n",
    "        \"\"\"\n",
    "\n",
    "        rec_len: int = len(self._game_records)\n",
    "\n",
    "        training_len: int = int(rec_len * training_size)\n",
    "        test_len: int = int(rec_len * test_size)\n",
    "\n",
    "        tt_len: int = training_len + test_len\n",
    "\n",
    "        val_len: int = rec_len - tt_len\n",
    "\n",
    "        assert training_len > 0\n",
    "        assert test_len > 0\n",
    "        assert val_len > 0\n",
    "\n",
    "        shuffled_all: List[GAMESTATE_DICT] = random.sample(self._game_records, rec_len)\n",
    "\n",
    "        return tuple(shuffled_all[0:training_len]), tuple(shuffled_all[training_len:tt_len]), tuple(shuffled_all[tt_len:rec_len])\n",
    "\n",
    "log_file = open(\"heuristic bayes training data log.log\",\"r\")\n",
    "\n",
    "grh_dec: JsonGamestateDictDecoder = JsonGamestateDictDecoder(log_file)\n",
    "log_file.close()\n",
    "\n",
    "data_sets: Tuple[Tuple[GAMESTATE_DICT], Tuple[GAMESTATE_DICT], Tuple[GAMESTATE_DICT]] = grh_dec.get_training_set_and_test_set_and_validation_set()\n"
   ],
   "metadata": {
    "collapsed": false,
    "pycharm": {
     "name": "#%%\n"
    }
   }
  },
  {
   "cell_type": "code",
   "execution_count": 4,
   "outputs": [],
   "source": [
    "# TODO: make and train a neural network, compare outputs of that\n",
    "# to the heuristic suspicion outputs"
   ],
   "metadata": {
    "collapsed": false,
    "pycharm": {
     "name": "#%%\n"
    }
   }
  },
  {
   "cell_type": "code",
   "execution_count": 5,
   "outputs": [
    {
     "name": "stdout",
     "output_type": "stream",
     "text": [
      "4596\n",
      "4596\n",
      "3941\n"
     ]
    }
   ],
   "source": [
    "\n",
    "\n",
    "class DataStore(Iterable[\"DataStore.IndividualDataset\"]):\n",
    "    \"\"\"\n",
    "    A class that basically holds the same data as the list of gamestate dicts, but in a more useful way.\n",
    "    Because this time, it now stores them as IndividualDatasets!\n",
    "    \"\"\"\n",
    "\n",
    "    class IndividualDataset(Iterable[IND_GS_DATA]):\n",
    "        \"\"\"\n",
    "        The dataset for an individual game.\n",
    "\n",
    "        It has an iterator to allow each individual gamestate's gamestate data to be iterated through.\n",
    "        \"\"\"\n",
    "\n",
    "        @classmethod\n",
    "        def from_data_dict(cls, data_dict: GAMESTATE_DICT) -> \"DataStore.IndividualDataset\":\n",
    "            \"\"\"\n",
    "            Use this to construct the class from a GAMESTATE_DICT format dictionary\n",
    "            :param data_dict: the dict of data that we want to turn into an IndividualDataset\n",
    "            :return: an IndividualDataset that represents the data held in the GAMESTATE_DICT\n",
    "            \"\"\"\n",
    "            return DataStore.IndividualDataset(\n",
    "                tuple(data_dict[\"spies\"]), tuple(data_dict[\"nn_in\"]), tuple(data_dict[\"hsd_out\"])\n",
    "            )\n",
    "\n",
    "        def __init__(\n",
    "                self,\n",
    "                labels: LABEL_TUPLE,\n",
    "                nn_inputs: Tuple[NN_5TUPLE],\n",
    "                hsd_outputs: Tuple[HSD_TUPLE]\n",
    "        ):\n",
    "            \"\"\"\n",
    "            Constructs this class to hold the contents of the data_dict in a slightly more managable format\n",
    "            :param data_dict: the unjsoned json log string from the log file produced by the rl18730 bot\n",
    "            \"\"\"\n",
    "            # noinspection PyTypeChecker\n",
    "            self._labels: LABEL_TUPLE = labels\n",
    "\n",
    "            # noinspection PyTypeChecker\n",
    "            self._nn_inputs: Tuple[NN_5TUPLE] = nn_inputs\n",
    "\n",
    "            # noinspection PyTypeChecker\n",
    "            self._hsd_outputs: Tuple[HSD_TUPLE] = hsd_outputs\n",
    "\n",
    "\n",
    "        @property\n",
    "        def labels(self) -> LABEL_TUPLE:\n",
    "            \"\"\"Obtain the label tuple for this individual dataset.\"\"\"\n",
    "            return self._labels\n",
    "\n",
    "        @property\n",
    "        def labels_oneshot(self) -> NN_ONESHOT_LABELS:\n",
    "            \"\"\"\n",
    "            yo dawg I heard you like one-shot encoding so I one-shot the one-shot encoded tuple\n",
    "            of labels (turning 0s into (0,1) and 1s into (1,0))\n",
    "            because I heard that you keras networks are into that sort of freaky stuff\n",
    "            \"\"\"\n",
    "            # noinspection PyTypeChecker\n",
    "            return tuple(\n",
    "                (0,1) if l == 0 else (1,0) for l in self.labels\n",
    "            )\n",
    "\n",
    "        @property\n",
    "        def hsd_to_oneshot(self) -> Iterator[NN_ONESHOT_LABELS]:\n",
    "            \"\"\"\n",
    "            HSD output generator\n",
    "            \"\"\"\n",
    "            for o in self._hsd_outputs:\n",
    "                yield tuple(\n",
    "                (0,1) if l >= 0.5 else (1,0) for l in o\n",
    "            )\n",
    "\n",
    "        @property\n",
    "        def hsd_to_oneshot_more_realistic(self) -> Iterator[NN_ONESHOT_LABELS]:\n",
    "            # TODO: try using this in when comparing model to heuristic?\n",
    "            for o in self._hsd_outputs:\n",
    "                sorted_hsd = sorted(\n",
    "                    ((i, o[i]) for i in range(len(o))),\n",
    "                    key = lambda kv: kv[1],\n",
    "                    reverse=True\n",
    "                )\n",
    "                out_o =[(),(),(),(),()]\n",
    "                for s in range(0,2):\n",
    "                    out_o[sorted_hsd[s][0]] = (1,0)\n",
    "                for r in range(2,5):\n",
    "                    out_o[sorted_hsd[r][0]] = (0,1)\n",
    "                return tuple(out_o)\n",
    "\n",
    "\n",
    "        @property\n",
    "        def hsd_outputs_generator_argmax(self) -> Iterator[NN_ONESHOT_LABELS]:\n",
    "            \"\"\"\n",
    "            HSD outputs but post-argmax, in same format as the\n",
    "            \"\"\"\n",
    "            for o in self._hsd_outputs:\n",
    "                yield tuple(\n",
    "                (0,1) if l == 0 else (1,0) for l in o\n",
    "            )\n",
    "\n",
    "\n",
    "\n",
    "        @property\n",
    "        def nn_inputs(self) -> Tuple[NN_5TUPLE]:\n",
    "            \"\"\"Obtain the NN inputs tuple for this individual dataset\"\"\"\n",
    "            return self._nn_inputs\n",
    "\n",
    "        @property\n",
    "        def hsd_outputs(self) -> Tuple[HSD_TUPLE]:\n",
    "            \"\"\"Obtain the heuristic suspicion dict tuple for this individual dataset\"\"\"\n",
    "            return self._hsd_outputs\n",
    "\n",
    "        @property\n",
    "        def training_data_generator(self) -> Iterator[Tuple[np.ndarray, np.ndarray]]:\n",
    "            \"\"\"\n",
    "            A generator that produces all of the possible training data for this individual record\n",
    "            :return: a tuple containing a list of the NN inputs for this state, along with a label tuple for this state.\n",
    "            Each iteration of this generator, the next NN_5TUPLE in the inputs tuple is added to the Iterable[NN_5TUPLE]\n",
    "            in the output.\n",
    "            \"\"\"\n",
    "            inputs: np.ndarray = np.empty(shape=(1,5,20))\n",
    "            for i in self.indices:\n",
    "                inputs = np.concatenate((inputs, np.array((self._nn_inputs[i]))), axis=0)\n",
    "                yield inputs, np.array(self._labels)\n",
    "\n",
    "        @property\n",
    "        def np_inputs_generator(self) -> Iterator[np.ndarray]:\n",
    "            \"\"\"\n",
    "            A generator that's only for the inputs\n",
    "            :return:\n",
    "            \"\"\"\n",
    "            inputs: np.ndarray = np.empty(shape=(1,5,20))\n",
    "            for i in self.indices:\n",
    "                #inputs = np.concatenate((inputs, np.array(tuple(self._nn_inputs[i]))), axis=0)\n",
    "                yield np.array(self._nn_inputs[i])\n",
    "                # np.stack([np.array(inp) for inp in self._nn_inputs[0:i+1]]) #inputs\n",
    "\n",
    "        @property\n",
    "        def simpler_np_inputs_generator(self) -> Iterator[np.ndarray]:\n",
    "            for i in self.indices:\n",
    "                yield np.array(self._nn_inputs[i])\n",
    "                #yield tuple(\n",
    "                #    np.array(t) for t in self._nn_inputs[i]\n",
    "                #)\n",
    "\n",
    "        @property\n",
    "        def tf_ragged_inputs_generator(self) -> Iterator[tf.ragged.constant]:\n",
    "            for i in self.indices:\n",
    "                #inputs = np.concatenate((inputs, np.array(tuple(self._nn_inputs[i]))), axis=0)\n",
    "                yield tf.ragged.constant([np.array(inp) for inp in self._nn_inputs[0:i+1]]) #inputs\n",
    "\n",
    "        @property\n",
    "        def np_ragged_generator(self) -> Iterator[np.ndarray]:\n",
    "            for i in self.indices:\n",
    "                return np.stack([np.array(inp) for inp in self._nn_inputs[0:i+1]])\n",
    "\n",
    "        @property\n",
    "        def np_labels_generator(self) -> Iterator[np.ndarray]:\n",
    "            for i in self.indices:\n",
    "                yield self.labels_np_oneshot\n",
    "\n",
    "        def simpler_np_inputs_also_labels_generator(self) -> Generator[Tuple[np.ndarray, np.ndarray], None, None]:\n",
    "            for i in self._nn_inputs:\n",
    "                yield np.array(i).T, np.array(self.labels)\n",
    "\n",
    "\n",
    "        def np_inputs_2(self) -> Iterator[np.ndarray]:\n",
    "            for i in self._nn_inputs:\n",
    "                yield np.array(i)\n",
    "\n",
    "        def np_labels_2(self) -> Iterator[np.ndarray]:\n",
    "            for i in self._nn_inputs:\n",
    "                yield np.ndarray(self.labels_oneshot)\n",
    "\n",
    "        @property\n",
    "        def oneshot_labels_generator(self) -> Iterator[NN_ONESHOT_LABELS]:\n",
    "            for i in self._nn_inputs:\n",
    "                yield self.labels_oneshot\n",
    "\n",
    "\n",
    "\n",
    "        @overload\n",
    "        def __getitem__(self, key: int) -> IND_GS_DATA:\n",
    "            \"\"\"\n",
    "            Overload for getitem when an int is given.\n",
    "            Returns neural network inputs for the nth gamestate,\n",
    "            along with the hsd outputs for the nth gamestate,\n",
    "            accompanied by the labels for the nth gamestate via ind_ds[n]\n",
    "            :param key: nth gamestate (starting at 0).\n",
    "            :return: tuple with that gamestate's neural network inputs, the labels for the neural network input,\n",
    "            and the heuristic suspicion outputs tuple for that gamestate\n",
    "            \"\"\"\n",
    "            pass\n",
    "\n",
    "        @overload\n",
    "        def __getitem__(self, key: slice) -> \"DataStore.IndividualDataset\":\n",
    "            \"\"\"\n",
    "            Overload for getitem when a slice is given\n",
    "            Returns a Dataset.IndividualDataset retaining only the part of nn_inputs and hsd_outputs\n",
    "            described by the slice.\n",
    "            :param key: slice with details about the desired slice.\n",
    "            :return: IND_GS_SLICE_DATA for the given slice info.\n",
    "            \"\"\"\n",
    "            pass\n",
    "\n",
    "        def __getitem__(self, key):\n",
    "            \"\"\"\n",
    "            Makes it easier to get the neural network inputs for the nth gamestate,\n",
    "            along with the hsd outputs for the nth gamestate, accompanied by the labels for the nth gamestate\n",
    "            via ind_ds[n]\n",
    "            :param key: if an int, will obtain the item at nth gamestate (starting at 0).\n",
    "            if a slice, will return a new IndividualDataset, holding only the specified slice of nn_inputs and hsd_outputs\n",
    "            :return: tuple with that gamestate's neural network inputs, the labels for the neural network input,\n",
    "            and the heuristic suspicion outputs tuple for that gamestate\n",
    "            \"\"\"\n",
    "            if type(key) == slice:\n",
    "                return DataStore.IndividualDataset(self.labels, self._nn_inputs[key], self._hsd_outputs[key])\n",
    "            elif type(key) == int:\n",
    "                return self._nn_inputs[key], self._labels, self._hsd_outputs[key]\n",
    "\n",
    "        def __len__(self) -> int:\n",
    "            \"\"\"Helper function to return how many gamestates in total are in this individual dataset\"\"\"\n",
    "            return self._hsd_outputs.__len__()\n",
    "\n",
    "        def __iter__(self) -> Iterator[IND_GS_DATA]:\n",
    "            \"\"\"Helper function to return an iterator to iterate through the data for each gamestate in this dataset\"\"\"\n",
    "            return DataStore.IndividualDataset.IndividualDatasetIterator(self)\n",
    "\n",
    "        @property\n",
    "        def indices(self) -> range:\n",
    "            \"\"\"Returns a range object between 0 and len, giving all valid indices for getitem or slicing etc\"\"\"\n",
    "            return range(0, self._hsd_outputs.__len__())\n",
    "\n",
    "\n",
    "        class IndividualDatasetIterator(Iterator[IND_GS_DATA]):\n",
    "            \"\"\"\n",
    "            An iterator for an IndividualDataset object,\n",
    "            returning the individual gamestate data\n",
    "            (neural network inputs for each player, labels, HSD estimation for each player)\n",
    "            \"\"\"\n",
    "\n",
    "            def __init__(self, i_ds: \"DataStore.IndividualDataset\"):\n",
    "                \"\"\"\n",
    "                Constructor, sets self._i to 0, and obtains a copy of the dataset\n",
    "                :param i_ds: the dataset to iterate through\n",
    "                \"\"\"\n",
    "                self._ds: \"DataStore.IndividualDataset\" = i_ds\n",
    "                self._i: int = 0\n",
    "\n",
    "            def __next__(self) -> IND_GS_DATA:\n",
    "                \"\"\"\n",
    "                Iterates through the individual dataset object,\n",
    "                returning the result of self._ds[self._i] for each value of self._i,\n",
    "                until self._i >= self._ds.len()\n",
    "                :return: individual gamestate data for the current gamestate of the dataset\n",
    "                \"\"\"\n",
    "                if self._i >= self._ds.__len__():\n",
    "                    raise StopIteration\n",
    "                data: IND_GS_DATA = self._ds[self._i]\n",
    "                self._i += 1\n",
    "                return data\n",
    "\n",
    "\n",
    "\n",
    "    def __init__(self, datasets: Tuple[GAMESTATE_DICT]):\n",
    "        \"\"\"\n",
    "        Initialiser for this object\n",
    "        :param datasets: the tuple of GAMESTATE_DICTs that we are turning into IndividualDatasets\n",
    "        \"\"\"\n",
    "        self._datasets: Tuple[DataStore.IndividualDataset] = tuple(\n",
    "            DataStore.IndividualDataset.from_data_dict(d) for d in datasets\n",
    "        )\n",
    "        pass\n",
    "\n",
    "    @property\n",
    "    def datasets(self) -> Tuple[\"DataStore.IndividualDataset\"]:\n",
    "        \"\"\"Obtains the tuple of individualdatasets held within this dataset\"\"\"\n",
    "        return self._datasets\n",
    "\n",
    "    def __len__(self) -> int:\n",
    "        \"\"\"gets the length of the datasets tuple\"\"\"\n",
    "        return self._datasets.__len__()\n",
    "\n",
    "    def __iter__(self) -> Iterator[\"DataStore.IndividualDataset\"]:\n",
    "        \"\"\"generates an iterator through the datasets held within this\"\"\"\n",
    "        return self._datasets.__iter__()\n",
    "\n",
    "    @property\n",
    "    def training_data_generator(self) -> Tuple[np.ndarray, np.ndarray, int]:\n",
    "        \"\"\"Generator that generates training data with labels and batch size to give to the model\"\"\"\n",
    "        inputs: np.ndarray = np.empty(shape=(1,5,18))\n",
    "        labels: np.ndarray = np.empty(shape=(1,5))\n",
    "\n",
    "        for ds in self:\n",
    "            for i_l in ds.training_data_generator:\n",
    "                inputs = np.concatenate((inputs, i_l[0]), axis=0)\n",
    "                labels = np.concatenate((labels, [i_l[1]]), axis=1)\n",
    "        return inputs, labels, labels.shape[1]\n",
    "\n",
    "    @property\n",
    "    def np_inputs_generator(self) -> Generator[np.ndarray, None, None]:\n",
    "        for ind in self:\n",
    "            for i in ind.np_inputs_generator:\n",
    "                yield i\n",
    "\n",
    "    @property\n",
    "    def np_simpler_inputs_generator(self) -> Generator[np.ndarray, None, None]:\n",
    "        for ind in self:\n",
    "            for i in ind.simpler_np_inputs_generator:\n",
    "                yield i\n",
    "\n",
    "    @property\n",
    "    def tf_ragged_inputs_generator(self) ->  tf.ragged.constant:\n",
    "\n",
    "        return tf.ragged.constant(\n",
    "            tuple(ind.np_ragged_generator for ind in self)\n",
    "        )\n",
    "\n",
    "    @property\n",
    "    def np_labels_generator(self) -> Generator[np.ndarray, None, None]:\n",
    "        for ind in self:\n",
    "            for l in ind.np_labels_generator:\n",
    "                yield l\n",
    "\n",
    "\n",
    "    def inputs_and_labels_generator(self) -> Iterator[Tuple[np.ndarray, np.ndarray]]:\n",
    "        for ind in self:\n",
    "            for t in ind.simpler_np_inputs_also_labels_generator():\n",
    "                yield t\n",
    "\n",
    "    def np_inputs_2(self) -> Iterator[np.ndarray]:\n",
    "        for ind in self:\n",
    "            for i in ind.np_inputs_2():\n",
    "                yield i\n",
    "\n",
    "    def np_labels_2(self) -> Iterator[np.ndarray]:\n",
    "        for ind in self:\n",
    "            for i in ind.np_labels_2():\n",
    "                yield i\n",
    "\n",
    "    @property\n",
    "    def oneshot_labels_generator(self) -> Iterator[NN_ONESHOT_LABELS]:\n",
    "        for ind in self:\n",
    "            for i in ind.oneshot_labels_generator:\n",
    "                yield i\n",
    "\n",
    "\n",
    "    @property\n",
    "    def per_game_inputs_and_labels_and_guesses(self) -> Iterator[\n",
    "        Tuple[\n",
    "            Tuple[np.ndarray],\n",
    "            Tuple[NN_ONESHOT_LABELS],\n",
    "            Tuple[NN_ONESHOT_LABELS]\n",
    "        ]\n",
    "    ]:\n",
    "        for ind in self:\n",
    "            yield tuple(\n",
    "                n for n in ind.np_inputs_2()\n",
    "            ), tuple(\n",
    "                l for l in ind.oneshot_labels_generator\n",
    "            ), tuple(\n",
    "                g for g in ind.hsd_to_oneshot\n",
    "            )\n",
    "\n",
    "    @property\n",
    "    def per_round_inputs_and_labels_and_guesses(self) -> Tuple[\n",
    "            Tuple[\n",
    "                List[np.ndarray], ...\n",
    "            ],\n",
    "            Tuple[\n",
    "                List[NN_ONESHOT_LABELS], ...\n",
    "            ],\n",
    "            Tuple[\n",
    "                List[NN_ONESHOT_LABELS], ...\n",
    "            ]\n",
    "    ]:\n",
    "        \"\"\"\n",
    "        A tuple with 25-length tuples of lists of the per-round inputs and labels and heuristic guesses\n",
    "        allowing some analysis of the NN's per-round performance,\n",
    "        and comparing the performance of the NN to a heuristic estimator.\n",
    "        :return:\n",
    "        \"\"\"\n",
    "\n",
    "        # noinspection PyTypeChecker\n",
    "        inputs: Tuple[List[np.ndarray], ...] = tuple([] for i in range(25))\n",
    "        # noinspection PyTypeChecker\n",
    "        labels: Tuple[List[NN_ONESHOT_LABELS], ...] = tuple([] for i in range(25))\n",
    "        # noinspection PyTypeChecker\n",
    "        guesses: Tuple[List[NN_ONESHOT_LABELS], ...] = tuple([] for i in range(25))\n",
    "\n",
    "\n",
    "        for g in self.per_game_inputs_and_labels_and_guesses:\n",
    "            for i1 in range(len(g[0])):\n",
    "                inputs[i1].append(g[0][i1])\n",
    "            for l1 in range(len(g[1])):\n",
    "                labels[l1].append(g[1][l1])\n",
    "            for g1 in range(len(g[2])):\n",
    "                guesses[g1].append(g[2][g1])\n",
    "\n",
    "        return inputs, labels, guesses\n",
    "\n",
    "\n",
    "    def np_in_lab_2(self) -> Tuple[List[np.ndarray], List[np.ndarray]]:\n",
    "        return list(self.np_inputs_2()), list(self.np_labels_2())\n",
    "\n",
    "\n",
    "    @staticmethod\n",
    "    def np_gen_stacker(gen: Generator[np.ndarray, None, None]) -> np.ndarray:\n",
    "        \"\"\"\n",
    "        Give this an iterator of ndarrays, and it'll vstack them into a single ndarray\n",
    "        :param gen: generator of stuff we want to stack\n",
    "        :return: stacked contents of that iterator\n",
    "        \"\"\"\n",
    "        return np.stack(list(gen))\n",
    "\n",
    "\n",
    "\n",
    "training_dataset: DataStore = DataStore(data_sets[0])\n",
    "test_dataset: DataStore = DataStore(data_sets[1])\n",
    "validation_dataset: DataStore = DataStore(data_sets[2])\n",
    "\n",
    "print(len(training_dataset))\n",
    "print(len(test_dataset))\n",
    "print(len(validation_dataset))"
   ],
   "metadata": {
    "collapsed": false,
    "pycharm": {
     "name": "#%%\n"
    }
   }
  },
  {
   "cell_type": "markdown",
   "source": [
    "Now we have some data, I suppose it's time to start using it.\n"
   ],
   "metadata": {
    "collapsed": false,
    "pycharm": {
     "name": "#%% md\n"
    }
   }
  },
  {
   "cell_type": "code",
   "execution_count": 6,
   "outputs": [
    {
     "name": "stdout",
     "output_type": "stream",
     "text": [
      "WARNING:tensorflow:Please add `keras.layers.InputLayer` instead of `keras.Input` to Sequential model. `keras.Input` is intended to be used by Functional model.\n",
      "Model: \"Mitch_Buchpropogation\"\n",
      "_________________________________________________________________\n",
      "Layer (type)                 Output Shape              Param #   \n",
      "=================================================================\n",
      "dense (Dense)                (None, 5, 36)             684       \n",
      "_________________________________________________________________\n",
      "dense_1 (Dense)              (None, 5, 24)             888       \n",
      "_________________________________________________________________\n",
      "dense_2 (Dense)              (None, 5, 12)             300       \n",
      "_________________________________________________________________\n",
      "dense_3 (Dense)              (None, 5, 6)              78        \n",
      "_________________________________________________________________\n",
      "dense_4 (Dense)              (None, 5, 2)              14        \n",
      "=================================================================\n",
      "Total params: 1,964\n",
      "Trainable params: 1,964\n",
      "Non-trainable params: 0\n",
      "_________________________________________________________________\n",
      "None\n"
     ]
    }
   ],
   "source": [
    "the_model: keras.Model = keras.Sequential(name=\"Mitch_Buchpropogation\")\n",
    "# yep, the sort of terrible name that happens when I'm tired\n",
    "# tbh chances are that I'll forgor what the reference is anyway in a few days\n",
    "\n",
    "in_layer:layers.Input = layers.Input(shape=(5,18))\n",
    "layer_1: layers.Dense = layers.Dense(36, activation=keras.activations.relu,   input_dim=18)\n",
    "layer_2: layers.Dense = layers.Dense(24, activation=keras.activations.relu,   input_dim=36)\n",
    "layer_3: layers.Dense = layers.Dense(12, activation=keras.activations.relu,   input_dim=24)\n",
    "layer_4: layers.Dense = layers.Dense(6,  activation=keras.activations.relu,   input_dim=12)\n",
    "layer_sm:layers.Dense = layers.Dense(2,  activation=keras.activations.softmax,input_dim=6)\n",
    "\n",
    "the_model.add(in_layer)\n",
    "the_model.add(layer_1)\n",
    "the_model.add(layer_2)\n",
    "the_model.add(layer_3)\n",
    "the_model.add(layer_4)\n",
    "the_model.add(layer_sm)\n",
    "\n",
    "print(the_model.summary())"
   ],
   "metadata": {
    "collapsed": false,
    "pycharm": {
     "name": "#%%\n"
    }
   }
  },
  {
   "cell_type": "code",
   "execution_count": 7,
   "outputs": [],
   "source": [
    "eta = 0.01\n",
    "\n",
    "epochs = 400"
   ],
   "metadata": {
    "collapsed": false,
    "pycharm": {
     "name": "#%%\n"
    }
   }
  },
  {
   "cell_type": "code",
   "execution_count": 8,
   "outputs": [],
   "source": [
    "the_model.compile(\n",
    "    optimizer = keras.optimizers.Adam(eta),\n",
    "    loss = keras.losses.BinaryCrossentropy(from_logits=False),\n",
    "    metrics = \"accuracy\"\n",
    ")\n"
   ],
   "metadata": {
    "collapsed": false,
    "pycharm": {
     "name": "#%%\n"
    }
   }
  },
  {
   "cell_type": "code",
   "execution_count": 9,
   "outputs": [
    {
     "name": "stdout",
     "output_type": "stream",
     "text": [
      "(31478, 5, 18)\n",
      "[[0.   0.   0.   0.5  0.5  0.   0.04 0.   0.   0.   0.   0.   0.   0.\n",
      "  0.   0.   0.   0.  ]\n",
      " [0.5  0.   0.   0.5  0.5  0.   0.04 0.   0.   0.   0.   0.   0.   0.\n",
      "  0.   0.   0.   0.  ]\n",
      " [0.5  0.5  0.   0.5  0.5  0.   0.04 0.   0.   0.   0.   0.   0.   0.\n",
      "  0.   0.   0.   0.  ]\n",
      " [0.5  0.5  0.5  0.   0.5  0.   0.   0.   0.   0.   0.   0.   0.04 0.\n",
      "  0.   0.   0.   0.  ]\n",
      " [0.5  0.5  0.5  0.   0.5  0.   0.   0.   0.   0.   0.   0.   0.04 0.\n",
      "  0.   0.   0.   0.  ]]\n"
     ]
    }
   ],
   "source": [
    "x_train = list(training_dataset.np_inputs_2())\n",
    "np_x = np.array(x_train)\n",
    "print(np_x.shape)\n",
    "print(np_x[0])\n"
   ],
   "metadata": {
    "collapsed": false,
    "pycharm": {
     "name": "#%%\n"
    }
   }
  },
  {
   "cell_type": "code",
   "execution_count": 10,
   "outputs": [
    {
     "name": "stdout",
     "output_type": "stream",
     "text": [
      "(31478, 5, 2)\n",
      "[[0 1]\n",
      " [1 0]\n",
      " [1 0]\n",
      " [0 1]\n",
      " [0 1]]\n"
     ]
    }
   ],
   "source": [
    "y_train = list(training_dataset.oneshot_labels_generator)\n",
    "np_y = np.array(y_train)\n",
    "print(np_y.shape)\n",
    "print(np_y[0])"
   ],
   "metadata": {
    "collapsed": false,
    "pycharm": {
     "name": "#%%\n"
    }
   }
  },
  {
   "cell_type": "code",
   "execution_count": 11,
   "outputs": [],
   "source": [
    "\n",
    "history = the_model.fit(\n",
    "    np_x,\n",
    "    np_y,\n",
    "    np_x.shape[0],\n",
    "    epochs = epochs,\n",
    "    verbose = 0,\n",
    "    validation_data = (\n",
    "        np.array(list(test_dataset.np_inputs_2())),\n",
    "        np.array(list(test_dataset.oneshot_labels_generator))\n",
    "    )\n",
    ")\n"
   ],
   "metadata": {
    "collapsed": false,
    "pycharm": {
     "name": "#%%\n"
    }
   }
  },
  {
   "cell_type": "code",
   "execution_count": 12,
   "outputs": [
    {
     "name": "stdout",
     "output_type": "stream",
     "text": [
      "Model: \"Mitch_Buchpropogation\"\n",
      "_________________________________________________________________\n",
      "Layer (type)                 Output Shape              Param #   \n",
      "=================================================================\n",
      "dense (Dense)                (None, 5, 36)             684       \n",
      "_________________________________________________________________\n",
      "dense_1 (Dense)              (None, 5, 24)             888       \n",
      "_________________________________________________________________\n",
      "dense_2 (Dense)              (None, 5, 12)             300       \n",
      "_________________________________________________________________\n",
      "dense_3 (Dense)              (None, 5, 6)              78        \n",
      "_________________________________________________________________\n",
      "dense_4 (Dense)              (None, 5, 2)              14        \n",
      "=================================================================\n",
      "Total params: 1,964\n",
      "Trainable params: 1,964\n",
      "Non-trainable params: 0\n",
      "_________________________________________________________________\n",
      "None\n"
     ]
    }
   ],
   "source": [
    "print(the_model.summary())"
   ],
   "metadata": {
    "collapsed": false,
    "pycharm": {
     "name": "#%%\n"
    }
   }
  },
  {
   "cell_type": "code",
   "execution_count": 13,
   "outputs": [
    {
     "name": "stderr",
     "output_type": "stream",
     "text": [
      "C:\\Users\\rl18730\\AppData\\Local\\Temp/ipykernel_10068/3777208000.py:14: UserWarning: Matplotlib is currently using module://matplotlib_inline.backend_inline, which is a non-GUI backend, so cannot show the figure.\n",
      "  fig_acc.show()\n"
     ]
    },
    {
     "data": {
      "text/plain": "<Figure size 1152x648 with 1 Axes>",
      "image/png": "[encoded data removed]"
     },
     "metadata": {
      "needs_background": "light"
     },
     "output_type": "display_data"
    }
   ],
   "source": [
    "fig_acc = plt.figure(num=\"Training/Validation Accuracy\", figsize=[16,9])\n",
    "fig_acc_ax = fig_acc.add_subplot()\n",
    "fig_acc_ax.plot(\n",
    "    history.history[\"accuracy\"],\n",
    "    label=\"Training Accuracy\")\n",
    "fig_acc_ax.plot(\n",
    "    history.history[\"val_accuracy\"],\n",
    "    label=\"Validation Set Accuracy\"\n",
    ")\n",
    "fig_acc_ax.legend()\n",
    "fig_acc_ax.grid(which=\"major\",axis=\"y\", linestyle='-', linewidth=1)\n",
    "fig_acc_ax.grid(which=\"minor\",axis=\"y\", linestyle='dotted', linewidth=1)\n",
    "fig_acc_ax.grid(which=\"major\",axis=\"x\", linestyle='dotted', linewidth=1)\n",
    "fig_acc.show()"
   ],
   "metadata": {
    "collapsed": false,
    "pycharm": {
     "name": "#%%\n"
    }
   }
  },
  {
   "cell_type": "code",
   "execution_count": 14,
   "outputs": [
    {
     "name": "stdout",
     "output_type": "stream",
     "text": [
      "0.5\n"
     ]
    }
   ],
   "source": [
    "# Calculate base rate accuracy\n",
    "print(np_y.mean())\n",
    "# This shows us what accuracy we could get\n",
    "# if we just guess the same thing all the time\n"
   ],
   "metadata": {
    "collapsed": false,
    "pycharm": {
     "name": "#%%\n"
    }
   }
  },
  {
   "cell_type": "code",
   "execution_count": 15,
   "outputs": [
    {
     "name": "stdout",
     "output_type": "stream",
     "text": [
      "TRAINING ACCURACY: 0.7292493811249733\n",
      "VALIDATION ACCURACY: 0.7310989606380462\n"
     ]
    }
   ],
   "source": [
    "print(\"TRAINING ACCURACY: {}\".format(np.array(history.history[\"accuracy\"]).mean()))\n",
    "\n",
    "print(\"VALIDATION ACCURACY: {}\".format(np.array(history.history['val_accuracy']).mean()))"
   ],
   "metadata": {
    "collapsed": false,
    "pycharm": {
     "name": "#%%\n"
    }
   }
  },
  {
   "cell_type": "markdown",
   "source": [
    "accuracy by turn"
   ],
   "metadata": {
    "collapsed": false,
    "pycharm": {
     "name": "#%% md\n"
    }
   }
  },
  {
   "cell_type": "code",
   "execution_count": 16,
   "outputs": [],
   "source": [
    "# noinspection PyTypeChecker\n",
    "by_turn_inputs: Tuple[List[np.ndarray],...] = None\n",
    "# noinspection PyTypeChecker\n",
    "by_turn_labels: Tuple[List[NN_ONESHOT_LABELS], ...] = None\n",
    "# noinspection PyTypeChecker\n",
    "by_turn_guesses:Tuple[List[NN_ONESHOT_LABELS], ...] = None\n",
    "\n",
    "# noinspection PyRedeclaration\n",
    "by_turn_inputs, by_turn_labels, by_turn_guesses = validation_dataset.per_round_inputs_and_labels_and_guesses\n",
    "\n",
    "#bce = keras.losses.binary_crossentropy(from_logits=False)"
   ],
   "metadata": {
    "collapsed": false,
    "pycharm": {
     "name": "#%%\n"
    }
   }
  },
  {
   "cell_type": "code",
   "execution_count": 17,
   "outputs": [],
   "source": [
    "model_accuracy_by_turn = []\n",
    "\n",
    "guess_accuracy_by_turn = []\n",
    "\n",
    "accuracy_metric=tf.keras.metrics.Accuracy()\n",
    "\n",
    "total_turns: int = len(by_turn_inputs)\n",
    "for t in range(total_turns):\n",
    "\n",
    "    label_array: np.ndarray = np.array(by_turn_labels[t])\n",
    "\n",
    "    input_array: np.ndarray = np.array(by_turn_inputs[t])\n",
    "\n",
    "    guess_array: np.ndarray = np.array(by_turn_guesses[t])\n",
    "\n",
    "    for j in range(t+1, total_turns):\n",
    "        if len(by_turn_labels[j]) == 0:\n",
    "            break\n",
    "        label_array = np.concatenate(by_turn_labels[j], axis=0)\n",
    "        input_array = np.concatenate(by_turn_inputs[j], axis=0)\n",
    "        guess_array = np.concatenate(by_turn_guesses[j],axis=0)\n",
    "\n",
    "    if label_array.size == 0:\n",
    "        break\n",
    "\n",
    "    # argmaxed the correct outputs for all turns from now\n",
    "    all_correct_labels = tf.argmax(\n",
    "        label_array, axis=1\n",
    "    )\n",
    "\n",
    "    #print(all_correct_labels)\n",
    "\n",
    "    model_labels = tf.argmax(\n",
    "        the_model(input_array).numpy(), axis=1\n",
    "    )\n",
    "\n",
    "    guess_labels = tf.argmax(\n",
    "        guess_array, axis=1\n",
    "    )\n",
    "\n",
    "    #print(guess_labels)\n",
    "\n",
    "    # working out how accurate the model is from this turn\n",
    "    model_accuracy_by_turn.append(\n",
    "        accuracy_metric(\n",
    "            # we get the argmax for the output (what its guess was)\n",
    "            # we compare the argmax guess to the actual known correct labels\n",
    "            model_labels,all_correct_labels\n",
    "        ).numpy() # and make it readable.\n",
    "    )\n",
    "\n",
    "    # working out how accurate the heuristic estimator is from this turn\n",
    "    guess_accuracy_by_turn.append(\n",
    "        accuracy_metric(\n",
    "            guess_labels, all_correct_labels\n",
    "        ).numpy()\n",
    "    )"
   ],
   "metadata": {
    "collapsed": false,
    "pycharm": {
     "name": "#%%\n"
    }
   }
  },
  {
   "cell_type": "code",
   "execution_count": 18,
   "outputs": [
    {
     "name": "stdout",
     "output_type": "stream",
     "text": [
      "tf.Tensor(\n",
      "[ 0  1  2  3  4  5  6  7  8  9 10 11 12 13 14 15 16 17 18 19 20 21 22 23\n",
      " 24], shape=(25,), dtype=int32) [1.0, 0.7, 0.64, 0.6142857, 0.6, 0.59090906, 0.5846154, 0.58, 0.5764706, 0.5736842, 0.5714286, 0.56956524, 0.568, 0.56666666, 0.56551725, 0.5645161, 0.56363636, 0.56285715, 0.56216216, 0.56153846, 0.5609756, 0.5604651, 0.56, 0.5595745, 0.5495868]\n"
     ]
    }
   ],
   "source": [
    "print(tf.range(total_turns),model_accuracy_by_turn)"
   ],
   "metadata": {
    "collapsed": false,
    "pycharm": {
     "name": "#%%\n"
    }
   }
  },
  {
   "cell_type": "code",
   "execution_count": 19,
   "outputs": [
    {
     "name": "stdout",
     "output_type": "stream",
     "text": [
      "tf.Tensor(\n",
      "[ 0  1  2  3  4  5  6  7  8  9 10 11 12 13 14 15 16 17 18 19 20 21 22 23\n",
      " 24], shape=(25,), dtype=int32) [0.55, 0.55, 0.55, 0.55, 0.55, 0.55, 0.55, 0.55, 0.55, 0.55, 0.55, 0.55, 0.55, 0.55, 0.55, 0.55, 0.55, 0.55, 0.55, 0.55, 0.55, 0.55, 0.55, 0.55, 0.5471311]\n"
     ]
    }
   ],
   "source": [
    "print(tf.range(total_turns),guess_accuracy_by_turn)"
   ],
   "metadata": {
    "collapsed": false,
    "pycharm": {
     "name": "#%%\n"
    }
   }
  },
  {
   "cell_type": "code",
   "execution_count": 20,
   "outputs": [
    {
     "name": "stderr",
     "output_type": "stream",
     "text": [
      "C:\\Users\\rl18730\\AppData\\Local\\Temp/ipykernel_10068/1510311424.py:19: UserWarning: Matplotlib is currently using module://matplotlib_inline.backend_inline, which is a non-GUI backend, so cannot show the figure.\n",
      "  fig_model_vs_guesswork.show()\n"
     ]
    },
    {
     "data": {
      "text/plain": "<Figure size 1152x648 with 1 Axes>",
      "image/png": "[encoded data removed]"
     },
     "metadata": {
      "needs_background": "light"
     },
     "output_type": "display_data"
    }
   ],
   "source": [
    "fig_model_vs_guesswork = plt.figure(\n",
    "    num=\"Accuracy of the neural network predictor vs the heuristic predictor on unseen data, per turn\",\n",
    "    figsize=[16,9]\n",
    ")\n",
    "ax_mvg = fig_model_vs_guesswork.add_subplot()\n",
    "ax_mvg.plot(\n",
    "    tf.range(1,1+len(model_accuracy_by_turn)),model_accuracy_by_turn,\n",
    "    label=\"Neural network predictor accuracy\"\n",
    ")\n",
    "ax_mvg.plot(\n",
    "    tf.range(1,1+len(guess_accuracy_by_turn)),guess_accuracy_by_turn,\n",
    "    label=\"Heuristic predictor accuracy\"\n",
    ")\n",
    "ax_mvg.legend()\n",
    "ax_mvg.grid(which=\"major\",axis=\"y\", linestyle='-', linewidth=1)\n",
    "ax_mvg.grid(which=\"minor\",axis=\"y\", linestyle='dotted', linewidth=1)\n",
    "ax_mvg.grid(which=\"major\",axis=\"x\", linestyle='dotted', linewidth=1)\n",
    "ax_mvg.grid(which=\"minor\",axis=\"x\", linestyle='dotted', linewidth=1)\n",
    "fig_model_vs_guesswork.show()"
   ],
   "metadata": {
    "collapsed": false,
    "pycharm": {
     "name": "#%%\n"
    }
   }
  },
  {
   "cell_type": "markdown",
   "source": [
    "Okay, that's awkward.\n",
    "\n"
   ],
   "metadata": {
    "collapsed": false,
    "pycharm": {
     "name": "#%% md\n"
    }
   }
  },
  {
   "cell_type": "code",
   "execution_count": 21,
   "outputs": [],
   "source": [
    "\n",
    "the_model.save(\"rl18730_nn.h5\")"
   ],
   "metadata": {
    "collapsed": false,
    "pycharm": {
     "name": "#%%\n"
    }
   }
  },
  {
   "cell_type": "code",
   "execution_count": 22,
   "outputs": [
    {
     "name": "stdout",
     "output_type": "stream",
     "text": [
      "3941\n",
      "3941\n",
      "3941\n",
      "3416\n",
      "2789\n",
      "2183\n",
      "1670\n",
      "1249\n",
      "919\n",
      "692\n",
      "500\n",
      "363\n",
      "263\n",
      "196\n",
      "146\n",
      "102\n",
      "70\n",
      "46\n",
      "30\n",
      "17\n",
      "15\n",
      "8\n",
      "6\n",
      "5\n",
      "2\n"
     ]
    }
   ],
   "source": [
    "for t in by_turn_labels:\n",
    "    print(len(t))"
   ],
   "metadata": {
    "collapsed": false,
    "pycharm": {
     "name": "#%%\n"
    }
   }
  },
  {
   "cell_type": "code",
   "execution_count": 23,
   "outputs": [
    {
     "name": "stdout",
     "output_type": "stream",
     "text": [
      "3941\n",
      "3941\n",
      "3941\n",
      "3416\n",
      "2789\n",
      "2183\n",
      "1670\n",
      "1249\n",
      "919\n",
      "692\n",
      "500\n",
      "363\n",
      "263\n",
      "196\n",
      "146\n",
      "102\n",
      "70\n",
      "46\n",
      "30\n",
      "17\n",
      "15\n",
      "8\n",
      "6\n",
      "5\n",
      "2\n"
     ]
    }
   ],
   "source": [
    "for t in by_turn_inputs:\n",
    "    print(len(t))"
   ],
   "metadata": {
    "collapsed": false,
    "pycharm": {
     "name": "#%%\n"
    }
   }
  },
  {
   "cell_type": "code",
   "execution_count": 24,
   "outputs": [
    {
     "name": "stdout",
     "output_type": "stream",
     "text": [
      "3941\n",
      "3941\n",
      "3941\n",
      "3416\n",
      "2789\n",
      "2183\n",
      "1670\n",
      "1249\n",
      "919\n",
      "692\n",
      "500\n",
      "363\n",
      "263\n",
      "196\n",
      "146\n",
      "102\n",
      "70\n",
      "46\n",
      "30\n",
      "17\n",
      "15\n",
      "8\n",
      "6\n",
      "5\n",
      "2\n"
     ]
    }
   ],
   "source": [
    "for t in by_turn_guesses:\n",
    "    print(len(t))"
   ],
   "metadata": {
    "collapsed": false,
    "pycharm": {
     "name": "#%%\n"
    }
   }
  },
  {
   "cell_type": "markdown",
   "source": [],
   "metadata": {
    "collapsed": false,
    "pycharm": {
     "name": "#%% md"
    }
   }
  }
 ],
 "metadata": {
  "kernelspec": {
   "display_name": "Python 3",
   "language": "python",
   "name": "python3"
  },
  "language_info": {
   "codemirror_mode": {
    "name": "ipython",
    "version": 2
   },
   "file_extension": ".py",
   "mimetype": "text/x-python",
   "name": "python",
   "nbconvert_exporter": "python",
   "pygments_lexer": "ipython2",
   "version": "2.7.6"
  }
 },
 "nbformat": 4,
 "nbformat_minor": 0
}