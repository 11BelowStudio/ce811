{
 "cells": [
  {
   "cell_type": "code",
   "execution_count": null,
   "metadata": {
    "collapsed": true
   },
   "outputs": [],
   "source": [
    "import pickle\n",
    "from typing import List, Tuple, TypeVar, Dict\n",
    "\n",
    "from bots.rl18730 import PlayerRecord, GameRecordHistory, GameRecord, PlayerRecordNNEstimator, RoleAllocationEnum, GamestateTree, TPlayer\n",
    "\n",
    "import tensorflow as tf\n",
    "\n",
    "from tensorflow import keras\n",
    "\n",
    "from tensorflow.keras import models\n",
    "\n",
    "\n",
    "# https://datascience.stackexchange.com/questions/48796/how-to-feed-lstm-with-different-input-array-sizes\n",
    "\n",
    "# https://keras.io/guides/understanding_masking_and_padding/\n",
    "\n",
    "# TODO: load the PlayerRecordHolder pickle, use that data to train a model that can be put in PlayerRecordNNEstimator,\n",
    "#   in order to estimate the likelihoods of each player being a spy.\n",
    "#   validate the outputs of the model using the known spy info in the player records.\n",
    "#   Remember to use the training set, test set, and validation set partitions present in PlayerRecordHolder,\n",
    "#   to ensure that there's a good range of data being used.\n",
    "# TODO: after that's done, save the model. Then, edit rl18730.py to load that model, and then use that model to\n",
    "#   produce more refined player suspicion estimates.\n",
    "# TODO: also compare the accuracy of the final neural network to the basic heuristic estimator already in PlayerRecord.\n",
    "#   If the neural network turns out to be worse than the heuristic estimator, we don't bother with it.\n"
   ]
  },
  {
   "cell_type": "markdown",
   "source": [
    "TODO: load the PlayerRecordHolder pickle, use that data to train a model that can be put in PlayerRecordNNEstimator,\n",
    "in order to estimate the likelihoods of each player being a spy.\n",
    "validate the outputs of the model using the known spy info in the player records.\n",
    "Remember to use the training set, test set, and validation set partitions present in PlayerRecordHolder,\n",
    "to ensure that there's a good range of data being used.\n",
    "\n",
    "TODO: after that's done, save the model. Then, edit rl18730.py to load that model,\n",
    "  and then use that model to produce more refined player suspicion estimates.\n",
    "\n",
    "TODO: also compare the accuracy of the final neural network to the basic heuristic estimator already in PlayerRecord.\n",
    "  If the neural network turns out to be worse than the heuristic estimator, we don't bother with it.\n",
    "\n",
    "\n",
    "NEURAL NETWORK STRUCTURE:\n",
    "\n",
    "    Inputs:\n",
    "        5 * ??? * 18\n",
    "            5 players, ??? rounds, 18 wide per round\n",
    "    Outputs:\n"
   ],
   "metadata": {
    "collapsed": false
   }
  }
 ],
 "metadata": {
  "kernelspec": {
   "display_name": "Python 3",
   "language": "python",
   "name": "python3"
  },
  "language_info": {
   "codemirror_mode": {
    "name": "ipython",
    "version": 2
   },
   "file_extension": ".py",
   "mimetype": "text/x-python",
   "name": "python",
   "nbconvert_exporter": "python",
   "pygments_lexer": "ipython2",
   "version": "2.7.6"
  }
 },
 "nbformat": 4,
 "nbformat_minor": 0
}