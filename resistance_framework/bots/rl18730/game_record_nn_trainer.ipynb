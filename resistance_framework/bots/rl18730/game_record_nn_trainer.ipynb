{
 "cells": [
  {
   "cell_type": "code",
   "execution_count": 541,
   "metadata": {
    "collapsed": true
   },
   "outputs": [
    {
     "name": "stdout",
     "output_type": "stream",
     "text": [
      "M:\\MSc\\CE811\\CE811_lowe_rachel_m\\resistance_framework\\bots\\rl18730.py\n",
      "{'__name__': 'bots.rl18730', '__doc__': None, '__package__': 'bots', '__loader__': <_frozen_importlib_external.SourceFileLoader object at 0x000001AC9A5E4E50>, '__spec__': ModuleSpec(name='bots.rl18730', loader=<_frozen_importlib_external.SourceFileLoader object at 0x000001AC9A5E4E50>, origin='M:\\\\MSc\\\\CE811\\\\CE811_lowe_rachel_m\\\\resistance_framework\\\\bots\\\\rl18730.py'), '__file__': 'M:\\\\MSc\\\\CE811\\\\CE811_lowe_rachel_m\\\\resistance_framework\\\\bots\\\\rl18730.py', '__cached__': 'M:\\\\MSc\\\\CE811\\\\CE811_lowe_rachel_m\\\\resistance_framework\\\\bots\\\\__pycache__\\\\rl18730.cpython-39.pyc', '__builtins__': {'__name__': 'builtins', '__doc__': \"Built-in functions, exceptions, and other objects.\\n\\nNoteworthy: None is the `nil' object; Ellipsis represents `...' in slices.\", '__package__': '', '__loader__': <class '_frozen_importlib.BuiltinImporter'>, '__spec__': ModuleSpec(name='builtins', loader=<class '_frozen_importlib.BuiltinImporter'>, origin='built-in'), '__build_class__': <built-in function __build_class__>, '__import__': <built-in function __import__>, 'abs': <built-in function abs>, 'all': <built-in function all>, 'any': <built-in function any>, 'ascii': <built-in function ascii>, 'bin': <built-in function bin>, 'breakpoint': <built-in function breakpoint>, 'callable': <built-in function callable>, 'chr': <built-in function chr>, 'compile': <built-in function compile>, 'delattr': <built-in function delattr>, 'dir': <built-in function dir>, 'divmod': <built-in function divmod>, 'eval': <built-in function eval>, 'exec': <built-in function exec>, 'format': <built-in function format>, 'getattr': <built-in function getattr>, 'globals': <built-in function globals>, 'hasattr': <built-in function hasattr>, 'hash': <built-in function hash>, 'hex': <built-in function hex>, 'id': <built-in function id>, 'input': <bound method Kernel.raw_input of <ipykernel.ipkernel.IPythonKernel object at 0x000001ACC44D02E0>>, 'isinstance': <built-in function isinstance>, 'issubclass': <built-in function issubclass>, 'iter': <built-in function iter>, 'len': <built-in function len>, 'locals': <built-in function locals>, 'max': <built-in function max>, 'min': <built-in function min>, 'next': <built-in function next>, 'oct': <built-in function oct>, 'ord': <built-in function ord>, 'pow': <built-in function pow>, 'print': <built-in function print>, 'repr': <built-in function repr>, 'round': <built-in function round>, 'setattr': <built-in function setattr>, 'sorted': <built-in function sorted>, 'sum': <built-in function sum>, 'vars': <built-in function vars>, 'None': None, 'Ellipsis': Ellipsis, 'NotImplemented': NotImplemented, 'False': False, 'True': True, 'bool': <class 'bool'>, 'memoryview': <class 'memoryview'>, 'bytearray': <class 'bytearray'>, 'bytes': <class 'bytes'>, 'classmethod': <class 'classmethod'>, 'complex': <class 'complex'>, 'dict': <class 'dict'>, 'enumerate': <class 'enumerate'>, 'filter': <class 'filter'>, 'float': <class 'float'>, 'frozenset': <class 'frozenset'>, 'property': <class 'property'>, 'int': <class 'int'>, 'list': <class 'list'>, 'map': <class 'map'>, 'object': <class 'object'>, 'range': <class 'range'>, 'reversed': <class 'reversed'>, 'set': <class 'set'>, 'slice': <class 'slice'>, 'staticmethod': <class 'staticmethod'>, 'str': <class 'str'>, 'super': <class 'super'>, 'tuple': <class 'tuple'>, 'type': <class 'type'>, 'zip': <class 'zip'>, '__debug__': True, 'BaseException': <class 'BaseException'>, 'Exception': <class 'Exception'>, 'TypeError': <class 'TypeError'>, 'StopAsyncIteration': <class 'StopAsyncIteration'>, 'StopIteration': <class 'StopIteration'>, 'GeneratorExit': <class 'GeneratorExit'>, 'SystemExit': <class 'SystemExit'>, 'KeyboardInterrupt': <class 'KeyboardInterrupt'>, 'ImportError': <class 'ImportError'>, 'ModuleNotFoundError': <class 'ModuleNotFoundError'>, 'OSError': <class 'OSError'>, 'EnvironmentError': <class 'OSError'>, 'IOError': <class 'OSError'>, 'WindowsError': <class 'OSError'>, 'EOFError': <class 'EOFError'>, 'RuntimeError': <class 'RuntimeError'>, 'RecursionError': <class 'RecursionError'>, 'NotImplementedError': <class 'NotImplementedError'>, 'NameError': <class 'NameError'>, 'UnboundLocalError': <class 'UnboundLocalError'>, 'AttributeError': <class 'AttributeError'>, 'SyntaxError': <class 'SyntaxError'>, 'IndentationError': <class 'IndentationError'>, 'TabError': <class 'TabError'>, 'LookupError': <class 'LookupError'>, 'IndexError': <class 'IndexError'>, 'KeyError': <class 'KeyError'>, 'ValueError': <class 'ValueError'>, 'UnicodeError': <class 'UnicodeError'>, 'UnicodeEncodeError': <class 'UnicodeEncodeError'>, 'UnicodeDecodeError': <class 'UnicodeDecodeError'>, 'UnicodeTranslateError': <class 'UnicodeTranslateError'>, 'AssertionError': <class 'AssertionError'>, 'ArithmeticError': <class 'ArithmeticError'>, 'FloatingPointError': <class 'FloatingPointError'>, 'OverflowError': <class 'OverflowError'>, 'ZeroDivisionError': <class 'ZeroDivisionError'>, 'SystemError': <class 'SystemError'>, 'ReferenceError': <class 'ReferenceError'>, 'MemoryError': <class 'MemoryError'>, 'BufferError': <class 'BufferError'>, 'Warning': <class 'Warning'>, 'UserWarning': <class 'UserWarning'>, 'DeprecationWarning': <class 'DeprecationWarning'>, 'PendingDeprecationWarning': <class 'PendingDeprecationWarning'>, 'SyntaxWarning': <class 'SyntaxWarning'>, 'RuntimeWarning': <class 'RuntimeWarning'>, 'FutureWarning': <class 'FutureWarning'>, 'ImportWarning': <class 'ImportWarning'>, 'UnicodeWarning': <class 'UnicodeWarning'>, 'BytesWarning': <class 'BytesWarning'>, 'ResourceWarning': <class 'ResourceWarning'>, 'ConnectionError': <class 'ConnectionError'>, 'BlockingIOError': <class 'BlockingIOError'>, 'BrokenPipeError': <class 'BrokenPipeError'>, 'ChildProcessError': <class 'ChildProcessError'>, 'ConnectionAbortedError': <class 'ConnectionAbortedError'>, 'ConnectionRefusedError': <class 'ConnectionRefusedError'>, 'ConnectionResetError': <class 'ConnectionResetError'>, 'FileExistsError': <class 'FileExistsError'>, 'FileNotFoundError': <class 'FileNotFoundError'>, 'IsADirectoryError': <class 'IsADirectoryError'>, 'NotADirectoryError': <class 'NotADirectoryError'>, 'InterruptedError': <class 'InterruptedError'>, 'PermissionError': <class 'PermissionError'>, 'ProcessLookupError': <class 'ProcessLookupError'>, 'TimeoutError': <class 'TimeoutError'>, 'open': <built-in function open>, 'copyright': Copyright (c) 2001-2021 Python Software Foundation.\n",
      "All Rights Reserved.\n",
      "\n",
      "Copyright (c) 2000 BeOpen.com.\n",
      "All Rights Reserved.\n",
      "\n",
      "Copyright (c) 1995-2001 Corporation for National Research Initiatives.\n",
      "All Rights Reserved.\n",
      "\n",
      "Copyright (c) 1991-1995 Stichting Mathematisch Centrum, Amsterdam.\n",
      "All Rights Reserved., 'credits':     Thanks to CWI, CNRI, BeOpen.com, Zope Corporation and a cast of thousands\n",
      "    for supporting Python development.  See www.python.org for more information., 'license': Type license() to see the full license text, 'help': Type help() for interactive help, or help(object) for help about object., '__IPYTHON__': True, 'display': <function display at 0x000001ACC2FAF4C0>, '__pybind11_internals_v4_msvc__': <capsule object NULL at 0x000001ACFCB02930>, 'get_ipython': <bound method InteractiveShell.get_ipython of <ipykernel.zmqshell.ZMQInteractiveShell object at 0x000001ACC44D03D0>>}, '__annotations__': {'resources_file_path': <class 'pathlib.Path'>}, 'os': <module 'os' from 'c:\\\\python3\\\\lib\\\\os.py'>, 'pickle': <module 'pickle' from 'c:\\\\python3\\\\lib\\\\pickle.py'>, 'random': <module 'random' from 'c:\\\\python3\\\\lib\\\\random.py'>, '__warningregistry__': {'version': 19}, 'Collection': <class 'collections.abc.Collection'>, 'INFO': 20, 'keras': <module 'tensorflow.keras' from 'c:\\\\python3\\\\lib\\\\site-packages\\\\tensorflow\\\\keras\\\\__init__.py'>, 'Bot': <class 'player.Bot'>, 'Player': <class 'player.Player'>, 'State': <class 'game.State'>, 'TypeVar': <class 'typing.TypeVar'>, 'List': typing.List, 'Dict': typing.Dict, 'Set': typing.Set, 'Tuple': typing.Tuple, 'Iterable': typing.Iterable, 'FrozenSet': typing.FrozenSet, 'Union': typing.Union, 'NoReturn': typing.NoReturn, 'ClassVar': typing.ClassVar, 'Enum': <enum 'Enum'>, 'Path': <class 'pathlib.Path'>, 'json': <module 'json' from 'c:\\\\python3\\\\lib\\\\json\\\\__init__.py'>, 'TPlayer': ~TPlayer, 'T': ~T, 'resources_file_path': WindowsPath('M:/MSc/CE811/CE811_lowe_rachel_m/resistance_framework/bots/rl18730/bots/rl18730'), 'NN_INPUTS': typing.Tuple[float, float, float, float, float, int, int, int, int, int, int, int, int, int, int, int, int, int, int, int], 'NN_5INPUTS': typing.Tuple[typing.Tuple[float, float, float, float, float, int, int, int, int, int, int, int, int, int, int, int, int, int, int, int], typing.Tuple[float, float, float, float, float, int, int, int, int, int, int, int, int, int, int, int, int, int, int, int], typing.Tuple[float, float, float, float, float, int, int, int, int, int, int, int, int, int, int, int, int, int, int, int], typing.Tuple[float, float, float, float, float, int, int, int, int, int, int, int, int, int, int, int, int, int, int, int], typing.Tuple[float, float, float, float, float, int, int, int, int, int, int, int, int, int, int, int, int, int, int, int]], 'NN_T_INPUTS': typing.Tuple[typing.Tuple[typing.Tuple[float, float, float, float, float, int, int, int, int, int, int, int, int, int, int, int, int, int, int, int], typing.Tuple[float, float, float, float, float, int, int, int, int, int, int, int, int, int, int, int, int, int, int, int], typing.Tuple[float, float, float, float, float, int, int, int, int, int, int, int, int, int, int, int, int, int, int, int], typing.Tuple[float, float, float, float, float, int, int, int, int, int, int, int, int, int, int, int, int, int, int, int], typing.Tuple[float, float, float, float, float, int, int, int, int, int, int, int, int, int, int, int, int, int, int, int]], ...], 'RoleAllocationEnum': <enum 'RoleAllocationEnum'>, 'GamestateTree': <class 'bots.rl18730.GamestateTree'>, 'MCTSTree': <class 'bots.rl18730.MCTSTree'>, 'TeamRecord': <class 'bots.rl18730.TeamRecord'>, 'TempTeamRecord': <class 'bots.rl18730.TempTeamRecord'>, 'PlayerRecord': <class 'bots.rl18730.PlayerRecord'>, 'GameRecord': <class 'bots.rl18730.GameRecord'>, 'GameRecordHistory': <class 'bots.rl18730.GameRecordHistory'>, 'PlayerRecordNNEstimator': <class 'bots.rl18730.PlayerRecordNNEstimator'>, 'SpySabotageChanceStats': <class 'bots.rl18730.SpySabotageChanceStats'>, 'WinProbabilitiesTable': <class 'bots.rl18730.WinProbabilitiesTable'>, 'NeuralNetworker': <class 'bots.rl18730.NeuralNetworker'>, 'gamerecord_history_unpickler': <function gamerecord_history_unpickler at 0x000001AC9AA5CDC0>, 'rl18730': <class 'bots.rl18730.rl18730'>}\n"
     ]
    }
   ],
   "source": [
    "import os\n",
    "import json\n",
    "\n",
    "import random\n",
    "\n",
    "import sys\n",
    "from typing import List, Tuple, TypeVar, Dict, NoReturn, Iterable, Union, Iterator, overload, Generator\n",
    "\n",
    "from pathlib import Path\n",
    "\n",
    "from keras import Input\n",
    "\n",
    "import bots.rl18730\n",
    "\n",
    "resources_file_path: Path = Path().cwd()\n",
    "\n",
    "print(str(resources_file_path.parent/\"rl18730.py\"))\n",
    "\n",
    "sys.path.append(str(resources_file_path.parent/\"rl18730.py\"))\n",
    "\n",
    "\n",
    "from bots.rl18730 import PlayerRecord, GameRecordHistory, GameRecord, PlayerRecordNNEstimator,\\\n",
    "    RoleAllocationEnum, GamestateTree, TPlayer, gamerecord_history_unpickler\n",
    "\n",
    "import bots.rl18730 as rl18730\n",
    "\n",
    "print(rl18730.__dict__)\n",
    "\n",
    "#sys.modules[\"GameRecordHistory\"] = GameRecordHistory\n",
    "#sys.modules[\"PlayerRecordNNEstimator\"] = PlayerRecordNNEstimator\n",
    "#sys.modules[\"RoleAllocationEnum\"] = RoleAllocationEnum\n",
    "#sys.modules[\"GamestateTree\"] = GamestateTree\n",
    "#sys.modules[\"TPlayer\"] = TPlayer\n",
    "import tensorflow as tf\n",
    "\n",
    "from tensorflow import keras\n",
    "\n",
    "from tensorflow.keras import layers, models\n",
    "\n",
    "import numpy as np\n",
    "\n",
    "import matplotlib.pyplot as plt\n",
    "\n",
    "\n",
    "\n",
    "\n",
    "# https://datascience.stackexchange.com/questions/48796/how-to-feed-lstm-with-different-input-array-sizes\n",
    "\n",
    "# https://keras.io/guides/understanding_masking_and_padding/\n",
    "\n",
    "# TODO: load the PlayerRecordHolder pickle, use that data to train a model that can be put in PlayerRecordNNEstimator,\n",
    "#   in order to estimate the likelihoods of each player being a spy.\n",
    "#   validate the outputs of the model using the known spy info in the player records.\n",
    "#   Remember to use the training set, test set, and validation set partitions present in PlayerRecordHolder,\n",
    "#   to ensure that there's a good range of data being used.\n",
    "# TODO: after that's done, save the model. Then, edit rl18730.py to load that model, and then use that model to\n",
    "#   produce more refined player suspicion estimates.\n",
    "# TODO: also compare the accuracy of the final neural network to the basic heuristic estimator already in PlayerRecord.\n",
    "#   If the neural network turns out to be worse than the heuristic estimator, we don't bother with it.\n"
   ]
  },
  {
   "cell_type": "markdown",
   "source": [
    "TODO: load the PlayerRecordHolder pickle, use that data to train a model that can be put in PlayerRecordNNEstimator,\n",
    "in order to estimate the likelihoods of each player being a spy.\n",
    "validate the outputs of the model using the known spy info in the player records.\n",
    "Remember to use the training set, test set, and validation set partitions present in PlayerRecordHolder,\n",
    "to ensure that there's a good range of data being used.\n",
    "\n",
    "TODO: after that's done, save the model. Then, edit rl18730.py to load that model,\n",
    "  and then use that model to produce more refined player suspicion estimates.\n",
    "\n",
    "TODO: also compare the accuracy of the final neural network to the basic heuristic estimator already in PlayerRecord.\n",
    "  If the neural network turns out to be worse than the heuristic estimator, we don't bother with it.\n",
    "\n",
    "\n",
    "NEURAL NETWORK STRUCTURE:\n",
    "\n",
    "    Inputs:\n",
    "        5 * ??? * 20\n",
    "            5 players, ??? rounds, 20 wide per round\n",
    "    Outputs:"
   ],
   "metadata": {
    "collapsed": false
   }
  },
  {
   "cell_type": "code",
   "execution_count": 541,
   "outputs": [],
   "source": [],
   "metadata": {
    "collapsed": false,
    "pycharm": {
     "name": "#%%\n"
    }
   }
  },
  {
   "cell_type": "code",
   "execution_count": 542,
   "outputs": [
    {
     "data": {
      "text/plain": "\"\\n\\nYou might currently think that these type aliases were a waste of time. But you'll thank me later.\\n\""
     },
     "execution_count": 542,
     "metadata": {},
     "output_type": "execute_result"
    }
   ],
   "source": [
    "NN_TUPLE = Tuple[\n",
    "    float, float, float, float, float, int,\n",
    "    int, int, int, int, int, int, int,\n",
    "    int, int, int, int, int, int, int,\n",
    "]\n",
    "\"\"\"\n",
    "A type alias for the tuple representing the inputs into the neural network\n",
    "for a single player at the given gamestate\n",
    "\"\"\"\n",
    "\n",
    "NN_5TUPLE = Tuple[NN_TUPLE, NN_TUPLE, NN_TUPLE, NN_TUPLE, NN_TUPLE]\n",
    "\"\"\"\n",
    "A type alias for the tuple representing the vector of 5 inputs into the neural network for the given gamestate.\n",
    "Yes, it's literally just a tuple of 5 NN_TUPLES.\n",
    "\"\"\"\n",
    "\n",
    "HSD_TUPLE = Tuple[float, float, float, float, float]\n",
    "\"\"\"\n",
    "A type alias for the heuristic suspicion dict return values\n",
    "Yes, it's a tuple of 5 floats. But you'll probably be seeing it a lot.\n",
    "\"\"\"\n",
    "\n",
    "LABEL_TUPLE= Tuple[int, int, int, int, int]\n",
    "\"\"\"\n",
    "This is a type alias for the one-hot encoded spy vector, which is effectively being used as the label when testing the\n",
    "neural network.\n",
    "\"\"\"\n",
    "\n",
    "GAMESTATE_DICT_DATA = Union[Tuple[NN_5TUPLE], Tuple[HSD_TUPLE], LABEL_TUPLE]\n",
    "\"\"\"\n",
    "A type alias for the actual data held in the keys of the dictionaries that will be decoded from the JSON\n",
    "in the logs\n",
    "\"\"\"\n",
    "\n",
    "GAMESTATE_DICT = Dict[str, GAMESTATE_DICT_DATA]\n",
    "\"\"\"\n",
    "A type alias for the dictionaries themselves that need to be read from the JSON.\n",
    "\"\"\"\n",
    "\n",
    "IND_GS_DATA = Tuple[NN_5TUPLE, LABEL_TUPLE, HSD_TUPLE]\n",
    "\"\"\"\n",
    "a type alias for the data from a single element of a gamestate.\n",
    "\"\"\"\n",
    "\n",
    "\n",
    "IND_GS_NN_LABELS = Tuple[NN_5TUPLE, LABEL_TUPLE]\n",
    "\"\"\"\n",
    "\n",
    "You might currently think that these type aliases were a waste of time. But you'll thank me later.\n",
    "\"\"\"\n"
   ],
   "metadata": {
    "collapsed": false,
    "pycharm": {
     "name": "#%%\n"
    }
   }
  },
  {
   "cell_type": "code",
   "execution_count": 543,
   "outputs": [],
   "source": [
    "\n",
    "class JsonGamestateDictDecoder(object):\n",
    "    \"\"\"\n",
    "    only here because unpickling doesn't work\n",
    "    \"\"\"\n",
    "\n",
    "    def __init__(self, json_strings: Iterable[str]) -> None:\n",
    "        \"\"\"\n",
    "        Attempts to load the iterator of JSON stringed GAMESTATE_DICTs into a tuple of GAMESTATE_DICT objects.\n",
    "        :param json_strings: an iterator of JSON string format GAMESTATE_DICT dictionaries\n",
    "        \"\"\"\n",
    "        # noinspection PyTypeChecker\n",
    "        self._game_records: Tuple[GAMESTATE_DICT] = tuple(\n",
    "            d for d in (\n",
    "                json.loads(j) for j in json_strings\n",
    "            )\n",
    "        )\n",
    "\n",
    "    @property\n",
    "    def get_records(self) -> Tuple[GAMESTATE_DICT]:\n",
    "        \"\"\"\n",
    "        Obtains all of the records held in this PlayerRecordHolder\n",
    "        :return: the list of all the records in this holder (arranged per game)\n",
    "        \"\"\"\n",
    "        return self._game_records\n",
    "\n",
    "    def get_training_set_and_test_set_and_validation_set(\n",
    "            self, training_size: float = 0.4, test_size: float = 0.4\n",
    "    ) -> Tuple[\n",
    "        Tuple[GAMESTATE_DICT],\n",
    "        Tuple[GAMESTATE_DICT],\n",
    "        Tuple[GAMESTATE_DICT],\n",
    "    ]:\n",
    "        \"\"\"\n",
    "        Attempts to create a training set and a validation set from the data we have.\n",
    "        :param training_size: what proportion of our data are we putting into our training set?\n",
    "        :param test_size: what proportion of our data are we putting into our test set?\n",
    "        :return: a tuple with (training set data, test set data, validation set data)\n",
    "        \"\"\"\n",
    "\n",
    "        rec_len: int = len(self._game_records)\n",
    "\n",
    "        training_len: int = int(rec_len * training_size)\n",
    "        test_len: int = int(rec_len * test_size)\n",
    "\n",
    "        tt_len: int = training_len + test_len\n",
    "\n",
    "        val_len: int = rec_len - tt_len\n",
    "\n",
    "        assert training_len > 0\n",
    "        assert test_len > 0\n",
    "        assert val_len > 0\n",
    "\n",
    "        shuffled_all: List[GAMESTATE_DICT] = random.sample(self._game_records, rec_len)\n",
    "\n",
    "        return tuple(shuffled_all[0:training_len]), tuple(shuffled_all[training_len:tt_len]), tuple(shuffled_all[tt_len:rec_len])\n",
    "\n",
    "log_file = open(\"heuristic bayes training data log.log\",\"r\")\n",
    "\n",
    "grh_dec: JsonGamestateDictDecoder = JsonGamestateDictDecoder(log_file)\n",
    "log_file.close()\n",
    "\n",
    "data_sets: Tuple[Tuple[GAMESTATE_DICT], Tuple[GAMESTATE_DICT], Tuple[GAMESTATE_DICT]] = grh_dec.get_training_set_and_test_set_and_validation_set()\n"
   ],
   "metadata": {
    "collapsed": false,
    "pycharm": {
     "name": "#%%\n"
    }
   }
  },
  {
   "cell_type": "code",
   "execution_count": 544,
   "outputs": [],
   "source": [
    "# TODO: make and train a neural network, compare outputs of that\n",
    "# to the heuristic suspicion outputs"
   ],
   "metadata": {
    "collapsed": false,
    "pycharm": {
     "name": "#%%\n"
    }
   }
  },
  {
   "cell_type": "code",
   "execution_count": 545,
   "outputs": [
    {
     "name": "stdout",
     "output_type": "stream",
     "text": [
      "1780\n",
      "1780\n",
      "890\n"
     ]
    }
   ],
   "source": [
    "\n",
    "\n",
    "class DataStore(Iterable[\"DataStore.IndividualDataset\"]):\n",
    "    \"\"\"\n",
    "    A class that basically holds the same data as the list of gamestate dicts, but in a more useful way.\n",
    "    Because this time, it now stores them as IndividualDatasets!\n",
    "    \"\"\"\n",
    "\n",
    "    class IndividualDataset(Iterable[IND_GS_DATA]):\n",
    "        \"\"\"\n",
    "        The dataset for an individual game.\n",
    "\n",
    "        It has an iterator to allow each individual gamestate's gamestate data to be iterated through.\n",
    "        \"\"\"\n",
    "\n",
    "        @classmethod\n",
    "        def from_data_dict(cls, data_dict: GAMESTATE_DICT) -> \"DataStore.IndividualDataset\":\n",
    "            \"\"\"\n",
    "            Use this to construct the class from a GAMESTATE_DICT format dictionary\n",
    "            :param data_dict: the dict of data that we want to turn into an IndividualDataset\n",
    "            :return: an IndividualDataset that represents the data held in the GAMESTATE_DICT\n",
    "            \"\"\"\n",
    "            return DataStore.IndividualDataset(\n",
    "                tuple(data_dict[\"spies\"]), tuple(data_dict[\"nn_in\"]), tuple(data_dict[\"hsd_out\"])\n",
    "            )\n",
    "\n",
    "        def __init__(\n",
    "                self,\n",
    "                labels: LABEL_TUPLE,\n",
    "                nn_inputs: Tuple[NN_5TUPLE],\n",
    "                hsd_outputs: Tuple[HSD_TUPLE]\n",
    "        ):\n",
    "            \"\"\"\n",
    "            Constructs this class to hold the contents of the data_dict in a slightly more managable format\n",
    "            :param data_dict: the unjsoned json log string from the log file produced by the rl18730 bot\n",
    "            \"\"\"\n",
    "            # noinspection PyTypeChecker\n",
    "            self._labels: LABEL_TUPLE = labels\n",
    "\n",
    "            # noinspection PyTypeChecker\n",
    "            self._nn_inputs: Tuple[NN_5TUPLE] = nn_inputs\n",
    "\n",
    "            # noinspection PyTypeChecker\n",
    "            self._hsd_outputs: Tuple[HSD_TUPLE] = hsd_outputs\n",
    "\n",
    "\n",
    "        @property\n",
    "        def labels(self) -> LABEL_TUPLE:\n",
    "            \"\"\"Obtain the label tuple for this individual dataset.\"\"\"\n",
    "            return self._labels\n",
    "\n",
    "        @property\n",
    "        def nn_inputs(self) -> Tuple[NN_5TUPLE]:\n",
    "            \"\"\"Obtain the NN inputs tuple for this individual dataset\"\"\"\n",
    "            return self._nn_inputs\n",
    "\n",
    "        @property\n",
    "        def hsd_outputs(self) -> Tuple[HSD_TUPLE]:\n",
    "            \"\"\"Obtain the heuristic suspicion dict tuple for this individual dataset\"\"\"\n",
    "            return self._hsd_outputs\n",
    "\n",
    "        @property\n",
    "        def training_data_generator(self) -> Iterator[Tuple[np.ndarray, np.ndarray]]:\n",
    "            \"\"\"\n",
    "            A generator that produces all of the possible training data for this individual record\n",
    "            :return: a tuple containing a list of the NN inputs for this state, along with a label tuple for this state.\n",
    "            Each iteration of this generator, the next NN_5TUPLE in the inputs tuple is added to the Iterable[NN_5TUPLE]\n",
    "            in the output.\n",
    "            \"\"\"\n",
    "            inputs: np.ndarray = np.empty(shape=(1,5,20))\n",
    "            for i in self.indices:\n",
    "                inputs = np.concatenate((inputs, np.array((self._nn_inputs[i]))), axis=0)\n",
    "                yield inputs, np.array(self._labels)\n",
    "\n",
    "        @property\n",
    "        def np_inputs_generator(self) -> Iterator[np.ndarray]:\n",
    "            \"\"\"\n",
    "            A generator that's only for the inputs\n",
    "            :return:\n",
    "            \"\"\"\n",
    "            inputs: np.ndarray = np.empty(shape=(1,5,20))\n",
    "            for i in self.indices:\n",
    "                #inputs = np.concatenate((inputs, np.array(tuple(self._nn_inputs[i]))), axis=0)\n",
    "                yield np.array(self._nn_inputs[i])\n",
    "                # np.stack([np.array(inp) for inp in self._nn_inputs[0:i+1]]) #inputs\n",
    "\n",
    "        @property\n",
    "        def simpler_np_inputs_generator(self) -> Iterator[np.ndarray]:\n",
    "            for i in self.indices:\n",
    "                yield np.array(self._nn_inputs[i])\n",
    "                #yield tuple(\n",
    "                #    np.array(t) for t in self._nn_inputs[i]\n",
    "                #)\n",
    "\n",
    "        @property\n",
    "        def tf_ragged_inputs_generator(self) -> Iterator[tf.ragged.constant]:\n",
    "            for i in self.indices:\n",
    "                #inputs = np.concatenate((inputs, np.array(tuple(self._nn_inputs[i]))), axis=0)\n",
    "                yield tf.ragged.constant([np.array(inp) for inp in self._nn_inputs[0:i+1]]) #inputs\n",
    "\n",
    "        @property\n",
    "        def np_ragged_generator(self) -> Iterator[np.ndarray]:\n",
    "            for i in self.indices:\n",
    "                return np.stack([np.array(inp) for inp in self._nn_inputs[0:i+1]])\n",
    "\n",
    "        @property\n",
    "        def np_labels_generator(self) -> Iterator[np.ndarray]:\n",
    "            for i in self.indices:\n",
    "                yield np.array(self.labels)\n",
    "\n",
    "        def simpler_np_inputs_also_labels_generator(self) -> Generator[Tuple[np.ndarray, np.ndarray], None, None]:\n",
    "            for i in self._nn_inputs:\n",
    "                yield np.array(i).T, np.array(self.labels)\n",
    "\n",
    "\n",
    "        def np_inputs_2(self) -> Iterator[np.ndarray]:\n",
    "            for i in self._nn_inputs:\n",
    "                yield np.array(i)\n",
    "\n",
    "        def np_labels_2(self) -> Iterator[np.ndarray]:\n",
    "            for i in self._nn_inputs:\n",
    "                yield np.array(self.labels)\n",
    "\n",
    "\n",
    "\n",
    "        @overload\n",
    "        def __getitem__(self, key: int) -> IND_GS_DATA:\n",
    "            \"\"\"\n",
    "            Overload for getitem when an int is given.\n",
    "            Returns neural network inputs for the nth gamestate,\n",
    "            along with the hsd outputs for the nth gamestate,\n",
    "            accompanied by the labels for the nth gamestate via ind_ds[n]\n",
    "            :param key: nth gamestate (starting at 0).\n",
    "            :return: tuple with that gamestate's neural network inputs, the labels for the neural network input,\n",
    "            and the heuristic suspicion outputs tuple for that gamestate\n",
    "            \"\"\"\n",
    "            pass\n",
    "\n",
    "        @overload\n",
    "        def __getitem__(self, key: slice) -> \"DataStore.IndividualDataset\":\n",
    "            \"\"\"\n",
    "            Overload for getitem when a slice is given\n",
    "            Returns a Dataset.IndividualDataset retaining only the part of nn_inputs and hsd_outputs\n",
    "            described by the slice.\n",
    "            :param key: slice with details about the desired slice.\n",
    "            :return: IND_GS_SLICE_DATA for the given slice info.\n",
    "            \"\"\"\n",
    "            pass\n",
    "\n",
    "        def __getitem__(self, key):\n",
    "            \"\"\"\n",
    "            Makes it easier to get the neural network inputs for the nth gamestate,\n",
    "            along with the hsd outputs for the nth gamestate, accompanied by the labels for the nth gamestate\n",
    "            via ind_ds[n]\n",
    "            :param key: if an int, will obtain the item at nth gamestate (starting at 0).\n",
    "            if a slice, will return a new IndividualDataset, holding only the specified slice of nn_inputs and hsd_outputs\n",
    "            :return: tuple with that gamestate's neural network inputs, the labels for the neural network input,\n",
    "            and the heuristic suspicion outputs tuple for that gamestate\n",
    "            \"\"\"\n",
    "            if type(key) == slice:\n",
    "                return DataStore.IndividualDataset(self.labels, self._nn_inputs[key], self._hsd_outputs[key])\n",
    "            elif type(key) == int:\n",
    "                return self._nn_inputs[key], self._labels, self._hsd_outputs[key]\n",
    "\n",
    "        def __len__(self) -> int:\n",
    "            \"\"\"Helper function to return how many gamestates in total are in this individual dataset\"\"\"\n",
    "            return self._hsd_outputs.__len__()\n",
    "\n",
    "        def __iter__(self) -> Iterator[IND_GS_DATA]:\n",
    "            \"\"\"Helper function to return an iterator to iterate through the data for each gamestate in this dataset\"\"\"\n",
    "            return DataStore.IndividualDataset.IndividualDatasetIterator(self)\n",
    "\n",
    "        @property\n",
    "        def indices(self) -> range:\n",
    "            \"\"\"Returns a range object between 0 and len, giving all valid indices for getitem or slicing etc\"\"\"\n",
    "            return range(0, self._hsd_outputs.__len__())\n",
    "\n",
    "\n",
    "        class IndividualDatasetIterator(Iterator[IND_GS_DATA]):\n",
    "            \"\"\"\n",
    "            An iterator for an IndividualDataset object,\n",
    "            returning the individual gamestate data\n",
    "            (neural network inputs for each player, labels, HSD estimation for each player)\n",
    "            \"\"\"\n",
    "\n",
    "            def __init__(self, i_ds: \"DataStore.IndividualDataset\"):\n",
    "                \"\"\"\n",
    "                Constructor, sets self._i to 0, and obtains a copy of the dataset\n",
    "                :param i_ds: the dataset to iterate through\n",
    "                \"\"\"\n",
    "                self._ds: \"DataStore.IndividualDataset\" = i_ds\n",
    "                self._i: int = 0\n",
    "\n",
    "            def __next__(self) -> IND_GS_DATA:\n",
    "                \"\"\"\n",
    "                Iterates through the individual dataset object,\n",
    "                returning the result of self._ds[self._i] for each value of self._i,\n",
    "                until self._i >= self._ds.len()\n",
    "                :return: individual gamestate data for the current gamestate of the dataset\n",
    "                \"\"\"\n",
    "                if self._i >= self._ds.__len__():\n",
    "                    raise StopIteration\n",
    "                data: IND_GS_DATA = self._ds[self._i]\n",
    "                self._i += 1\n",
    "                return data\n",
    "\n",
    "\n",
    "\n",
    "    def __init__(self, datasets: Tuple[GAMESTATE_DICT]):\n",
    "        \"\"\"\n",
    "        Initialiser for this object\n",
    "        :param datasets: the tuple of GAMESTATE_DICTs that we are turning into IndividualDatasets\n",
    "        \"\"\"\n",
    "        self._datasets: Tuple[DataStore.IndividualDataset] = tuple(\n",
    "            DataStore.IndividualDataset.from_data_dict(d) for d in datasets\n",
    "        )\n",
    "        pass\n",
    "\n",
    "    @property\n",
    "    def datasets(self) -> Tuple[\"DataStore.IndividualDataset\"]:\n",
    "        \"\"\"Obtains the tuple of individualdatasets held within this dataset\"\"\"\n",
    "        return self._datasets\n",
    "\n",
    "    def __len__(self) -> int:\n",
    "        \"\"\"gets the length of the datasets tuple\"\"\"\n",
    "        return self._datasets.__len__()\n",
    "\n",
    "    def __iter__(self) -> Iterator[\"DataStore.IndividualDataset\"]:\n",
    "        \"\"\"generates an iterator through the datasets held within this\"\"\"\n",
    "        return self._datasets.__iter__()\n",
    "\n",
    "    @property\n",
    "    def training_data_generator(self) -> Tuple[np.ndarray, np.ndarray, int]:\n",
    "        \"\"\"Generator that generates training data with labels and batch size to give to the model\"\"\"\n",
    "        inputs: np.ndarray = np.empty(shape=(1,5,20))\n",
    "        labels: np.ndarray = np.empty(shape=(1,5))\n",
    "\n",
    "        for ds in self:\n",
    "            for i_l in ds.training_data_generator:\n",
    "                inputs = np.concatenate((inputs, i_l[0]), axis=0)\n",
    "                labels = np.concatenate((labels, [i_l[1]]), axis=1)\n",
    "        return inputs, labels, labels.shape[1]\n",
    "\n",
    "    @property\n",
    "    def np_inputs_generator(self) -> Generator[np.ndarray, None, None]:\n",
    "        for ind in self:\n",
    "            for i in ind.np_inputs_generator:\n",
    "                yield i\n",
    "\n",
    "    @property\n",
    "    def np_simpler_inputs_generator(self) -> Generator[np.ndarray, None, None]:\n",
    "        for ind in self:\n",
    "            for i in ind.simpler_np_inputs_generator:\n",
    "                yield i\n",
    "\n",
    "    @property\n",
    "    def tf_ragged_inputs_generator(self) ->  tf.ragged.constant:\n",
    "\n",
    "        return tf.ragged.constant(\n",
    "            tuple(ind.np_ragged_generator for ind in self)\n",
    "        )\n",
    "\n",
    "    @property\n",
    "    def np_labels_generator(self) -> Generator[np.ndarray, None, None]:\n",
    "        for ind in self:\n",
    "            for l in ind.np_labels_generator:\n",
    "                yield l\n",
    "\n",
    "\n",
    "    def inputs_and_labels_generator(self) -> Iterator[Tuple[np.ndarray, np.ndarray]]:\n",
    "        for ind in self:\n",
    "            for t in ind.simpler_np_inputs_also_labels_generator():\n",
    "                yield t\n",
    "\n",
    "    def np_inputs_2(self) -> Iterator[np.ndarray]:\n",
    "        for ind in self:\n",
    "            for i in ind.np_inputs_2():\n",
    "                yield i\n",
    "\n",
    "    def np_labels_2(self) -> Iterator[np.ndarray]:\n",
    "        for ind in self:\n",
    "            for i in ind.np_labels_2():\n",
    "                yield i\n",
    "\n",
    "    def np_in_lab_2(self) -> Tuple[List[np.ndarray], List[np.ndarray]]:\n",
    "        return list(self.np_inputs_2()), list(self.np_labels_2())\n",
    "\n",
    "\n",
    "    @staticmethod\n",
    "    def np_gen_stacker(gen: Generator[np.ndarray, None, None]) -> np.ndarray:\n",
    "        \"\"\"\n",
    "        Give this an iterator of ndarrays, and it'll vstack them into a single ndarray\n",
    "        :param gen: generator of stuff we want to stack\n",
    "        :return: stacked contents of that iterator\n",
    "        \"\"\"\n",
    "        return np.stack(list(gen))\n",
    "\n",
    "\n",
    "\n",
    "training_dataset: DataStore = DataStore(data_sets[0])\n",
    "test_dataset: DataStore = DataStore(data_sets[1])\n",
    "validation_dataset: DataStore = DataStore(data_sets[2])\n",
    "\n",
    "print(len(training_dataset))\n",
    "print(len(test_dataset))\n",
    "print(len(validation_dataset))"
   ],
   "metadata": {
    "collapsed": false,
    "pycharm": {
     "name": "#%%\n"
    }
   }
  },
  {
   "cell_type": "code",
   "execution_count": 546,
   "outputs": [],
   "source": [
    "\n",
    "#training_ds: tf.data.Dataset = tf.data.Dataset.from_generator(\n",
    "#    training_dataset.inputs_and_labels_generator(),\n",
    "#    output_signature=Tuple[np.ndarray,np.ndarray]\n",
    "#)\n",
    "\n",
    "\n",
    "# x_train = training_ds.as_numpy_iterator()\n"
   ],
   "metadata": {
    "collapsed": false,
    "pycharm": {
     "name": "#%%\n"
    }
   }
  },
  {
   "cell_type": "code",
   "execution_count": 546,
   "outputs": [],
   "source": [],
   "metadata": {
    "collapsed": false,
    "pycharm": {
     "name": "#%%\n"
    }
   }
  },
  {
   "cell_type": "code",
   "execution_count": 547,
   "outputs": [
    {
     "name": "stdout",
     "output_type": "stream",
     "text": [
      "12699\n"
     ]
    }
   ],
   "source": [
    "x_train = list(training_dataset.np_inputs_2())\n",
    "#training_dataset.tf_ragged_inputs_generator\n",
    "#print(x_train.bounding_shape)\n",
    "#print(x_train.shape)\n",
    "#max_len = 25\n",
    "\n",
    "#x_train = training_dataset.np_simpler_inputs_generator()\n",
    "\n",
    "#print(list(x_train))\n",
    "\n",
    "print(len(list(x_train)))\n",
    "\n"
   ],
   "metadata": {
    "collapsed": false,
    "pycharm": {
     "name": "#%%\n"
    }
   }
  },
  {
   "cell_type": "code",
   "execution_count": 548,
   "outputs": [],
   "source": [
    "y_train = list(training_dataset.np_labels_2())"
   ],
   "metadata": {
    "collapsed": false,
    "pycharm": {
     "name": "#%%\n"
    }
   }
  },
  {
   "cell_type": "code",
   "execution_count": 549,
   "outputs": [
    {
     "name": "stdout",
     "output_type": "stream",
     "text": [
      "12699\n"
     ]
    }
   ],
   "source": [
    "train_len = len(list(x_train))\n",
    "print(train_len)"
   ],
   "metadata": {
    "collapsed": false,
    "pycharm": {
     "name": "#%%\n"
    }
   }
  },
  {
   "cell_type": "code",
   "execution_count": 550,
   "outputs": [
    {
     "name": "stdout",
     "output_type": "stream",
     "text": [
      "<bound method Model.summary of <tensorflow.python.keras.engine.sequential.Sequential object at 0x000001ACA6914220>>\n"
     ]
    }
   ],
   "source": [
    "the_model: keras.Model = keras.Sequential(name=\"rnn_predictor_model\")\n",
    "\n",
    "#f_sequence = Input(shape=(x_train.shape[0], 25))\n",
    "\n",
    "#layer_1: layers.LSTM = layers.LSTM(40, activation=\"tanh\", time_major=True, stateful=False)\n",
    "# layer_1: layers.Dense\n",
    "#inputs: layers.InputLayer = layers.InputLayer(input_shape=(20,5,))\n",
    "layer_2: layers.Dense = layers.Dense(40, activation=keras.activations.relu,input_shape=(20,))\n",
    "layer_3: layers.Dense = layers.Dense(20, activation=keras.activations.relu,input_shape=(40,))\n",
    "layer_4: layers.Dense = layers.Dense(10, activation=keras.activations.relu,input_shape=(20,))\n",
    "sm_layer: layers.Dense = layers.Dense(1, activation=keras.activations.relu, input_shape=(10,))\n",
    "\n",
    "#the_model.add(layer_1)\n",
    "#the_model.add(inputs)\n",
    "the_model.add(layer_2)\n",
    "the_model.add(layer_3)\n",
    "the_model.add(layer_4)\n",
    "the_model.add(sm_layer)\n",
    "\n",
    "print(the_model.summary)"
   ],
   "metadata": {
    "collapsed": false,
    "pycharm": {
     "name": "#%%\n"
    }
   }
  },
  {
   "cell_type": "code",
   "execution_count": 551,
   "outputs": [],
   "source": [
    "eta = 0.01\n",
    "\n",
    "epochs = 400"
   ],
   "metadata": {
    "collapsed": false,
    "pycharm": {
     "name": "#%%\n"
    }
   }
  },
  {
   "cell_type": "code",
   "execution_count": 552,
   "outputs": [],
   "source": [
    "the_model.compile(\n",
    "    optimizer = keras.optimizers.Adam(eta),\n",
    "    loss = keras.losses.MeanSquaredError(),\n",
    "    metrics = \"accuracy\"\n",
    ")\n"
   ],
   "metadata": {
    "collapsed": false,
    "pycharm": {
     "name": "#%%\n"
    }
   }
  },
  {
   "cell_type": "code",
   "execution_count": 553,
   "outputs": [
    {
     "name": "stdout",
     "output_type": "stream",
     "text": [
      "(12699, 5, 20)\n",
      "[[ 0.5        -0.33333333  0.5        -0.33333333  1.          0.\n",
      "   0.          0.          0.          0.          0.          0.\n",
      "   1.          1.          0.          0.          0.          0.\n",
      "   0.          0.        ]\n",
      " [-0.33333333 -0.33333333 -0.33333333 -0.33333333  0.33333333  0.\n",
      "   1.          0.          0.          0.          0.          0.\n",
      "   0.          0.          0.          0.          0.          0.\n",
      "   0.          0.        ]\n",
      " [-0.33333333 -0.33333333 -0.33333333 -0.33333333  0.25        0.\n",
      "   1.          0.          0.          0.          0.          0.\n",
      "   0.          0.          0.          0.          0.          0.\n",
      "   0.          0.        ]\n",
      " [-0.33333333 -0.33333333 -0.33333333 -0.33333333  0.4         0.\n",
      "   1.          0.          0.          0.          0.          0.\n",
      "   0.          0.          0.          0.          0.          0.\n",
      "   0.          0.        ]\n",
      " [ 0.5        -0.33333333 -0.33333333 -0.33333333  0.5         0.\n",
      "   1.          0.          0.          0.          0.          0.\n",
      "   0.          0.          0.          0.          0.          0.\n",
      "   0.          0.        ]]\n",
      "(12699, 5, 20)\n",
      "(12699, 5, 20)\n",
      "[[[ 0.5        -0.33333333  0.5        ...  0.          0.\n",
      "    0.        ]\n",
      "  [-0.33333333 -0.33333333 -0.33333333 ...  0.          0.\n",
      "    0.        ]\n",
      "  [-0.33333333 -0.33333333 -0.33333333 ...  0.          0.\n",
      "    0.        ]\n",
      "  [-0.33333333 -0.33333333 -0.33333333 ...  0.          0.\n",
      "    0.        ]\n",
      "  [ 0.5        -0.33333333 -0.33333333 ...  0.          0.\n",
      "    0.        ]]\n",
      "\n",
      " [[ 0.5        -0.33333333  0.5        ...  0.          0.\n",
      "    0.        ]\n",
      "  [-0.33333333 -0.33333333 -0.33333333 ...  0.          0.\n",
      "    0.        ]\n",
      "  [-0.33333333 -0.33333333 -0.33333333 ...  0.          0.\n",
      "    0.        ]\n",
      "  [-0.33333333 -0.33333333 -0.33333333 ...  0.          0.\n",
      "    0.        ]\n",
      "  [ 0.5        -0.33333333 -0.33333333 ...  0.          0.\n",
      "    0.        ]]\n",
      "\n",
      " [[ 0.5        -0.33333333  0.5        ...  0.          0.\n",
      "    0.        ]\n",
      "  [-0.33333333 -0.33333333 -0.33333333 ...  0.          0.\n",
      "    0.        ]\n",
      "  [-0.33333333 -0.33333333 -0.33333333 ...  0.          0.\n",
      "    0.        ]\n",
      "  [-0.33333333 -0.33333333 -0.33333333 ...  0.          0.\n",
      "    0.        ]\n",
      "  [ 0.5        -0.33333333 -0.33333333 ...  0.          0.\n",
      "    0.        ]]\n",
      "\n",
      " ...\n",
      "\n",
      " [[-0.33333333 -0.33333333  0.5        ...  0.          0.\n",
      "    0.        ]\n",
      "  [-0.33333333 -0.375      -0.33333333 ...  0.          0.\n",
      "    0.        ]\n",
      "  [-0.41666667 -0.38888889 -0.38888889 ...  0.          0.\n",
      "    0.        ]\n",
      "  [ 0.5        -0.33333333 -0.41666667 ...  0.          0.\n",
      "    0.        ]\n",
      "  [-0.33333333 -0.33333333 -0.33333333 ...  0.          0.\n",
      "    0.        ]]\n",
      "\n",
      " [[-0.33333333 -0.33333333  0.5        ...  0.          0.\n",
      "    0.        ]\n",
      "  [-0.33333333 -0.375      -0.33333333 ...  0.          0.\n",
      "    0.        ]\n",
      "  [-0.41666667 -0.38888889 -0.38888889 ...  0.          0.\n",
      "    0.        ]\n",
      "  [ 0.5        -0.33333333 -0.41666667 ...  0.          0.\n",
      "    0.        ]\n",
      "  [-0.33333333 -0.33333333 -0.33333333 ...  0.          0.\n",
      "    0.        ]]\n",
      "\n",
      " [[-0.33333333 -0.33333333  0.5        ...  0.          0.\n",
      "    0.        ]\n",
      "  [-0.33333333 -0.375      -0.33333333 ...  0.          0.\n",
      "    0.        ]\n",
      "  [-0.41666667 -0.38888889 -0.38888889 ...  0.          0.\n",
      "    0.        ]\n",
      "  [ 0.5        -0.33333333 -0.41666667 ...  0.          0.\n",
      "    0.        ]\n",
      "  [-0.33333333 -0.33333333 -0.33333333 ...  0.          0.\n",
      "    0.        ]]]\n"
     ]
    }
   ],
   "source": [
    "np_x = np.array(x_train)\n",
    "\n",
    "print(np_x.shape)\n",
    "print(np_x[0])\n",
    "\n",
    "#np_x = np.swapaxes(np_x, 1,2)\n",
    "print(np_x.shape)\n",
    "#print(np_x[0])\n",
    "#np_x = np.swapaxes(np_x, 2,0)\n",
    "\n",
    "\n",
    "#np_x = np_x.reshape(np_x.shape[0]*np_x.shape[1], np_x.shape[2])\n",
    "\n",
    "print(np_x.shape)\n",
    "\n",
    "print(np_x)\n",
    "\n",
    "\n"
   ],
   "metadata": {
    "collapsed": false,
    "pycharm": {
     "name": "#%%\n"
    }
   }
  },
  {
   "cell_type": "code",
   "execution_count": 554,
   "outputs": [
    {
     "name": "stdout",
     "output_type": "stream",
     "text": [
      "(12699, 5)\n",
      "[[0]\n",
      " [0]\n",
      " [1]\n",
      " [1]\n",
      " [0]]\n",
      "(12699, 5, 1)\n"
     ]
    }
   ],
   "source": [
    "np_y = np.array(y_train)\n",
    "\n",
    "print(np_y.shape)\n",
    "\n",
    "np_y = np.reshape(np_y, (np_y.shape[0], np_y.shape[1], 1))\n",
    "\n",
    "print(np_y[0])\n",
    "print(np_y.shape)"
   ],
   "metadata": {
    "collapsed": false,
    "pycharm": {
     "name": "#%%\n"
    }
   }
  },
  {
   "cell_type": "code",
   "execution_count": 555,
   "outputs": [
    {
     "name": "stdout",
     "output_type": "stream",
     "text": [
      "WARNING:tensorflow:Model was constructed with shape (None, 20) for input KerasTensor(type_spec=TensorSpec(shape=(None, 20), dtype=tf.float32, name='dense_132_input'), name='dense_132_input', description=\"created by layer 'dense_132_input'\"), but it was called on an input with incompatible shape (12699, 5, 20).\n",
      "WARNING:tensorflow:Model was constructed with shape (None, 20) for input KerasTensor(type_spec=TensorSpec(shape=(None, 20), dtype=tf.float32, name='dense_132_input'), name='dense_132_input', description=\"created by layer 'dense_132_input'\"), but it was called on an input with incompatible shape (12699, 5, 20).\n"
     ]
    }
   ],
   "source": [
    "\n",
    "history = the_model.fit(\n",
    "    np_x,\n",
    "    np_y,\n",
    "    train_len,\n",
    "    epochs = 1000,\n",
    "    verbose = 0\n",
    ")\n"
   ],
   "metadata": {
    "collapsed": false,
    "pycharm": {
     "name": "#%%\n"
    }
   }
  },
  {
   "cell_type": "code",
   "execution_count": 556,
   "outputs": [
    {
     "name": "stdout",
     "output_type": "stream",
     "text": [
      "[[ 0.5        -0.33333333  0.5        -0.33333333  1.          0.\n",
      "   0.          0.          0.          0.          0.          0.\n",
      "   1.          1.          0.          0.          0.          0.\n",
      "   0.          0.        ]\n",
      " [-0.33333333 -0.33333333 -0.33333333 -0.33333333  0.33333333  0.\n",
      "   1.          0.          0.          0.          0.          0.\n",
      "   0.          0.          0.          0.          0.          0.\n",
      "   0.          0.        ]\n",
      " [-0.33333333 -0.33333333 -0.33333333 -0.33333333  0.25        0.\n",
      "   1.          0.          0.          0.          0.          0.\n",
      "   0.          0.          0.          0.          0.          0.\n",
      "   0.          0.        ]\n",
      " [-0.33333333 -0.33333333 -0.33333333 -0.33333333  0.4         0.\n",
      "   1.          0.          0.          0.          0.          0.\n",
      "   0.          0.          0.          0.          0.          0.\n",
      "   0.          0.        ]\n",
      " [ 0.5        -0.33333333 -0.33333333 -0.33333333  0.5         0.\n",
      "   1.          0.          0.          0.          0.          0.\n",
      "   0.          0.          0.          0.          0.          0.\n",
      "   0.          0.        ]] [0 0 1 1 0]\n",
      "[[ 0.5        -0.33333333  0.5        -0.33333333  1.          0.\n",
      "   0.          0.          0.          0.          0.          0.\n",
      "   1.          1.          0.          0.          0.          0.\n",
      "   0.          0.        ]\n",
      " [-0.33333333 -0.33333333 -0.33333333 -0.33333333  0.33333333  0.\n",
      "   1.          0.          0.          0.          0.          0.\n",
      "   0.          0.          0.          0.          0.          0.\n",
      "   0.          0.        ]\n",
      " [-0.33333333 -0.33333333 -0.33333333 -0.33333333  0.25        0.\n",
      "   1.          0.          0.          0.          0.          0.\n",
      "   0.          0.          0.          0.          0.          0.\n",
      "   0.          0.        ]\n",
      " [-0.33333333 -0.33333333 -0.33333333 -0.33333333  0.4         0.\n",
      "   1.          0.          0.          0.          0.          0.\n",
      "   0.          0.          0.          0.          0.          0.\n",
      "   0.          0.        ]\n",
      " [ 0.5        -0.33333333 -0.33333333 -0.33333333  0.5         0.\n",
      "   1.          0.          0.          0.          0.          0.\n",
      "   0.          0.          0.          0.          0.          0.\n",
      "   0.          0.        ]] [[0.        ]\n",
      " [0.4120946 ]\n",
      " [0.47093767]\n",
      " [0.41079748]\n",
      " [0.4064436 ]]\n"
     ]
    },
    {
     "data": {
      "text/plain": "<matplotlib.legend.Legend at 0x1ac9ec685e0>"
     },
     "execution_count": 556,
     "metadata": {},
     "output_type": "execute_result"
    },
    {
     "data": {
      "text/plain": "<Figure size 432x288 with 1 Axes>",
      "image/png": "[encoded data removed]"
     },
     "metadata": {
      "needs_background": "light"
     },
     "output_type": "display_data"
    }
   ],
   "source": [
    "print(\"{} {}\".format(np_x[5], np_y[5].ravel()))\n",
    "print(\"{} {}\".format(np_x[5], the_model(np_x[5]).numpy()))\n",
    "\n",
    "plt.plot(np_x[4], np_y[4].ravel(), label = \"targets\")\n",
    "plt.plot(np_x[4], the_model(np_x[4]).numpy(),label=\"model output\")\n",
    "plt.legend()\n"
   ],
   "metadata": {
    "collapsed": false,
    "pycharm": {
     "name": "#%%\n"
    }
   }
  }
 ],
 "metadata": {
  "kernelspec": {
   "display_name": "Python 3",
   "language": "python",
   "name": "python3"
  },
  "language_info": {
   "codemirror_mode": {
    "name": "ipython",
    "version": 2
   },
   "file_extension": ".py",
   "mimetype": "text/x-python",
   "name": "python",
   "nbconvert_exporter": "python",
   "pygments_lexer": "ipython2",
   "version": "2.7.6"
  }
 },
 "nbformat": 4,
 "nbformat_minor": 0
}